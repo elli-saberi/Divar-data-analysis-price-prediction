{
  "nbformat": 4,
  "nbformat_minor": 0,
  "metadata": {
    "colab": {
      "provenance": [],
      "authorship_tag": "ABX9TyO5uIbyIf4xjr2E4e8kewv+",
      "include_colab_link": true
    },
    "kernelspec": {
      "name": "python3",
      "display_name": "Python 3"
    },
    "language_info": {
      "name": "python"
    }
  },
  "cells": [
    {
      "cell_type": "markdown",
      "metadata": {
        "id": "view-in-github",
        "colab_type": "text"
      },
      "source": [
        "<a href=\"https://colab.research.google.com/github/majiddaeinejad/quera-ai-bootcamp-divar/blob/statistical_analysis/Question_6.ipynb\" target=\"_parent\"><img src=\"https://colab.research.google.com/assets/colab-badge.svg\" alt=\"Open In Colab\"/></a>"
      ]
    },
    {
      "cell_type": "markdown",
      "source": [
        "Setup cell\n",
        "\n"
      ],
      "metadata": {
        "id": "XzDHCl51YSE1"
      }
    },
    {
      "cell_type": "code",
      "source": [
        "!pip install arabic-reshaper python-bidi jdatetime utm --quiet\n",
        "\n",
        "import numpy as np\n",
        "import pandas as pd\n",
        "import seaborn as sns\n",
        "import matplotlib.pyplot as plt\n",
        "from matplotlib import rcParams\n",
        "import arabic_reshaper\n",
        "from bidi.algorithm import get_display\n",
        "import jdatetime\n",
        "\n",
        "import geopandas as gpd\n",
        "from shapely.geometry import Polygon\n",
        "import folium\n",
        "from branca.colormap import StepColormap\n",
        "\n",
        "\n",
        "rcParams['font.family'] = 'DejaVu Sans'\n",
        "\n",
        "def fa_label(text):\n",
        "    return get_display(arabic_reshaper.reshape(text))"
      ],
      "metadata": {
        "id": "R8aLwWUiYZ1O"
      },
      "execution_count": 25,
      "outputs": []
    },
    {
      "cell_type": "code",
      "source": [
        "\n",
        "\n",
        "from google.colab import drive\n",
        "\n",
        "drive.mount('/content/drive', force_remount=True)\n",
        "\n",
        "\n",
        "file_path = '/content/drive/MyDrive/Colab Notebooks/Divar.csv'\n",
        "\n",
        "\n",
        "df = pd.read_csv(file_path , encoding='utf-8')"
      ],
      "metadata": {
        "colab": {
          "base_uri": "https://localhost:8080/"
        },
        "id": "PQu5wb2eYfFk",
        "outputId": "c9b4deb4-5652-4246-bd9b-dd5780d47e12"
      },
      "execution_count": 26,
      "outputs": [
        {
          "output_type": "stream",
          "name": "stdout",
          "text": [
            "Mounted at /content/drive\n"
          ]
        },
        {
          "output_type": "stream",
          "name": "stderr",
          "text": [
            "/tmp/ipython-input-3746982823.py:9: DtypeWarning: Columns (11,27,29,53) have mixed types. Specify dtype option on import or set low_memory=False.\n",
            "  df = pd.read_csv(file_path , encoding='utf-8')\n"
          ]
        }
      ]
    },
    {
      "cell_type": "markdown",
      "source": [
        "ترند میانگین قیمت اجاره بر حسب ماه‌های قرار گرفتن آگهی‌ها رسم کنید.(دقت کنید که ماه‌ها باید به تاریخ شمسی و خوانا باشند.)\n",
        "\n"
      ],
      "metadata": {
        "id": "a8C2K-qEYjsD"
      }
    },
    {
      "cell_type": "code",
      "source": [
        "df = df[df['cat2_slug'] != 'real-estate-services'].copy()\n",
        "\n",
        "\n",
        "ad_type_mapping = {\n",
        "    'residential-sell': 'Sale',\n",
        "    'residential-rent': 'Rent',\n",
        "    'commercial-rent': 'Rent',\n",
        "    'commercial-sell': 'Sale',\n",
        "    'temporary-rent': 'Rent'\n",
        "}\n",
        "df['ad_type'] = df['cat2_slug'].map(ad_type_mapping)\n",
        "\n",
        "print(df['ad_type'].value_counts())"
      ],
      "metadata": {
        "colab": {
          "base_uri": "https://localhost:8080/"
        },
        "id": "cd8d4lCXYyQM",
        "outputId": "02235c0b-8f8d-4b5c-8363-1994b43b0784"
      },
      "execution_count": 27,
      "outputs": [
        {
          "output_type": "stream",
          "name": "stdout",
          "text": [
            "ad_type\n",
            "Sale    597569\n",
            "Rent    383028\n",
            "Name: count, dtype: int64\n"
          ]
        }
      ]
    },
    {
      "cell_type": "code",
      "source": [
        "df = df[df['ad_type'] == 'Rent']\n",
        "\n",
        "nan_count_rent = df['transformable_rent'].isna().sum()\n",
        "nan_percentage_rent = (nan_count_rent / len(df)) * 100\n",
        "nan_percentage_rent"
      ],
      "metadata": {
        "colab": {
          "base_uri": "https://localhost:8080/"
        },
        "id": "CBFhoeyZYmIk",
        "outputId": "0b48ffd0-9c59-4d2e-be24-520bd6705f5a"
      },
      "execution_count": 28,
      "outputs": [
        {
          "output_type": "execute_result",
          "data": {
            "text/plain": [
              "np.float64(8.297043558173293)"
            ]
          },
          "metadata": {},
          "execution_count": 28
        }
      ]
    },
    {
      "cell_type": "code",
      "source": [
        "df = df.dropna(subset=['transformable_rent'])"
      ],
      "metadata": {
        "id": "pxwcC-v6NMg_"
      },
      "execution_count": 29,
      "outputs": []
    },
    {
      "cell_type": "code",
      "source": [
        "nan_count = df['transformable_rent'].isna().sum()\n",
        "nan_percentage= (nan_count/ len(df)) * 100\n",
        "nan_percentage\n"
      ],
      "metadata": {
        "colab": {
          "base_uri": "https://localhost:8080/"
        },
        "id": "VsFGATVBNioS",
        "outputId": "e6fed6a7-bdc4-4e16-e912-97df2663a061"
      },
      "execution_count": 30,
      "outputs": [
        {
          "output_type": "execute_result",
          "data": {
            "text/plain": [
              "np.float64(0.0)"
            ]
          },
          "metadata": {},
          "execution_count": 30
        }
      ]
    },
    {
      "cell_type": "code",
      "source": [
        "df['created_at_month'] = pd.to_datetime(df['created_at_month'])"
      ],
      "metadata": {
        "id": "5LBN7r3DdR4i"
      },
      "execution_count": 31,
      "outputs": []
    },
    {
      "cell_type": "code",
      "source": [
        "def get_persian_month(date):\n",
        "    jd = jdatetime.datetime.fromgregorian(datetime=date)\n",
        "    months = ['فروردین', 'اردیبهشت', 'خرداد', 'تیر', 'مرداد', 'شهریور',\n",
        "              'مهر', 'آبان', 'آذر', 'دی', 'بهمن', 'اسفند']\n",
        "    return months[jd.month - 1]\n",
        "\n",
        "df['persian_month'] = df['created_at_month'].apply(get_persian_month)\n",
        "month_order = ['فروردین', 'اردیبهشت', 'خرداد', 'تیر', 'مرداد', 'شهریور',\n",
        "               'مهر', 'آبان', 'آذر', 'دی', 'بهمن', 'اسفند']\n",
        "df['persian_month'] = pd.Categorical(df['persian_month'],categories=month_order,ordered=True)\n",
        "\n",
        "monthly_counts = df.groupby(['persian_month', 'ad_type']).size().unstack(fill_value=0)\n",
        "monthly_counts"
      ],
      "metadata": {
        "colab": {
          "base_uri": "https://localhost:8080/",
          "height": 512
        },
        "id": "f4d3YTfcc4X3",
        "outputId": "beb24b9f-90f9-47ef-d5b2-1e2449106098"
      },
      "execution_count": 35,
      "outputs": [
        {
          "output_type": "stream",
          "name": "stderr",
          "text": [
            "/tmp/ipython-input-2906238401.py:12: FutureWarning: The default of observed=False is deprecated and will be changed to True in a future version of pandas. Pass observed=False to retain current behavior or observed=True to adopt the future default and silence this warning.\n",
            "  monthly_counts = df.groupby(['persian_month', 'ad_type']).size().unstack(fill_value=0)\n"
          ]
        },
        {
          "output_type": "execute_result",
          "data": {
            "text/plain": [
              "ad_type         Rent\n",
              "persian_month       \n",
              "فروردین          939\n",
              "اردیبهشت       31127\n",
              "خرداد          46822\n",
              "تیر            51134\n",
              "مرداد          52315\n",
              "شهریور         46978\n",
              "مهر            45884\n",
              "آبان           39541\n",
              "آذر            36016\n",
              "دی               318\n",
              "بهمن              73\n",
              "اسفند            101"
            ],
            "text/html": [
              "\n",
              "  <div id=\"df-ddb8e76b-4fba-4a96-bc11-136598ef2b0c\" class=\"colab-df-container\">\n",
              "    <div>\n",
              "<style scoped>\n",
              "    .dataframe tbody tr th:only-of-type {\n",
              "        vertical-align: middle;\n",
              "    }\n",
              "\n",
              "    .dataframe tbody tr th {\n",
              "        vertical-align: top;\n",
              "    }\n",
              "\n",
              "    .dataframe thead th {\n",
              "        text-align: right;\n",
              "    }\n",
              "</style>\n",
              "<table border=\"1\" class=\"dataframe\">\n",
              "  <thead>\n",
              "    <tr style=\"text-align: right;\">\n",
              "      <th>ad_type</th>\n",
              "      <th>Rent</th>\n",
              "    </tr>\n",
              "    <tr>\n",
              "      <th>persian_month</th>\n",
              "      <th></th>\n",
              "    </tr>\n",
              "  </thead>\n",
              "  <tbody>\n",
              "    <tr>\n",
              "      <th>فروردین</th>\n",
              "      <td>939</td>\n",
              "    </tr>\n",
              "    <tr>\n",
              "      <th>اردیبهشت</th>\n",
              "      <td>31127</td>\n",
              "    </tr>\n",
              "    <tr>\n",
              "      <th>خرداد</th>\n",
              "      <td>46822</td>\n",
              "    </tr>\n",
              "    <tr>\n",
              "      <th>تیر</th>\n",
              "      <td>51134</td>\n",
              "    </tr>\n",
              "    <tr>\n",
              "      <th>مرداد</th>\n",
              "      <td>52315</td>\n",
              "    </tr>\n",
              "    <tr>\n",
              "      <th>شهریور</th>\n",
              "      <td>46978</td>\n",
              "    </tr>\n",
              "    <tr>\n",
              "      <th>مهر</th>\n",
              "      <td>45884</td>\n",
              "    </tr>\n",
              "    <tr>\n",
              "      <th>آبان</th>\n",
              "      <td>39541</td>\n",
              "    </tr>\n",
              "    <tr>\n",
              "      <th>آذر</th>\n",
              "      <td>36016</td>\n",
              "    </tr>\n",
              "    <tr>\n",
              "      <th>دی</th>\n",
              "      <td>318</td>\n",
              "    </tr>\n",
              "    <tr>\n",
              "      <th>بهمن</th>\n",
              "      <td>73</td>\n",
              "    </tr>\n",
              "    <tr>\n",
              "      <th>اسفند</th>\n",
              "      <td>101</td>\n",
              "    </tr>\n",
              "  </tbody>\n",
              "</table>\n",
              "</div>\n",
              "    <div class=\"colab-df-buttons\">\n",
              "\n",
              "  <div class=\"colab-df-container\">\n",
              "    <button class=\"colab-df-convert\" onclick=\"convertToInteractive('df-ddb8e76b-4fba-4a96-bc11-136598ef2b0c')\"\n",
              "            title=\"Convert this dataframe to an interactive table.\"\n",
              "            style=\"display:none;\">\n",
              "\n",
              "  <svg xmlns=\"http://www.w3.org/2000/svg\" height=\"24px\" viewBox=\"0 -960 960 960\">\n",
              "    <path d=\"M120-120v-720h720v720H120Zm60-500h600v-160H180v160Zm220 220h160v-160H400v160Zm0 220h160v-160H400v160ZM180-400h160v-160H180v160Zm440 0h160v-160H620v160ZM180-180h160v-160H180v160Zm440 0h160v-160H620v160Z\"/>\n",
              "  </svg>\n",
              "    </button>\n",
              "\n",
              "  <style>\n",
              "    .colab-df-container {\n",
              "      display:flex;\n",
              "      gap: 12px;\n",
              "    }\n",
              "\n",
              "    .colab-df-convert {\n",
              "      background-color: #E8F0FE;\n",
              "      border: none;\n",
              "      border-radius: 50%;\n",
              "      cursor: pointer;\n",
              "      display: none;\n",
              "      fill: #1967D2;\n",
              "      height: 32px;\n",
              "      padding: 0 0 0 0;\n",
              "      width: 32px;\n",
              "    }\n",
              "\n",
              "    .colab-df-convert:hover {\n",
              "      background-color: #E2EBFA;\n",
              "      box-shadow: 0px 1px 2px rgba(60, 64, 67, 0.3), 0px 1px 3px 1px rgba(60, 64, 67, 0.15);\n",
              "      fill: #174EA6;\n",
              "    }\n",
              "\n",
              "    .colab-df-buttons div {\n",
              "      margin-bottom: 4px;\n",
              "    }\n",
              "\n",
              "    [theme=dark] .colab-df-convert {\n",
              "      background-color: #3B4455;\n",
              "      fill: #D2E3FC;\n",
              "    }\n",
              "\n",
              "    [theme=dark] .colab-df-convert:hover {\n",
              "      background-color: #434B5C;\n",
              "      box-shadow: 0px 1px 3px 1px rgba(0, 0, 0, 0.15);\n",
              "      filter: drop-shadow(0px 1px 2px rgba(0, 0, 0, 0.3));\n",
              "      fill: #FFFFFF;\n",
              "    }\n",
              "  </style>\n",
              "\n",
              "    <script>\n",
              "      const buttonEl =\n",
              "        document.querySelector('#df-ddb8e76b-4fba-4a96-bc11-136598ef2b0c button.colab-df-convert');\n",
              "      buttonEl.style.display =\n",
              "        google.colab.kernel.accessAllowed ? 'block' : 'none';\n",
              "\n",
              "      async function convertToInteractive(key) {\n",
              "        const element = document.querySelector('#df-ddb8e76b-4fba-4a96-bc11-136598ef2b0c');\n",
              "        const dataTable =\n",
              "          await google.colab.kernel.invokeFunction('convertToInteractive',\n",
              "                                                    [key], {});\n",
              "        if (!dataTable) return;\n",
              "\n",
              "        const docLinkHtml = 'Like what you see? Visit the ' +\n",
              "          '<a target=\"_blank\" href=https://colab.research.google.com/notebooks/data_table.ipynb>data table notebook</a>'\n",
              "          + ' to learn more about interactive tables.';\n",
              "        element.innerHTML = '';\n",
              "        dataTable['output_type'] = 'display_data';\n",
              "        await google.colab.output.renderOutput(dataTable, element);\n",
              "        const docLink = document.createElement('div');\n",
              "        docLink.innerHTML = docLinkHtml;\n",
              "        element.appendChild(docLink);\n",
              "      }\n",
              "    </script>\n",
              "  </div>\n",
              "\n",
              "\n",
              "    <div id=\"df-421ef75a-7b33-41b3-8b10-1c26ab495551\">\n",
              "      <button class=\"colab-df-quickchart\" onclick=\"quickchart('df-421ef75a-7b33-41b3-8b10-1c26ab495551')\"\n",
              "                title=\"Suggest charts\"\n",
              "                style=\"display:none;\">\n",
              "\n",
              "<svg xmlns=\"http://www.w3.org/2000/svg\" height=\"24px\"viewBox=\"0 0 24 24\"\n",
              "     width=\"24px\">\n",
              "    <g>\n",
              "        <path d=\"M19 3H5c-1.1 0-2 .9-2 2v14c0 1.1.9 2 2 2h14c1.1 0 2-.9 2-2V5c0-1.1-.9-2-2-2zM9 17H7v-7h2v7zm4 0h-2V7h2v10zm4 0h-2v-4h2v4z\"/>\n",
              "    </g>\n",
              "</svg>\n",
              "      </button>\n",
              "\n",
              "<style>\n",
              "  .colab-df-quickchart {\n",
              "      --bg-color: #E8F0FE;\n",
              "      --fill-color: #1967D2;\n",
              "      --hover-bg-color: #E2EBFA;\n",
              "      --hover-fill-color: #174EA6;\n",
              "      --disabled-fill-color: #AAA;\n",
              "      --disabled-bg-color: #DDD;\n",
              "  }\n",
              "\n",
              "  [theme=dark] .colab-df-quickchart {\n",
              "      --bg-color: #3B4455;\n",
              "      --fill-color: #D2E3FC;\n",
              "      --hover-bg-color: #434B5C;\n",
              "      --hover-fill-color: #FFFFFF;\n",
              "      --disabled-bg-color: #3B4455;\n",
              "      --disabled-fill-color: #666;\n",
              "  }\n",
              "\n",
              "  .colab-df-quickchart {\n",
              "    background-color: var(--bg-color);\n",
              "    border: none;\n",
              "    border-radius: 50%;\n",
              "    cursor: pointer;\n",
              "    display: none;\n",
              "    fill: var(--fill-color);\n",
              "    height: 32px;\n",
              "    padding: 0;\n",
              "    width: 32px;\n",
              "  }\n",
              "\n",
              "  .colab-df-quickchart:hover {\n",
              "    background-color: var(--hover-bg-color);\n",
              "    box-shadow: 0 1px 2px rgba(60, 64, 67, 0.3), 0 1px 3px 1px rgba(60, 64, 67, 0.15);\n",
              "    fill: var(--button-hover-fill-color);\n",
              "  }\n",
              "\n",
              "  .colab-df-quickchart-complete:disabled,\n",
              "  .colab-df-quickchart-complete:disabled:hover {\n",
              "    background-color: var(--disabled-bg-color);\n",
              "    fill: var(--disabled-fill-color);\n",
              "    box-shadow: none;\n",
              "  }\n",
              "\n",
              "  .colab-df-spinner {\n",
              "    border: 2px solid var(--fill-color);\n",
              "    border-color: transparent;\n",
              "    border-bottom-color: var(--fill-color);\n",
              "    animation:\n",
              "      spin 1s steps(1) infinite;\n",
              "  }\n",
              "\n",
              "  @keyframes spin {\n",
              "    0% {\n",
              "      border-color: transparent;\n",
              "      border-bottom-color: var(--fill-color);\n",
              "      border-left-color: var(--fill-color);\n",
              "    }\n",
              "    20% {\n",
              "      border-color: transparent;\n",
              "      border-left-color: var(--fill-color);\n",
              "      border-top-color: var(--fill-color);\n",
              "    }\n",
              "    30% {\n",
              "      border-color: transparent;\n",
              "      border-left-color: var(--fill-color);\n",
              "      border-top-color: var(--fill-color);\n",
              "      border-right-color: var(--fill-color);\n",
              "    }\n",
              "    40% {\n",
              "      border-color: transparent;\n",
              "      border-right-color: var(--fill-color);\n",
              "      border-top-color: var(--fill-color);\n",
              "    }\n",
              "    60% {\n",
              "      border-color: transparent;\n",
              "      border-right-color: var(--fill-color);\n",
              "    }\n",
              "    80% {\n",
              "      border-color: transparent;\n",
              "      border-right-color: var(--fill-color);\n",
              "      border-bottom-color: var(--fill-color);\n",
              "    }\n",
              "    90% {\n",
              "      border-color: transparent;\n",
              "      border-bottom-color: var(--fill-color);\n",
              "    }\n",
              "  }\n",
              "</style>\n",
              "\n",
              "      <script>\n",
              "        async function quickchart(key) {\n",
              "          const quickchartButtonEl =\n",
              "            document.querySelector('#' + key + ' button');\n",
              "          quickchartButtonEl.disabled = true;  // To prevent multiple clicks.\n",
              "          quickchartButtonEl.classList.add('colab-df-spinner');\n",
              "          try {\n",
              "            const charts = await google.colab.kernel.invokeFunction(\n",
              "                'suggestCharts', [key], {});\n",
              "          } catch (error) {\n",
              "            console.error('Error during call to suggestCharts:', error);\n",
              "          }\n",
              "          quickchartButtonEl.classList.remove('colab-df-spinner');\n",
              "          quickchartButtonEl.classList.add('colab-df-quickchart-complete');\n",
              "        }\n",
              "        (() => {\n",
              "          let quickchartButtonEl =\n",
              "            document.querySelector('#df-421ef75a-7b33-41b3-8b10-1c26ab495551 button');\n",
              "          quickchartButtonEl.style.display =\n",
              "            google.colab.kernel.accessAllowed ? 'block' : 'none';\n",
              "        })();\n",
              "      </script>\n",
              "    </div>\n",
              "    </div>\n",
              "  </div>\n"
            ],
            "application/vnd.google.colaboratory.intrinsic+json": {
              "type": "dataframe",
              "variable_name": "monthly_counts",
              "summary": "{\n  \"name\": \"monthly_counts\",\n  \"rows\": 12,\n  \"fields\": [\n    {\n      \"column\": \"persian_month\",\n      \"properties\": {\n        \"dtype\": \"category\",\n        \"num_unique_values\": 12,\n        \"samples\": [\n          \"\\u0628\\u0647\\u0645\\u0646\",\n          \"\\u062f\\u06cc\",\n          \"\\u0641\\u0631\\u0648\\u0631\\u062f\\u06cc\\u0646\"\n        ],\n        \"semantic_type\": \"\",\n        \"description\": \"\"\n      }\n    },\n    {\n      \"column\": \"Rent\",\n      \"properties\": {\n        \"dtype\": \"number\",\n        \"std\": 22167,\n        \"min\": 73,\n        \"max\": 52315,\n        \"num_unique_values\": 12,\n        \"samples\": [\n          73,\n          318,\n          939\n        ],\n        \"semantic_type\": \"\",\n        \"description\": \"\"\n      }\n    }\n  ]\n}"
            }
          },
          "metadata": {},
          "execution_count": 35
        }
      ]
    },
    {
      "cell_type": "code",
      "source": [
        "monthly_avg_rent = (\n",
        "           df.groupby('persian_month')['transformable_rent']\n",
        "           .mean()\n",
        "           .reset_index()\n",
        ")\n",
        "\n",
        "\n",
        "plt.figure(figsize=(10, 5))\n",
        "plt.plot(\n",
        "    monthly_avg_rent['persian_month'],\n",
        "    monthly_avg_rent['transformable_rent'],\n",
        "    marker='o',\n",
        "    color='royalblue'\n",
        ")\n",
        "\n",
        "plt.title(fa_label('ترند میانگین قیمت اجاره بر حسب ماه'), fontsize=14)\n",
        "plt.xlabel(fa_label('ماه'))\n",
        "plt.ylabel(fa_label('میانگین اجاره'))\n",
        "plt.xticks(\n",
        "    ticks=range(len(monthly_avg_rent)),\n",
        "    labels=[fa_label(m) for m in monthly_avg_rent['persian_month']]\n",
        ")\n",
        "plt.grid(True, linestyle='--', alpha=0.7)\n",
        "plt.tight_layout()\n",
        "plt.show()\n"
      ],
      "metadata": {
        "colab": {
          "base_uri": "https://localhost:8080/",
          "height": 562
        },
        "id": "G9rKyY4_Y1CL",
        "outputId": "1ae1910d-bfd4-4850-d673-3b6b720f48bf"
      },
      "execution_count": 33,
      "outputs": [
        {
          "output_type": "stream",
          "name": "stderr",
          "text": [
            "/tmp/ipython-input-1880413470.py:2: FutureWarning: The default of observed=False is deprecated and will be changed to True in a future version of pandas. Pass observed=False to retain current behavior or observed=True to adopt the future default and silence this warning.\n",
            "  df.groupby('persian_month')['transformable_rent']\n"
          ]
        },
        {
          "output_type": "display_data",
          "data": {
            "text/plain": [
              "<Figure size 1000x500 with 1 Axes>"
            ],
            "image/png": "[encoded data removed]"
          },
          "metadata": {}
        }
      ]
    }
  ]
}