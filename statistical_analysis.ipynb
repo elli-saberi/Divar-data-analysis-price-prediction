{
  "cells": [
    {
      "cell_type": "markdown",
      "metadata": {
        "id": "view-in-github",
        "colab_type": "text"
      },
      "source": [
        "<a href=\"https://colab.research.google.com/github/majiddaeinejad/quera-ai-bootcamp-divar/blob/statistical_analysis/statistical_analysis.ipynb\" target=\"_parent\"><img src=\"https://colab.research.google.com/assets/colab-badge.svg\" alt=\"Open In Colab\"/></a>"
      ]
    },
    {
      "cell_type": "markdown",
      "source": [
        "Setup cell"
      ],
      "metadata": {
        "id": "28nZXx6m1BSn"
      }
    },
    {
      "cell_type": "code",
      "source": [
        "!pip install arabic-reshaper python-bidi jdatetime utm --quiet\n",
        "\n",
        "import numpy as np\n",
        "import pandas as pd\n",
        "import seaborn as sns\n",
        "import matplotlib.pyplot as plt\n",
        "from matplotlib import rcParams\n",
        "import arabic_reshaper\n",
        "from bidi.algorithm import get_display\n",
        "import jdatetime\n",
        "\n",
        "import geopandas as gpd\n",
        "from shapely.geometry import Polygon\n",
        "import folium\n",
        "from branca.colormap import StepColormap\n",
        "\n",
        "\n",
        "rcParams['font.family'] = 'DejaVu Sans'\n",
        "\n",
        "def fa_label(text):\n",
        "    return get_display(arabic_reshaper.reshape(text))\n",
        "\n"
      ],
      "metadata": {
        "id": "a2gUjUbxDIid"
      },
      "execution_count": null,
      "outputs": []
    },
    {
      "cell_type": "markdown",
      "source": [
        "Load data and exploring\n"
      ],
      "metadata": {
        "id": "srOIaF2R2RgR"
      }
    },
    {
      "cell_type": "code",
      "execution_count": null,
      "metadata": {
        "id": "HiKwXSaQ0pFp"
      },
      "outputs": [],
      "source": [
        "from google.colab import drive\n",
        "\n",
        "drive.mount('/content/drive', force_remount=True)\n",
        "\n",
        "\n",
        "file_path = '/content/drive/MyDrive/Colab Notebooks/Divar.csv'\n",
        "\n",
        "\n",
        "df = pd.read_csv(file_path , encoding='utf-8')\n",
        "\n"
      ]
    },
    {
      "cell_type": "code",
      "source": [
        "df.head()"
      ],
      "metadata": {
        "id": "GqBIH8Yo2lnf"
      },
      "execution_count": null,
      "outputs": []
    },
    {
      "cell_type": "code",
      "execution_count": null,
      "metadata": {
        "id": "35CpjYaoPl3o"
      },
      "outputs": [],
      "source": [
        "df.describe()"
      ]
    },
    {
      "cell_type": "code",
      "source": [
        "df.info()"
      ],
      "metadata": {
        "id": "7I3G0dbm2x3I"
      },
      "execution_count": null,
      "outputs": []
    },
    {
      "cell_type": "markdown",
      "source": [
        "Missing Values"
      ],
      "metadata": {
        "id": "B6q7jjM18AGc"
      }
    },
    {
      "cell_type": "code",
      "source": [
        "total_rows = len(df)\n",
        "\n",
        "avail = df.notna().sum() / total_rows * 100\n",
        "missing = df.isna().sum() / total_rows * 100\n",
        "\n",
        "avail = avail.round(1)\n",
        "missing = missing.round(1)\n",
        "\n",
        "nan_status = pd.DataFrame()\n",
        "nan_status['درصد موجود'] = avail\n",
        "nan_status['درصد خالی'] = missing\n",
        "\n",
        "nan_status = nan_status.sort_values(by='درصد موجود', ascending=False)\n",
        "nan_status\n",
        "\n"
      ],
      "metadata": {
        "id": "0865Cnqs3Ign"
      },
      "execution_count": null,
      "outputs": []
    },
    {
      "cell_type": "code",
      "source": [
        "color_available = \"#00BFA5\"\n",
        "color_missing = \"#FF8A65\"\n",
        "\n",
        "ax = nan_status.plot(\n",
        "    kind=\"barh\",\n",
        "    stacked=True,\n",
        "    color=[color_available, color_missing],\n",
        "    figsize=(10,8)\n",
        ")\n",
        "\n",
        "plt.xlim(0, 100)\n",
        "plt.xlabel(fa_label(\"درصد\"))\n",
        "plt.ylabel(fa_label(\"ستون‌ها\"))\n",
        "plt.title(fa_label(\"درصد داده‌های موجود و خالی هر ستون\"), fontsize=14)\n",
        "plt.grid(axis='x', linestyle='--', alpha=0.4)\n",
        "\n",
        "labels = [fa_label(\"دادهٔ موجود\"), fa_label(\"دادهٔ خالی\")]\n",
        "plt.legend(labels, title=\"\")\n",
        "\n",
        "plt.tight_layout()\n",
        "plt.show()\n",
        "\n",
        "\n"
      ],
      "metadata": {
        "id": "sxzEyUbY75Br"
      },
      "execution_count": null,
      "outputs": []
    },
    {
      "cell_type": "markdown",
      "source": [
        "\tتوزیع آگهی‌های موجود در دسته‌های مختلف را برای دسته‌بندی سطح دو و سطح سه رسم کنید"
      ],
      "metadata": {
        "id": "KFJl8T-pQSSk"
      }
    },
    {
      "cell_type": "markdown",
      "source": [
        "value counts"
      ],
      "metadata": {
        "id": "D7SVykzf__NR"
      }
    },
    {
      "cell_type": "code",
      "source": [
        "#category 2\n",
        "print(df['cat2_slug'].value_counts())\n",
        "\n",
        "#category 3\n",
        "print(df['cat3_slug'].value_counts())\n"
      ],
      "metadata": {
        "id": "dyN3yyfiQWF7"
      },
      "execution_count": null,
      "outputs": []
    },
    {
      "cell_type": "markdown",
      "source": [
        "cat2"
      ],
      "metadata": {
        "id": "IxTh32bBSCAU"
      }
    },
    {
      "cell_type": "code",
      "source": [
        "cat2_labels = {\n",
        "    \"residential-sell\": \"فروش مسکونی\",\n",
        "    \"residential-rent\": \"اجاره مسکونی\",\n",
        "    \"commercial-rent\": \"اجاره تجاری\",\n",
        "    \"commercial-sell\": \"فروش تجاری\",\n",
        "    \"temporary-rent\": \"اجاره موقت\",\n",
        "    \"real-estate-services\": \"خدمات ملکی\"\n",
        "}\n",
        "\n",
        "\n",
        "cat2_counts = df['cat2_slug'].value_counts()\n",
        "\n",
        "\n",
        "colors = plt.cm.Purples(np.linspace(0.4, 0.9, len(cat2_counts)))\n",
        "\n",
        "\n",
        "plt.figure(figsize=(8, 5))\n",
        "bars = plt.barh(\n",
        "    [fa_label(cat2_labels.get(idx, idx)) for idx in cat2_counts.index],\n",
        "    cat2_counts.values,\n",
        "    color=colors\n",
        ")\n",
        "\n",
        "\n",
        "plt.xlabel(fa_label(\"تعداد آگهی‌ها\"))\n",
        "plt.ylabel(fa_label(\"دسته‌بندی سطح ۲\"))\n",
        "plt.title(fa_label(\"توزیع آگهی‌ها در دسته‌بندی سطح ۲\"))\n",
        "plt.gca().invert_yaxis()\n",
        "plt.tight_layout()\n",
        "plt.show()\n"
      ],
      "metadata": {
        "id": "GYDb8GjtSD93"
      },
      "execution_count": null,
      "outputs": []
    },
    {
      "cell_type": "code",
      "source": [
        "cat3_labels = {\n",
        "    \"apartment-sell\": \"فروش آپارتمان\",\n",
        "    \"apartment-rent\": \"اجاره آپارتمان\",\n",
        "    \"plot-old\": \"زمین/کلنگی\",\n",
        "    \"house-villa-sell\": \"فروش خانه/ویلا\",\n",
        "    \"house-villa-rent\": \"اجاره خانه/ویلا\",\n",
        "    \"shop-rent\": \"اجاره مغازه\",\n",
        "    \"shop-sell\": \"فروش مغازه\",\n",
        "    \"office-rent\": \"اجاره دفتر کار\",\n",
        "    \"suite-apartment\": \"سوئیت آپارتمان\",\n",
        "    \"presell\": \"پیش‌فروش\",\n",
        "    \"villa\": \"ویلا\",\n",
        "    \"industry-agriculture-business-sell\": \"فروش صنعتی/کشاورزی/تجاری\",\n",
        "    \"industry-agriculture-business-rent\": \"اجاره صنعتی/کشاورزی/تجاری\",\n",
        "    \"office-sell\": \"فروش دفتر کار\",\n",
        "    \"partnership\": \"مشارکت\",\n",
        "    \"workspace\": \"فضای کار\"\n",
        "}\n",
        "\n",
        "cat3_counts = df['cat3_slug'].value_counts()\n",
        "colors = plt.cm.Purples(np.linspace(0.4, 0.9, len(cat3_counts)))\n",
        "\n",
        "plt.figure(figsize=(9, 6))\n",
        "plt.barh(\n",
        "    [fa_label(cat3_labels.get(i, i)) for i in cat3_counts.index],\n",
        "    cat3_counts.values,\n",
        "    color=colors\n",
        ")\n",
        "plt.xlabel(fa_label(\"تعداد آگهی‌ها\"))\n",
        "plt.ylabel(fa_label(\"دسته‌بندی سطح ۳\"))\n",
        "plt.title(fa_label(\"توزیع آگهی‌ها در دسته‌بندی سطح ۳\"))\n",
        "plt.gca().invert_yaxis()\n",
        "plt.tight_layout()\n",
        "plt.show()\n"
      ],
      "metadata": {
        "id": "UYmXg1_9UWTn"
      },
      "execution_count": null,
      "outputs": []
    },
    {
      "cell_type": "markdown",
      "source": [
        "\tهیستوگرام سال ساخت را رسم کنید"
      ],
      "metadata": {
        "id": "yhnw4swyWyIG"
      }
    },
    {
      "cell_type": "code",
      "source": [
        "print(df['construction_year'].isna().sum())\n",
        "\n"
      ],
      "metadata": {
        "id": "94UJLcpUW1e7"
      },
      "execution_count": null,
      "outputs": []
    },
    {
      "cell_type": "code",
      "source": [
        "print(df['construction_year'].unique())\n"
      ],
      "metadata": {
        "id": "FwvsjJcEXcW2"
      },
      "execution_count": null,
      "outputs": []
    },
    {
      "cell_type": "code",
      "source": [
        "df['construction_year'].value_counts()\n"
      ],
      "metadata": {
        "id": "__5imoEwUMx2"
      },
      "execution_count": null,
      "outputs": []
    },
    {
      "cell_type": "code",
      "source": [
        "df_clean = df.dropna(subset=['construction_year']).copy()\n",
        "\n",
        "year_counts = df_clean['construction_year'].value_counts().sort_index()\n",
        "\n",
        "labels = [fa_label(label) for label in year_counts.index]\n",
        "\n",
        "plt.figure(figsize=(14, 6))\n",
        "plt.bar(labels, year_counts.values, color='skyblue', edgecolor='black')\n",
        "plt.title(fa_label('هیستوگرام سال ساخت'))\n",
        "plt.xlabel(fa_label('سال ساخت'))\n",
        "plt.ylabel(fa_label('تعداد'))\n",
        "plt.xticks(rotation=45)\n",
        "plt.grid(axis='y')\n",
        "plt.tight_layout()\n",
        "plt.show()\n",
        "\n"
      ],
      "metadata": {
        "id": "JGc50lfpTtXn"
      },
      "execution_count": null,
      "outputs": []
    },
    {
      "cell_type": "code",
      "source": [
        "year_counts = df_clean['construction_year'].value_counts().sort_index()\n",
        "year_percent = (year_counts / year_counts.sum()) * 100\n",
        "\n",
        "\n",
        "labels = [fa_label(str(label)) for label in year_percent.index]\n",
        "\n",
        "\n",
        "plt.figure(figsize=(14, 6))\n",
        "bars = plt.bar(labels, year_percent.values, color='blue', edgecolor='black')\n",
        "\n",
        "\n",
        "plt.title(fa_label('درصد آگهی های ثبت شده در سال های مختلف'), fontsize=14)\n",
        "plt.xlabel(fa_label('سال ساخت'), fontsize=12)\n",
        "plt.ylabel(fa_label('درصد'), fontsize=12)\n",
        "plt.xticks(rotation=45)\n",
        "plt.grid(axis='y', linestyle='--', alpha=0.5)\n",
        "\n",
        "\n",
        "for bar, percent in zip(bars, year_percent.values):\n",
        "    plt.text(bar.get_x() + bar.get_width() / 2,\n",
        "             bar.get_height() + 0.3,\n",
        "             f\"{percent:.1f}%\",\n",
        "             ha='center', va='bottom', fontsize=10, color='black')\n",
        "\n",
        "plt.tight_layout()\n",
        "plt.show()\n"
      ],
      "metadata": {
        "id": "jqj6WNJkWaTY"
      },
      "execution_count": null,
      "outputs": []
    },
    {
      "cell_type": "markdown",
      "source": [
        "\tتعداد آگهی‌های منتشر شده در ماه‌های مختلف را برای فروش و اجاره بررسی کنید. آیا تعداد آگهی‌های فروش و اجاره در زمان‌های مشخصی از سال افزایش چشم‌گیری داشته است؟"
      ],
      "metadata": {
        "id": "AO4wT6Bsd1jB"
      }
    },
    {
      "cell_type": "code",
      "source": [
        "df_2 = df[df['cat2_slug'] != 'real-estate-services'].copy()\n",
        "\n",
        "ad_type_mapping = {\n",
        "    'residential-sell': 'Sale',\n",
        "    'residential-rent': 'Rent',\n",
        "    'commercial-rent': 'Rent',\n",
        "    'commercial-sell': 'Sale',\n",
        "    'temporary-rent': 'Rent'\n",
        "}\n",
        "\n",
        "df_2['ad_type'] = df_2['cat2_slug'].map(ad_type_mapping)\n",
        "\n",
        "print(df_2['ad_type'].value_counts())\n",
        "\n"
      ],
      "metadata": {
        "id": "EAkhBrfId4x0"
      },
      "execution_count": null,
      "outputs": []
    },
    {
      "cell_type": "code",
      "source": [
        "print(df['created_at_month'].unique())\n"
      ],
      "metadata": {
        "id": "oOWE24Uan1wF"
      },
      "execution_count": null,
      "outputs": []
    },
    {
      "cell_type": "code",
      "source": [
        "df_2['created_at_month'] = pd.to_datetime(df_2['created_at_month'])\n"
      ],
      "metadata": {
        "id": "LnXNRHnkBgmW"
      },
      "execution_count": null,
      "outputs": []
    },
    {
      "cell_type": "code",
      "source": [
        "def get_persian_month(date):\n",
        "    jd = jdatetime.datetime.fromgregorian(datetime=date)\n",
        "    months = ['فروردین', 'اردیبهشت', 'خرداد', 'تیر', 'مرداد', 'شهریور',\n",
        "              'مهر', 'آبان', 'آذر', 'دی', 'بهمن', 'اسفند']\n",
        "    return months[jd.month - 1]\n",
        "\n",
        "\n",
        "df_2['persian_month'] = df_2['created_at_month'].apply(get_persian_month)\n",
        "\n",
        "\n",
        "month_order = ['فروردین', 'اردیبهشت', 'خرداد', 'تیر', 'مرداد', 'شهریور',\n",
        "               'مهر', 'آبان', 'آذر', 'دی', 'بهمن', 'اسفند']\n",
        "df_2['persian_month'] = pd.Categorical(df_2['persian_month'], categories=month_order, ordered=True)\n",
        "\n",
        "\n",
        "monthly_counts = df_2.groupby(['persian_month', 'ad_type']).size().unstack(fill_value=0)\n",
        "monthly_counts\n"
      ],
      "metadata": {
        "id": "P05yjaG_iNXy"
      },
      "execution_count": null,
      "outputs": []
    },
    {
      "cell_type": "code",
      "source": [
        "labels = [get_display(arabic_reshaper.reshape(month)) for month in monthly_counts.index]\n",
        "\n",
        "\n",
        "monthly_counts.plot(kind='bar', figsize=(10, 5), color=['blue', 'skyblue'])\n",
        "\n",
        "plt.title(get_display(arabic_reshaper.reshape('تعداد آگهی‌های فروش و اجاره در هر ماه')))\n",
        "plt.xlabel(get_display(arabic_reshaper.reshape('ماه')))\n",
        "plt.ylabel(get_display(arabic_reshaper.reshape('تعداد آگهی')))\n",
        "\n",
        "plt.xticks(ticks=range(len(labels)), labels=labels, rotation=45)\n",
        "\n",
        "plt.legend([get_display(arabic_reshaper.reshape('فروش')), get_display(arabic_reshaper.reshape('اجاره'))])\n",
        "\n",
        "plt.grid(axis='y')\n",
        "plt.tight_layout()\n",
        "plt.show()"
      ],
      "metadata": {
        "id": "UGhRFJSiia2u"
      },
      "execution_count": null,
      "outputs": []
    },
    {
      "cell_type": "code",
      "source": [
        "change = monthly_counts.pct_change() * 100\n",
        "significant_months = change[(change > 10).any(axis=1)]\n",
        "significant_months\n"
      ],
      "metadata": {
        "id": "oRnXrHnCDYOh"
      },
      "execution_count": null,
      "outputs": []
    },
    {
      "cell_type": "code",
      "source": [
        "labels = [get_display(arabic_reshaper.reshape(month)) for month in monthly_counts.index]\n",
        "\n",
        "\n",
        "plt.figure(figsize=(10, 5))\n",
        "plt.plot(change.index, change['Rent'], marker='o',\n",
        "         label=get_display(arabic_reshaper.reshape('آگهی اجاره')))\n",
        "plt.plot(change.index, change['Sale'], marker='o',\n",
        "         label=get_display(arabic_reshaper.reshape('آگهی فروش')))\n",
        "\n",
        "plt.axhline(10, color='gray', linestyle='--', alpha=0.5)\n",
        "\n",
        "\n",
        "plt.title(get_display(arabic_reshaper.reshape('درصد تغییر ماهانه تعداد آگهی‌ها')))\n",
        "plt.xlabel(get_display(arabic_reshaper.reshape('ماه')))\n",
        "plt.ylabel(get_display(arabic_reshaper.reshape('درصد تغییر (%)')))\n",
        "\n",
        "\n",
        "plt.xticks(ticks=range(len(labels)), labels=labels, rotation=45)\n",
        "\n",
        "plt.legend()\n",
        "plt.grid(alpha=0.3)\n",
        "plt.tight_layout()\n",
        "plt.show()\n",
        "\n"
      ],
      "metadata": {
        "id": "4JR4TXfvGYgx"
      },
      "execution_count": null,
      "outputs": []
    },
    {
      "cell_type": "markdown",
      "source": [
        "\tتوزیع قیمت فروش‌(price_value) را برای دسته‌بندی‌های سطح سه در یک نمودار رسم کنید"
      ],
      "metadata": {
        "id": "K7Y0dTdwIjY3"
      }
    },
    {
      "cell_type": "code",
      "source": [
        "df_sales = df_2[df_2['ad_type'] == 'Sale'].copy()\n",
        "\n"
      ],
      "metadata": {
        "id": "Y2TlP-VwIlG2"
      },
      "execution_count": null,
      "outputs": []
    },
    {
      "cell_type": "code",
      "source": [
        "cat3_labels = {\n",
        "    \"apartment-sell\": \"فروش آپارتمان\",\n",
        "    \"apartment-rent\": \"اجاره آپارتمان\",\n",
        "    \"plot-old\": \"زمین/کلنگی\",\n",
        "    \"house-villa-sell\": \"فروش خانه/ویلا\",\n",
        "    \"house-villa-rent\": \"اجاره خانه/ویلا\",\n",
        "    \"shop-rent\": \"اجاره مغازه\",\n",
        "    \"shop-sell\": \"فروش مغازه\",\n",
        "    \"office-rent\": \"اجاره دفتر کار\",\n",
        "    \"suite-apartment\": \"سوئیت آپارتمان\",\n",
        "    \"presell\": \"پیش‌فروش\",\n",
        "    \"villa\": \"ویلا\",\n",
        "    \"industry-agriculture-business-sell\": \"فروش صنعتی/کشاورزی/تجاری\",\n",
        "    \"industry-agriculture-business-rent\": \"اجاره صنعتی/کشاورزی/تجاری\",\n",
        "    \"office-sell\": \"فروش دفتر کار\",\n",
        "    \"partnership\": \"مشارکت\",\n",
        "    \"workspace\": \"فضای کار\"\n",
        "}\n",
        "df_sales['cat3_fa'] = df_sales['cat3_slug'].map(cat3_labels)"
      ],
      "metadata": {
        "id": "gvkNo2kW0Dku"
      },
      "execution_count": null,
      "outputs": []
    },
    {
      "cell_type": "code",
      "source": [
        "df_sales = df_sales.dropna(subset=['price_value'])"
      ],
      "metadata": {
        "id": "XrJjjCHV4ww9"
      },
      "execution_count": null,
      "outputs": []
    },
    {
      "cell_type": "code",
      "source": [
        "#تبدیل به میلیارد تومان\n",
        "df_sales['price_billion'] = df_sales['price_value'] / 1e9"
      ],
      "metadata": {
        "id": "OW5YVTur42_3"
      },
      "execution_count": null,
      "outputs": []
    },
    {
      "cell_type": "code",
      "source": [
        "order = df_sales.groupby('cat3_fa')['price_billion'].median().sort_values().index"
      ],
      "metadata": {
        "id": "0cSbt_aa48Yn"
      },
      "execution_count": null,
      "outputs": []
    },
    {
      "cell_type": "code",
      "source": [
        "plt.figure(figsize=(12, 8))\n",
        "\n",
        "sns.boxplot(\n",
        "    x='price_billion',\n",
        "    y='cat3_fa',\n",
        "    data=df_sales,\n",
        "    order=order,\n",
        "    palette='Purples'\n",
        ")\n",
        "\n",
        "plt.yticks(range(len(order)), [fa_label(c) for c in order])\n",
        "\n",
        "plt.xlabel(fa_label('قیمت فروش (میلیارد تومان)'))\n",
        "plt.ylabel(fa_label('دسته‌بندی سطح ۳'))\n",
        "plt.title(fa_label('توزیع قیمت فروش بر اساس دسته‌بندی سطح ۳'), fontweight='bold')\n",
        "\n",
        "plt.grid(axis='x', linestyle='--', alpha=0.5)\n",
        "plt.tight_layout()\n",
        "plt.show()\n"
      ],
      "metadata": {
        "id": "rc7LAWCj5BNg"
      },
      "execution_count": null,
      "outputs": []
    },
    {
      "cell_type": "markdown",
      "source": [
        "\tبر روی نقشه‌ی جغرافیایی heatmap آگهی‌های هر منطقه را رسم کنید. تراکم آگهی‌ها کدام منطقه بیشتر است؟"
      ],
      "metadata": {
        "id": "pSdoBSnl7Kf6"
      }
    },
    {
      "cell_type": "markdown",
      "source": [
        "Handeling missing values"
      ],
      "metadata": {
        "id": "cY_arzBoKJfC"
      }
    },
    {
      "cell_type": "code",
      "source": [
        "print(df[['location_latitude', 'location_longitude']].isna().sum())"
      ],
      "metadata": {
        "id": "6b1Er6MeKgcw"
      },
      "execution_count": null,
      "outputs": []
    },
    {
      "cell_type": "code",
      "source": [
        "df_filled = df.copy()\n",
        "\n",
        "\n",
        "neigh_mean = df_filled.groupby('neighborhood_slug')[['location_latitude', 'location_longitude']].transform('mean')\n",
        "df_filled['location_latitude'] = df_filled['location_latitude'].fillna(neigh_mean['location_latitude'])\n",
        "df_filled['location_longitude'] = df_filled['location_longitude'].fillna(neigh_mean['location_longitude'])\n",
        "\n",
        "\n",
        "city_mean = df_filled.groupby('city_slug')[['location_latitude', 'location_longitude']].transform('mean')\n",
        "df_filled['location_latitude'] = df_filled['location_latitude'].fillna(city_mean['location_latitude'])\n",
        "df_filled['location_longitude'] = df_filled['location_longitude'].fillna(city_mean['location_longitude'])\n",
        "\n"
      ],
      "metadata": {
        "id": "z6wgcCViMpMx"
      },
      "execution_count": null,
      "outputs": []
    },
    {
      "cell_type": "code",
      "source": [
        "print(df_filled[['location_latitude', 'location_longitude']].isna().sum())"
      ],
      "metadata": {
        "id": "ZBN5sj7QM0EZ"
      },
      "execution_count": null,
      "outputs": []
    },
    {
      "cell_type": "code",
      "source": [
        "df_filled = df_filled.dropna(subset=['location_latitude', 'location_longitude'])"
      ],
      "metadata": {
        "id": "fGMOkPurM2dk"
      },
      "execution_count": null,
      "outputs": []
    },
    {
      "cell_type": "code",
      "source": [
        "print(df_filled[['location_latitude', 'location_longitude']].isna().sum())"
      ],
      "metadata": {
        "id": "UPHqFqseM9-E"
      },
      "execution_count": null,
      "outputs": []
    },
    {
      "cell_type": "code",
      "source": [
        "min_lat, max_lat = df_filled['location_latitude'].min(), df_filled['location_latitude'].max()\n",
        "min_lon, max_lon = df_filled['location_longitude'].min(), df_filled['location_longitude'].max()\n",
        "\n",
        "\n",
        "lat_step = 0.05\n",
        "lon_step = 0.05\n",
        "\n",
        "polygons, counts, ids = [], [], []\n",
        "lat_bins = pd.interval_range(min_lat, max_lat, freq=lat_step)\n",
        "lon_bins = pd.interval_range(min_lon, max_lon, freq=lon_step)\n",
        "cell_id = 0\n",
        "\n",
        "for lat_bin in lat_bins:\n",
        "    for lon_bin in lon_bins:\n",
        "        count = df_filled[\n",
        "            (df_filled['location_latitude'].between(lat_bin.left, lat_bin.right)) &\n",
        "            (df_filled['location_longitude'].between(lon_bin.left, lon_bin.right))\n",
        "        ].shape[0]\n",
        "        if count > 0:\n",
        "            polygons.append(Polygon([\n",
        "                (lon_bin.left, lat_bin.left),\n",
        "                (lon_bin.right, lat_bin.left),\n",
        "                (lon_bin.right, lat_bin.right),\n",
        "                (lon_bin.left, lat_bin.right)\n",
        "            ]))\n",
        "            counts.append(count)\n",
        "            ids.append(cell_id)\n",
        "            cell_id += 1\n",
        "\n",
        "gdf = gpd.GeoDataFrame({'cell_id': ids, 'count': counts, 'geometry': polygons}, crs=\"EPSG:4326\")\n",
        "\n",
        "\n",
        "max_count = gdf['count'].max()\n",
        "step_bins = [0, max_count*0.2, max_count*0.4, max_count*0.6, max_count*0.8, max_count]\n",
        "blue_steps = StepColormap(\n",
        "    colors=['#deebf7', '#9ecae1', '#6baed6', '#4292c6', '#0868ac', '#08306b'],\n",
        "    vmin=0, vmax=max_count,\n",
        "    index=step_bins,\n",
        "    caption='تعداد آگهی‌ها'\n",
        ")\n",
        "\n",
        "m = folium.Map(\n",
        "    location=[df_filled['location_latitude'].mean(), df_filled['location_longitude'].mean()],\n",
        "    zoom_start=6\n",
        ")\n",
        "\n",
        "folium.GeoJson(\n",
        "    gdf,\n",
        "    style_function=lambda feature: {\n",
        "        'fillColor': blue_steps(feature['properties']['count']),\n",
        "        'color': 'black',\n",
        "        'weight': 0.2,\n",
        "        'fillOpacity': 0.7,\n",
        "    },\n",
        "    tooltip=folium.GeoJsonTooltip(fields=['count'], aliases=['تعداد آگهی‌ها:'])\n",
        ").add_to(m)\n",
        "\n",
        "blue_steps.add_to(m)\n",
        "\n",
        "m\n"
      ],
      "metadata": {
        "id": "MRLl4BwmDDuq"
      },
      "execution_count": null,
      "outputs": []
    },
    {
      "cell_type": "markdown",
      "source": [
        "\tترند میانگین قیمت اجاره بر حسب ماه‌های قرار گرفتن آگهی‌ها رسم کنید.(دقت کنید که ماه‌ها باید به تاریخ شمسی و خوانا باشند.)"
      ],
      "metadata": {
        "id": "ERSmLWHLUTaU"
      }
    },
    {
      "cell_type": "code",
      "source": [
        "df_rent = df_2[df_2['ad_type'] == 'Rent']\n"
      ],
      "metadata": {
        "id": "0g2quqpZK_4w"
      },
      "execution_count": null,
      "outputs": []
    },
    {
      "cell_type": "code",
      "source": [
        "transformable_rent\n"
      ],
      "metadata": {
        "id": "UaEwpvcPLKfO"
      },
      "execution_count": null,
      "outputs": []
    },
    {
      "cell_type": "code",
      "source": [
        "monthly_avg_rent = (\n",
        "    df_rent.groupby('persian_month')['transformable_rent']\n",
        "    .mean()\n",
        "    .reset_index()\n",
        ")\n",
        "monthly_avg_rent['rent_million'] = monthly_avg_rent['transformable_rent'] / 1_000_000\n",
        "\n",
        "plt.figure(figsize=(10, 5))\n",
        "plt.plot(\n",
        "    monthly_avg_rent['persian_month'],\n",
        "    monthly_avg_rent['rent_million'],\n",
        "    marker='o',\n",
        "    color='royalblue'\n",
        ")\n",
        "\n",
        "plt.title(fa_label('ترند میانگین قیمت اجاره بر حسب ماه‌'), fontsize=14)\n",
        "plt.xlabel(fa_label('ماه '))\n",
        "plt.ylabel(fa_label('میانگین اجاره (میلیون تومان)'))\n",
        "\n",
        "plt.xticks(\n",
        "    ticks=range(len(monthly_avg_rent)),\n",
        "    labels=[fa_label(m) for m in monthly_avg_rent['persian_month']]\n",
        ")\n",
        "\n",
        "plt.grid(True, linestyle='--', alpha=0.7)\n",
        "plt.tight_layout()\n",
        "plt.show()\n",
        "\n"
      ],
      "metadata": {
        "id": "bUiV-F3LUVws"
      },
      "execution_count": null,
      "outputs": []
    }
  ],
  "metadata": {
    "colab": {
      "provenance": [],
      "include_colab_link": true
    },
    "kernelspec": {
      "display_name": "Python 3",
      "name": "python3"
    },
    "language_info": {
      "name": "python"
    }
  },
  "nbformat": 4,
  "nbformat_minor": 0
}