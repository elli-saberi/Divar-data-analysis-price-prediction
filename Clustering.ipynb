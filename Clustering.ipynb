{
 "cells": [
  {
   "cell_type": "code",
   "execution_count": 2246,
   "metadata": {
    "id": "tL47PQl5djUX"
   },
   "outputs": [],
   "source": [
    "import pandas as pd\n"
   ]
  },
  {
   "cell_type": "code",
   "execution_count": 2247,
   "metadata": {
    "id": "WI_S_sLcd2Aw"
   },
   "outputs": [],
   "source": [
    "df = pd.read_csv('Divar.csv', low_memory=False)\n",
    "cities = pd.read_csv('iran_city_classification.csv')\n"
   ]
  },
  {
   "cell_type": "code",
   "execution_count": 2248,
   "metadata": {
    "colab": {
     "base_uri": "https://localhost:8080/",
     "height": 206
    },
    "id": "rwaIyr6Sc910",
    "outputId": "c5445dbc-01f0-4d13-eac2-b2ceb19558e9"
   },
   "outputs": [
    {
     "data": {
      "text/html": [
       "<div>\n",
       "<style scoped>\n",
       "    .dataframe tbody tr th:only-of-type {\n",
       "        vertical-align: middle;\n",
       "    }\n",
       "\n",
       "    .dataframe tbody tr th {\n",
       "        vertical-align: top;\n",
       "    }\n",
       "\n",
       "    .dataframe thead th {\n",
       "        text-align: right;\n",
       "    }\n",
       "</style>\n",
       "<table border=\"1\" class=\"dataframe\">\n",
       "  <thead>\n",
       "    <tr style=\"text-align: right;\">\n",
       "      <th></th>\n",
       "      <th>نام شهر</th>\n",
       "      <th>دسته‌بندی</th>\n",
       "    </tr>\n",
       "  </thead>\n",
       "  <tbody>\n",
       "    <tr>\n",
       "      <th>0</th>\n",
       "      <td>karaj</td>\n",
       "      <td>کلان‌شهر</td>\n",
       "    </tr>\n",
       "    <tr>\n",
       "      <th>1</th>\n",
       "      <td>tehran</td>\n",
       "      <td>کلان‌شهر</td>\n",
       "    </tr>\n",
       "    <tr>\n",
       "      <th>2</th>\n",
       "      <td>mashhad</td>\n",
       "      <td>کلان‌شهر</td>\n",
       "    </tr>\n",
       "    <tr>\n",
       "      <th>3</th>\n",
       "      <td>ahvaz</td>\n",
       "      <td>کلان‌شهر</td>\n",
       "    </tr>\n",
       "    <tr>\n",
       "      <th>4</th>\n",
       "      <td>kermanshah</td>\n",
       "      <td>کلان‌شهر</td>\n",
       "    </tr>\n",
       "  </tbody>\n",
       "</table>\n",
       "</div>"
      ],
      "text/plain": [
       "      نام شهر دسته‌بندی\n",
       "0       karaj  کلان‌شهر\n",
       "1      tehran  کلان‌شهر\n",
       "2     mashhad  کلان‌شهر\n",
       "3       ahvaz  کلان‌شهر\n",
       "4  kermanshah  کلان‌شهر"
      ]
     },
     "execution_count": 2248,
     "metadata": {},
     "output_type": "execute_result"
    }
   ],
   "source": [
    "cities.head()"
   ]
  },
  {
   "cell_type": "code",
   "execution_count": 2249,
   "metadata": {
    "colab": {
     "base_uri": "https://localhost:8080/",
     "height": 637
    },
    "id": "B8G2iLntdBwk",
    "outputId": "86445930-8983-4a06-d301-40a6cd6ae30f"
   },
   "outputs": [
    {
     "data": {
      "text/html": [
       "<div>\n",
       "<style scoped>\n",
       "    .dataframe tbody tr th:only-of-type {\n",
       "        vertical-align: middle;\n",
       "    }\n",
       "\n",
       "    .dataframe tbody tr th {\n",
       "        vertical-align: top;\n",
       "    }\n",
       "\n",
       "    .dataframe thead th {\n",
       "        text-align: right;\n",
       "    }\n",
       "</style>\n",
       "<table border=\"1\" class=\"dataframe\">\n",
       "  <thead>\n",
       "    <tr style=\"text-align: right;\">\n",
       "      <th></th>\n",
       "      <th>Unnamed: 0</th>\n",
       "      <th>cat2_slug</th>\n",
       "      <th>cat3_slug</th>\n",
       "      <th>city_slug</th>\n",
       "      <th>neighborhood_slug</th>\n",
       "      <th>created_at_month</th>\n",
       "      <th>user_type</th>\n",
       "      <th>description</th>\n",
       "      <th>title</th>\n",
       "      <th>rent_mode</th>\n",
       "      <th>...</th>\n",
       "      <th>property_type</th>\n",
       "      <th>regular_person_capacity</th>\n",
       "      <th>extra_person_capacity</th>\n",
       "      <th>cost_per_extra_person</th>\n",
       "      <th>rent_price_on_regular_days</th>\n",
       "      <th>rent_price_on_special_days</th>\n",
       "      <th>rent_price_at_weekends</th>\n",
       "      <th>location_latitude</th>\n",
       "      <th>location_longitude</th>\n",
       "      <th>location_radius</th>\n",
       "    </tr>\n",
       "  </thead>\n",
       "  <tbody>\n",
       "    <tr>\n",
       "      <th>0</th>\n",
       "      <td>0</td>\n",
       "      <td>temporary-rent</td>\n",
       "      <td>villa</td>\n",
       "      <td>karaj</td>\n",
       "      <td>mehrshahr</td>\n",
       "      <td>2024-08-01 00:00:00</td>\n",
       "      <td>مشاور املاک</td>\n",
       "      <td>۵۰۰متر\\n۲۰۰متر بنا دوبلکس\\n۳خواب\\nاستخر آبگرم ...</td>\n",
       "      <td>باغ ویلا اجاره روزانه استخر داخل لشکرآباد سهیلیه</td>\n",
       "      <td>NaN</td>\n",
       "      <td>...</td>\n",
       "      <td>NaN</td>\n",
       "      <td>4.0</td>\n",
       "      <td>6</td>\n",
       "      <td>350000.0</td>\n",
       "      <td>1500000.0</td>\n",
       "      <td>3.500000e+09</td>\n",
       "      <td>3500000.0</td>\n",
       "      <td>35.811684</td>\n",
       "      <td>50.936600</td>\n",
       "      <td>500.0</td>\n",
       "    </tr>\n",
       "    <tr>\n",
       "      <th>1</th>\n",
       "      <td>1</td>\n",
       "      <td>residential-sell</td>\n",
       "      <td>apartment-sell</td>\n",
       "      <td>tehran</td>\n",
       "      <td>gholhak</td>\n",
       "      <td>2024-05-01 00:00:00</td>\n",
       "      <td>مشاور املاک</td>\n",
       "      <td>دسترسی عالی به مترو و شریعتی \\nمشاعات تمیز \\nب...</td>\n",
       "      <td>۶۰ متر قلهک فول امکانات</td>\n",
       "      <td>NaN</td>\n",
       "      <td>...</td>\n",
       "      <td>NaN</td>\n",
       "      <td>NaN</td>\n",
       "      <td>NaN</td>\n",
       "      <td>NaN</td>\n",
       "      <td>NaN</td>\n",
       "      <td>NaN</td>\n",
       "      <td>NaN</td>\n",
       "      <td>NaN</td>\n",
       "      <td>NaN</td>\n",
       "      <td>500.0</td>\n",
       "    </tr>\n",
       "    <tr>\n",
       "      <th>2</th>\n",
       "      <td>2</td>\n",
       "      <td>residential-rent</td>\n",
       "      <td>apartment-rent</td>\n",
       "      <td>tehran</td>\n",
       "      <td>tohid</td>\n",
       "      <td>2024-10-01 00:00:00</td>\n",
       "      <td>NaN</td>\n",
       "      <td>تخلیه پایان ماه</td>\n",
       "      <td>آپارتمان ۳ خوابه ۱۳۲ متر</td>\n",
       "      <td>مقطوع</td>\n",
       "      <td>...</td>\n",
       "      <td>NaN</td>\n",
       "      <td>NaN</td>\n",
       "      <td>NaN</td>\n",
       "      <td>NaN</td>\n",
       "      <td>NaN</td>\n",
       "      <td>NaN</td>\n",
       "      <td>NaN</td>\n",
       "      <td>35.703865</td>\n",
       "      <td>51.373459</td>\n",
       "      <td>NaN</td>\n",
       "    </tr>\n",
       "    <tr>\n",
       "      <th>3</th>\n",
       "      <td>3</td>\n",
       "      <td>commercial-rent</td>\n",
       "      <td>office-rent</td>\n",
       "      <td>tehran</td>\n",
       "      <td>elahiyeh</td>\n",
       "      <td>2024-06-01 00:00:00</td>\n",
       "      <td>NaN</td>\n",
       "      <td>فرشته تاپ لوکیشن\\n۹۰ متر موقعیت اداری\\nیک اتاق...</td>\n",
       "      <td>فرشته ۹۰ متر دفتر کار مدرن موقعیت اداری</td>\n",
       "      <td>مقطوع</td>\n",
       "      <td>...</td>\n",
       "      <td>NaN</td>\n",
       "      <td>NaN</td>\n",
       "      <td>NaN</td>\n",
       "      <td>NaN</td>\n",
       "      <td>NaN</td>\n",
       "      <td>NaN</td>\n",
       "      <td>NaN</td>\n",
       "      <td>NaN</td>\n",
       "      <td>NaN</td>\n",
       "      <td>NaN</td>\n",
       "    </tr>\n",
       "    <tr>\n",
       "      <th>4</th>\n",
       "      <td>4</td>\n",
       "      <td>residential-sell</td>\n",
       "      <td>apartment-sell</td>\n",
       "      <td>mashhad</td>\n",
       "      <td>emamreza</td>\n",
       "      <td>2024-05-01 00:00:00</td>\n",
       "      <td>مشاور املاک</td>\n",
       "      <td>هلدینگ ساختمانی اکبری\\n\\nهمراه شما هستیم برای ...</td>\n",
       "      <td>۱۱۵ متری/شمالی رو به آفتاب/اکبری</td>\n",
       "      <td>NaN</td>\n",
       "      <td>...</td>\n",
       "      <td>NaN</td>\n",
       "      <td>NaN</td>\n",
       "      <td>NaN</td>\n",
       "      <td>NaN</td>\n",
       "      <td>NaN</td>\n",
       "      <td>NaN</td>\n",
       "      <td>NaN</td>\n",
       "      <td>NaN</td>\n",
       "      <td>NaN</td>\n",
       "      <td>NaN</td>\n",
       "    </tr>\n",
       "  </tbody>\n",
       "</table>\n",
       "<p>5 rows × 61 columns</p>\n",
       "</div>"
      ],
      "text/plain": [
       "   Unnamed: 0         cat2_slug       cat3_slug city_slug neighborhood_slug  \\\n",
       "0           0    temporary-rent           villa     karaj         mehrshahr   \n",
       "1           1  residential-sell  apartment-sell    tehran           gholhak   \n",
       "2           2  residential-rent  apartment-rent    tehran             tohid   \n",
       "3           3   commercial-rent     office-rent    tehran          elahiyeh   \n",
       "4           4  residential-sell  apartment-sell   mashhad          emamreza   \n",
       "\n",
       "      created_at_month    user_type  \\\n",
       "0  2024-08-01 00:00:00  مشاور املاک   \n",
       "1  2024-05-01 00:00:00  مشاور املاک   \n",
       "2  2024-10-01 00:00:00          NaN   \n",
       "3  2024-06-01 00:00:00          NaN   \n",
       "4  2024-05-01 00:00:00  مشاور املاک   \n",
       "\n",
       "                                         description  \\\n",
       "0  ۵۰۰متر\\n۲۰۰متر بنا دوبلکس\\n۳خواب\\nاستخر آبگرم ...   \n",
       "1  دسترسی عالی به مترو و شریعتی \\nمشاعات تمیز \\nب...   \n",
       "2                                    تخلیه پایان ماه   \n",
       "3  فرشته تاپ لوکیشن\\n۹۰ متر موقعیت اداری\\nیک اتاق...   \n",
       "4  هلدینگ ساختمانی اکبری\\n\\nهمراه شما هستیم برای ...   \n",
       "\n",
       "                                              title rent_mode  ...  \\\n",
       "0  باغ ویلا اجاره روزانه استخر داخل لشکرآباد سهیلیه       NaN  ...   \n",
       "1                           ۶۰ متر قلهک فول امکانات       NaN  ...   \n",
       "2                          آپارتمان ۳ خوابه ۱۳۲ متر     مقطوع  ...   \n",
       "3           فرشته ۹۰ متر دفتر کار مدرن موقعیت اداری     مقطوع  ...   \n",
       "4                  ۱۱۵ متری/شمالی رو به آفتاب/اکبری       NaN  ...   \n",
       "\n",
       "   property_type regular_person_capacity extra_person_capacity  \\\n",
       "0            NaN                     4.0                     6   \n",
       "1            NaN                     NaN                   NaN   \n",
       "2            NaN                     NaN                   NaN   \n",
       "3            NaN                     NaN                   NaN   \n",
       "4            NaN                     NaN                   NaN   \n",
       "\n",
       "  cost_per_extra_person  rent_price_on_regular_days  \\\n",
       "0              350000.0                   1500000.0   \n",
       "1                   NaN                         NaN   \n",
       "2                   NaN                         NaN   \n",
       "3                   NaN                         NaN   \n",
       "4                   NaN                         NaN   \n",
       "\n",
       "  rent_price_on_special_days  rent_price_at_weekends location_latitude  \\\n",
       "0               3.500000e+09               3500000.0         35.811684   \n",
       "1                        NaN                     NaN               NaN   \n",
       "2                        NaN                     NaN         35.703865   \n",
       "3                        NaN                     NaN               NaN   \n",
       "4                        NaN                     NaN               NaN   \n",
       "\n",
       "  location_longitude  location_radius  \n",
       "0          50.936600            500.0  \n",
       "1                NaN            500.0  \n",
       "2          51.373459              NaN  \n",
       "3                NaN              NaN  \n",
       "4                NaN              NaN  \n",
       "\n",
       "[5 rows x 61 columns]"
      ]
     },
     "execution_count": 2249,
     "metadata": {},
     "output_type": "execute_result"
    }
   ],
   "source": [
    "df.head()"
   ]
  },
  {
   "cell_type": "markdown",
   "metadata": {
    "id": "-URVXrlyd7Zw"
   },
   "source": [
    "## Merge cities with Divar based on city_slug"
   ]
  },
  {
   "cell_type": "code",
   "execution_count": 2250,
   "metadata": {
    "id": "bKRx2H54dGtW"
   },
   "outputs": [],
   "source": [
    "cities = cities.rename(columns={'نام شهر': 'city_slug', 'دسته‌بندی': 'category'})\n",
    "df = df.merge(cities, on='city_slug')"
   ]
  },
  {
   "cell_type": "markdown",
   "metadata": {},
   "source": [
    "## Finding Missing Values"
   ]
  },
  {
   "cell_type": "code",
   "execution_count": 2251,
   "metadata": {
    "id": "DRwcG0d8eVKe"
   },
   "outputs": [],
   "source": [
    "non_null_counts = df.notnull().sum().sort_values(ascending=False)\n",
    "non_null_percentages = (non_null_counts / len(df)) * 100\n"
   ]
  },
  {
   "cell_type": "code",
   "execution_count": 2252,
   "metadata": {
    "colab": {
     "base_uri": "https://localhost:8080/",
     "height": 1000
    },
    "id": "c5e10e97",
    "outputId": "b7fbd71c-6f48-4cf0-8423-e7424c88bd71"
   },
   "outputs": [
    {
     "data": {
      "image/png": "[encoded data removed]",
      "text/plain": [
       "<Figure size 1500x1000 with 1 Axes>"
      ]
     },
     "metadata": {},
     "output_type": "display_data"
    }
   ],
   "source": [
    "import matplotlib.pyplot as plt\n",
    "\n",
    "\n",
    "plt.figure(figsize=(15, 10))\n",
    "non_null_percentages.plot(kind='barh')\n",
    "plt.axvline(x = 80, color = 'r', ls='--')\n",
    "plt.axvline(x = 90, color = 'r', ls='--')\n",
    "plt.title('Non-Null Percentage by Column')\n",
    "plt.xlabel('Non-Null Percentage (%)')\n",
    "plt.ylabel('Columns')\n",
    "plt.tight_layout()\n",
    "plt.show()"
   ]
  },
  {
   "cell_type": "code",
   "execution_count": 2253,
   "metadata": {},
   "outputs": [
    {
     "data": {
      "text/html": [
       "<div>\n",
       "<style scoped>\n",
       "    .dataframe tbody tr th:only-of-type {\n",
       "        vertical-align: middle;\n",
       "    }\n",
       "\n",
       "    .dataframe tbody tr th {\n",
       "        vertical-align: top;\n",
       "    }\n",
       "\n",
       "    .dataframe thead th {\n",
       "        text-align: right;\n",
       "    }\n",
       "</style>\n",
       "<table border=\"1\" class=\"dataframe\">\n",
       "  <thead>\n",
       "    <tr style=\"text-align: right;\">\n",
       "      <th></th>\n",
       "      <th>title</th>\n",
       "      <th>rent_mode</th>\n",
       "      <th>rent_value</th>\n",
       "      <th>rent_to_single</th>\n",
       "      <th>rent_type</th>\n",
       "      <th>price_mode</th>\n",
       "      <th>price_value</th>\n",
       "      <th>credit_mode</th>\n",
       "      <th>credit_value</th>\n",
       "      <th>rent_credit_transform</th>\n",
       "      <th>transformable_price</th>\n",
       "      <th>transformable_credit</th>\n",
       "      <th>transformed_credit</th>\n",
       "      <th>transformable_rent</th>\n",
       "      <th>transformed_rent</th>\n",
       "    </tr>\n",
       "  </thead>\n",
       "  <tbody>\n",
       "    <tr>\n",
       "      <th>0</th>\n",
       "      <td>باغ ویلا اجاره روزانه استخر داخل لشکرآباد سهیلیه</td>\n",
       "      <td>NaN</td>\n",
       "      <td>NaN</td>\n",
       "      <td>NaN</td>\n",
       "      <td>NaN</td>\n",
       "      <td>NaN</td>\n",
       "      <td>NaN</td>\n",
       "      <td>NaN</td>\n",
       "      <td>NaN</td>\n",
       "      <td>NaN</td>\n",
       "      <td>NaN</td>\n",
       "      <td>NaN</td>\n",
       "      <td>NaN</td>\n",
       "      <td>NaN</td>\n",
       "      <td>NaN</td>\n",
       "    </tr>\n",
       "    <tr>\n",
       "      <th>1</th>\n",
       "      <td>۶۰ متر قلهک فول امکانات</td>\n",
       "      <td>NaN</td>\n",
       "      <td>NaN</td>\n",
       "      <td>NaN</td>\n",
       "      <td>NaN</td>\n",
       "      <td>مقطوع</td>\n",
       "      <td>8.500000e+09</td>\n",
       "      <td>NaN</td>\n",
       "      <td>NaN</td>\n",
       "      <td>NaN</td>\n",
       "      <td>NaN</td>\n",
       "      <td>NaN</td>\n",
       "      <td>NaN</td>\n",
       "      <td>NaN</td>\n",
       "      <td>NaN</td>\n",
       "    </tr>\n",
       "    <tr>\n",
       "      <th>2</th>\n",
       "      <td>آپارتمان ۳ خوابه ۱۳۲ متر</td>\n",
       "      <td>مقطوع</td>\n",
       "      <td>26000000.0</td>\n",
       "      <td>NaN</td>\n",
       "      <td>NaN</td>\n",
       "      <td>NaN</td>\n",
       "      <td>NaN</td>\n",
       "      <td>مقطوع</td>\n",
       "      <td>750000000.0</td>\n",
       "      <td>False</td>\n",
       "      <td>False</td>\n",
       "      <td>750000000.0</td>\n",
       "      <td>NaN</td>\n",
       "      <td>26000000.0</td>\n",
       "      <td>NaN</td>\n",
       "    </tr>\n",
       "    <tr>\n",
       "      <th>3</th>\n",
       "      <td>فرشته ۹۰ متر دفتر کار مدرن موقعیت اداری</td>\n",
       "      <td>مقطوع</td>\n",
       "      <td>95000000.0</td>\n",
       "      <td>NaN</td>\n",
       "      <td>NaN</td>\n",
       "      <td>NaN</td>\n",
       "      <td>NaN</td>\n",
       "      <td>مقطوع</td>\n",
       "      <td>950000000.0</td>\n",
       "      <td>False</td>\n",
       "      <td>False</td>\n",
       "      <td>950000000.0</td>\n",
       "      <td>NaN</td>\n",
       "      <td>95000000.0</td>\n",
       "      <td>NaN</td>\n",
       "    </tr>\n",
       "    <tr>\n",
       "      <th>4</th>\n",
       "      <td>۱۱۵ متری/شمالی رو به آفتاب/اکبری</td>\n",
       "      <td>NaN</td>\n",
       "      <td>NaN</td>\n",
       "      <td>NaN</td>\n",
       "      <td>NaN</td>\n",
       "      <td>مقطوع</td>\n",
       "      <td>5.750000e+09</td>\n",
       "      <td>NaN</td>\n",
       "      <td>NaN</td>\n",
       "      <td>NaN</td>\n",
       "      <td>NaN</td>\n",
       "      <td>NaN</td>\n",
       "      <td>NaN</td>\n",
       "      <td>NaN</td>\n",
       "      <td>NaN</td>\n",
       "    </tr>\n",
       "  </tbody>\n",
       "</table>\n",
       "</div>"
      ],
      "text/plain": [
       "                                              title rent_mode  rent_value  \\\n",
       "0  باغ ویلا اجاره روزانه استخر داخل لشکرآباد سهیلیه       NaN         NaN   \n",
       "1                           ۶۰ متر قلهک فول امکانات       NaN         NaN   \n",
       "2                          آپارتمان ۳ خوابه ۱۳۲ متر     مقطوع  26000000.0   \n",
       "3           فرشته ۹۰ متر دفتر کار مدرن موقعیت اداری     مقطوع  95000000.0   \n",
       "4                  ۱۱۵ متری/شمالی رو به آفتاب/اکبری       NaN         NaN   \n",
       "\n",
       "  rent_to_single rent_type price_mode   price_value credit_mode  credit_value  \\\n",
       "0            NaN       NaN        NaN           NaN         NaN           NaN   \n",
       "1            NaN       NaN      مقطوع  8.500000e+09         NaN           NaN   \n",
       "2            NaN       NaN        NaN           NaN       مقطوع   750000000.0   \n",
       "3            NaN       NaN        NaN           NaN       مقطوع   950000000.0   \n",
       "4            NaN       NaN      مقطوع  5.750000e+09         NaN           NaN   \n",
       "\n",
       "  rent_credit_transform transformable_price  transformable_credit  \\\n",
       "0                   NaN                 NaN                   NaN   \n",
       "1                   NaN                 NaN                   NaN   \n",
       "2                 False               False           750000000.0   \n",
       "3                 False               False           950000000.0   \n",
       "4                   NaN                 NaN                   NaN   \n",
       "\n",
       "   transformed_credit  transformable_rent  transformed_rent  \n",
       "0                 NaN                 NaN               NaN  \n",
       "1                 NaN                 NaN               NaN  \n",
       "2                 NaN          26000000.0               NaN  \n",
       "3                 NaN          95000000.0               NaN  \n",
       "4                 NaN                 NaN               NaN  "
      ]
     },
     "execution_count": 2253,
     "metadata": {},
     "output_type": "execute_result"
    }
   ],
   "source": [
    "df[['title', 'rent_mode', 'rent_value', 'rent_to_single', 'rent_type',\n",
    "       'price_mode', 'price_value', 'credit_mode', 'credit_value',\n",
    "       'rent_credit_transform', 'transformable_price', 'transformable_credit',\n",
    "       'transformed_credit', 'transformable_rent', 'transformed_rent',]].head()"
   ]
  },
  {
   "cell_type": "code",
   "execution_count": 2254,
   "metadata": {},
   "outputs": [
    {
     "data": {
      "text/plain": [
       "cat2_slug\n",
       "residential-sell        535023\n",
       "residential-rent        270052\n",
       "commercial-rent          74566\n",
       "commercial-sell          36906\n",
       "temporary-rent           27752\n",
       "real-estate-services     18978\n",
       "Name: count, dtype: int64"
      ]
     },
     "execution_count": 2254,
     "metadata": {},
     "output_type": "execute_result"
    }
   ],
   "source": [
    "df.cat2_slug.value_counts()"
   ]
  },
  {
   "cell_type": "code",
   "execution_count": 2255,
   "metadata": {},
   "outputs": [
    {
     "data": {
      "text/plain": [
       "cat3_slug\n",
       "apartment-sell                        299928\n",
       "apartment-rent                        208957\n",
       "plot-old                              120619\n",
       "house-villa-sell                      114476\n",
       "house-villa-rent                       61095\n",
       "shop-rent                              44563\n",
       "office-rent                            21277\n",
       "shop-sell                              20920\n",
       "presell                                15443\n",
       "suite-apartment                        15407\n",
       "villa                                  11821\n",
       "industry-agriculture-business-sell     10874\n",
       "industry-agriculture-business-rent      8725\n",
       "office-sell                             5112\n",
       "partnership                             3535\n",
       "workspace                                524\n",
       "Name: count, dtype: int64"
      ]
     },
     "execution_count": 2255,
     "metadata": {},
     "output_type": "execute_result"
    }
   ],
   "source": [
    "df.cat3_slug.value_counts()"
   ]
  },
  {
   "cell_type": "code",
   "execution_count": 2256,
   "metadata": {},
   "outputs": [
    {
     "data": {
      "text/plain": [
       "property_type\n",
       "jungle             15638\n",
       "beach               3555\n",
       "other               3307\n",
       "jungle-mountain     2063\n",
       "mountain             146\n",
       "Name: count, dtype: int64"
      ]
     },
     "execution_count": 2256,
     "metadata": {},
     "output_type": "execute_result"
    }
   ],
   "source": [
    "df.property_type.value_counts()"
   ]
  },
  {
   "cell_type": "code",
   "execution_count": 2257,
   "metadata": {},
   "outputs": [],
   "source": [
    "df1 = df.drop(['Unnamed: 0', 'cat2_slug', 'rent_to_single', 'rent_price_on_regular_days',\n",
    "              'rent_price_on_special_days', 'rent_price_at_weekends', 'cost_per_extra_person',\n",
    "              'extra_person_capacity', 'regular_person_capacity', 'title', 'description',\n",
    "              'has_pool', 'has_jacuzzi', 'has_sauna', 'has_security_guard', 'has_barbecue',\n",
    "              'has_water', 'has_electricity', 'has_gas', 'transformed_credit', 'transformable_rent','transformed_rent',\n",
    "              'rent_credit_transform', 'has_business_deed', 'property_type', 'user_type'], axis=1)"
   ]
  },
  {
   "cell_type": "code",
   "execution_count": 2258,
   "metadata": {
    "colab": {
     "base_uri": "https://localhost:8080/",
     "height": 304
    },
    "id": "EcqKSazArds_",
    "outputId": "07e19dad-dc15-4924-e052-fbe657dadca7"
   },
   "outputs": [
    {
     "data": {
      "text/plain": [
       "rooms_count\n",
       "دو              393093\n",
       "یک              186171\n",
       "سه              136089\n",
       "بدون اتاق        73051\n",
       "چهار             20746\n",
       "پنج یا بیشتر     13468\n",
       "Name: count, dtype: int64"
      ]
     },
     "execution_count": 2258,
     "metadata": {},
     "output_type": "execute_result"
    }
   ],
   "source": [
    "df1['rooms_count'].value_counts()"
   ]
  },
  {
   "cell_type": "markdown",
   "metadata": {},
   "source": [
    "## Map rooms count from words into numbers"
   ]
  },
  {
   "cell_type": "code",
   "execution_count": 2259,
   "metadata": {
    "id": "HR5iOcG6sdYd"
   },
   "outputs": [],
   "source": [
    "room_dic = {'یک':1, 'دو':2, 'سه': 3, 'بدون اتاق':0, 'چهار': 4, 'پنج یا بیشتر': 5}\n",
    "df1['rooms_count'] = df1['rooms_count'].map(room_dic)\n"
   ]
  },
  {
   "cell_type": "code",
   "execution_count": 2260,
   "metadata": {},
   "outputs": [
    {
     "data": {
      "text/plain": [
       "rooms_count\n",
       "2.0    393093\n",
       "1.0    186171\n",
       "3.0    136089\n",
       "0.0     73051\n",
       "4.0     20746\n",
       "5.0     13468\n",
       "Name: count, dtype: int64"
      ]
     },
     "execution_count": 2260,
     "metadata": {},
     "output_type": "execute_result"
    }
   ],
   "source": [
    "df1.rooms_count.value_counts()"
   ]
  },
  {
   "cell_type": "code",
   "execution_count": 2261,
   "metadata": {},
   "outputs": [
    {
     "data": {
      "text/plain": [
       "Index(['cat3_slug', 'city_slug', 'neighborhood_slug', 'created_at_month',\n",
       "       'rent_mode', 'rent_value', 'rent_type', 'price_mode', 'price_value',\n",
       "       'credit_mode', 'credit_value', 'transformable_price',\n",
       "       'transformable_credit', 'land_size', 'building_size', 'deed_type',\n",
       "       'floor', 'rooms_count', 'total_floors_count', 'unit_per_floor',\n",
       "       'has_balcony', 'has_elevator', 'has_warehouse', 'has_parking',\n",
       "       'construction_year', 'is_rebuilt', 'has_warm_water_provider',\n",
       "       'has_heating_system', 'has_cooling_system', 'has_restroom',\n",
       "       'building_direction', 'floor_material', 'location_latitude',\n",
       "       'location_longitude', 'location_radius', 'category'],\n",
       "      dtype='object')"
      ]
     },
     "execution_count": 2261,
     "metadata": {},
     "output_type": "execute_result"
    }
   ],
   "source": [
    "df1.columns"
   ]
  },
  {
   "cell_type": "code",
   "execution_count": 2262,
   "metadata": {},
   "outputs": [
    {
     "data": {
      "text/plain": [
       "rent_type\n",
       "rent_credit    103048\n",
       "full_credit       144\n",
       "Name: count, dtype: int64"
      ]
     },
     "execution_count": 2262,
     "metadata": {},
     "output_type": "execute_result"
    }
   ],
   "source": [
    "df1['rent_type'].value_counts()"
   ]
  },
  {
   "cell_type": "code",
   "execution_count": 2263,
   "metadata": {},
   "outputs": [
    {
     "data": {
      "text/plain": [
       "rent_mode\n",
       "مقطوع     284690\n",
       "مجانی      58177\n",
       "توافقی      1625\n",
       "Name: count, dtype: int64"
      ]
     },
     "execution_count": 2263,
     "metadata": {},
     "output_type": "execute_result"
    }
   ],
   "source": [
    "df1['rent_mode'].value_counts()"
   ]
  },
  {
   "cell_type": "code",
   "execution_count": 2264,
   "metadata": {},
   "outputs": [
    {
     "data": {
      "text/html": [
       "<div>\n",
       "<style scoped>\n",
       "    .dataframe tbody tr th:only-of-type {\n",
       "        vertical-align: middle;\n",
       "    }\n",
       "\n",
       "    .dataframe tbody tr th {\n",
       "        vertical-align: top;\n",
       "    }\n",
       "\n",
       "    .dataframe thead th {\n",
       "        text-align: right;\n",
       "    }\n",
       "</style>\n",
       "<table border=\"1\" class=\"dataframe\">\n",
       "  <thead>\n",
       "    <tr style=\"text-align: right;\">\n",
       "      <th></th>\n",
       "      <th>transformable_credit</th>\n",
       "      <th>price_value</th>\n",
       "    </tr>\n",
       "  </thead>\n",
       "  <tbody>\n",
       "    <tr>\n",
       "      <th>2</th>\n",
       "      <td>7.500000e+08</td>\n",
       "      <td>NaN</td>\n",
       "    </tr>\n",
       "    <tr>\n",
       "      <th>3</th>\n",
       "      <td>9.500000e+08</td>\n",
       "      <td>NaN</td>\n",
       "    </tr>\n",
       "    <tr>\n",
       "      <th>5</th>\n",
       "      <td>2.500000e+08</td>\n",
       "      <td>NaN</td>\n",
       "    </tr>\n",
       "    <tr>\n",
       "      <th>6</th>\n",
       "      <td>1.500000e+08</td>\n",
       "      <td>NaN</td>\n",
       "    </tr>\n",
       "    <tr>\n",
       "      <th>11</th>\n",
       "      <td>1.200000e+09</td>\n",
       "      <td>NaN</td>\n",
       "    </tr>\n",
       "    <tr>\n",
       "      <th>...</th>\n",
       "      <td>...</td>\n",
       "      <td>...</td>\n",
       "    </tr>\n",
       "    <tr>\n",
       "      <th>963262</th>\n",
       "      <td>2.200000e+08</td>\n",
       "      <td>NaN</td>\n",
       "    </tr>\n",
       "    <tr>\n",
       "      <th>963264</th>\n",
       "      <td>3.000000e+07</td>\n",
       "      <td>NaN</td>\n",
       "    </tr>\n",
       "    <tr>\n",
       "      <th>963270</th>\n",
       "      <td>1.500000e+08</td>\n",
       "      <td>NaN</td>\n",
       "    </tr>\n",
       "    <tr>\n",
       "      <th>963273</th>\n",
       "      <td>1.000000e+09</td>\n",
       "      <td>NaN</td>\n",
       "    </tr>\n",
       "    <tr>\n",
       "      <th>963276</th>\n",
       "      <td>3.500000e+08</td>\n",
       "      <td>NaN</td>\n",
       "    </tr>\n",
       "  </tbody>\n",
       "</table>\n",
       "<p>340878 rows × 2 columns</p>\n",
       "</div>"
      ],
      "text/plain": [
       "        transformable_credit  price_value\n",
       "2               7.500000e+08          NaN\n",
       "3               9.500000e+08          NaN\n",
       "5               2.500000e+08          NaN\n",
       "6               1.500000e+08          NaN\n",
       "11              1.200000e+09          NaN\n",
       "...                      ...          ...\n",
       "963262          2.200000e+08          NaN\n",
       "963264          3.000000e+07          NaN\n",
       "963270          1.500000e+08          NaN\n",
       "963273          1.000000e+09          NaN\n",
       "963276          3.500000e+08          NaN\n",
       "\n",
       "[340878 rows x 2 columns]"
      ]
     },
     "execution_count": 2264,
     "metadata": {},
     "output_type": "execute_result"
    }
   ],
   "source": [
    "df1[df1['credit_mode']=='مقطوع'][['transformable_credit', 'price_value']]"
   ]
  },
  {
   "cell_type": "code",
   "execution_count": 2265,
   "metadata": {},
   "outputs": [
    {
     "data": {
      "text/plain": [
       "11        1.200000e+09\n",
       "38        2.500000e+08\n",
       "48        1.500000e+09\n",
       "65        2.500000e+09\n",
       "92        1.200000e+09\n",
       "              ...     \n",
       "963228    5.000000e+08\n",
       "963236    3.600000e+08\n",
       "963240    3.100000e+08\n",
       "963246    4.600000e+08\n",
       "963276    3.500000e+08\n",
       "Name: transformable_credit, Length: 58177, dtype: float64"
      ]
     },
     "execution_count": 2265,
     "metadata": {},
     "output_type": "execute_result"
    }
   ],
   "source": [
    "df1[df1['rent_mode']=='مجانی']['transformable_credit']"
   ]
  },
  {
   "cell_type": "code",
   "execution_count": 2266,
   "metadata": {},
   "outputs": [
    {
     "data": {
      "text/plain": [
       "has_balcony\n",
       "true        382337\n",
       "false        84877\n",
       "True         20194\n",
       "False         4321\n",
       "unselect       207\n",
       "Name: count, dtype: int64"
      ]
     },
     "execution_count": 2266,
     "metadata": {},
     "output_type": "execute_result"
    }
   ],
   "source": [
    "df1['has_balcony'].value_counts()"
   ]
  },
  {
   "cell_type": "code",
   "execution_count": 2267,
   "metadata": {},
   "outputs": [
    {
     "data": {
      "text/plain": [
       "construction_year\n",
       "۱۴۰۳           113120\n",
       "۱۳۹۰            57381\n",
       "۱۴۰۲            56835\n",
       "۱۴۰۰            52210\n",
       "۱۳۹۵            51540\n",
       "۱۳۹۸            37329\n",
       "۱۳۹۷            35540\n",
       "۱۳۹۶            34694\n",
       "۱۴۰۱            34530\n",
       "۱۳۸۵            33335\n",
       "۱۳۹۹            28890\n",
       "۱۳۹۳            28387\n",
       "۱۳۹۴            25438\n",
       "۱۳۹۲            25334\n",
       "۱۳۸۸            23804\n",
       "۱۳۸۰            22809\n",
       "قبل از ۱۳۷۰     19688\n",
       "۱۳۸۹            16391\n",
       "۱۳۹۱            15870\n",
       "۱۳۸۷            13867\n",
       "۱۳۸۶            13181\n",
       "۱۳۸۳             9746\n",
       "۱۳۸۴             8367\n",
       "۱۳۷۵             7009\n",
       "۱۳۸۲             6834\n",
       "۱۳۷۱             5316\n",
       "۱۳۸۱             3523\n",
       "۱۳۷۸             2952\n",
       "۱۳۷۹             2349\n",
       "۱۳۷۷             2037\n",
       "۱۳۷۲             1837\n",
       "۱۳۷۳             1769\n",
       "۱۳۷۶             1544\n",
       "۱۳۷۴             1245\n",
       "Name: count, dtype: int64"
      ]
     },
     "execution_count": 2267,
     "metadata": {},
     "output_type": "execute_result"
    }
   ],
   "source": [
    "df1.construction_year.value_counts()"
   ]
  },
  {
   "cell_type": "code",
   "execution_count": 2268,
   "metadata": {},
   "outputs": [],
   "source": [
    "df1.loc[df1.construction_year=='قبل از ۱۳۷۰', 'construction_year'] = 1369\n",
    "df1.construction_year = df1.construction_year.astype('float')\n"
   ]
  },
  {
   "cell_type": "code",
   "execution_count": 2269,
   "metadata": {},
   "outputs": [
    {
     "data": {
      "text/plain": [
       "0                  NaN\n",
       "1                  NaN\n",
       "2         1.616667e+09\n",
       "3         4.116667e+09\n",
       "4                  NaN\n",
       "              ...     \n",
       "963272             NaN\n",
       "963273    2.500000e+09\n",
       "963274             NaN\n",
       "963275             NaN\n",
       "963276    3.500000e+08\n",
       "Name: full_credit, Length: 963277, dtype: float64"
      ]
     },
     "execution_count": 2269,
     "metadata": {},
     "output_type": "execute_result"
    }
   ],
   "source": [
    "df1['full_price'] = df1['price_value']\n",
    "\n",
    "df1['full_credit'] = df1['credit_value'] + (df1['rent_value']/3)*100\n",
    "df1['full_credit']"
   ]
  },
  {
   "cell_type": "code",
   "execution_count": 2270,
   "metadata": {},
   "outputs": [],
   "source": [
    "this_year = max(df1.construction_year.value_counts().index)\n",
    "\n",
    "def find_full_price(x):\n",
    "    if x['full_price'] is not None:\n",
    "        return x['full_price']\n",
    "    if x['construction_year'] is None:\n",
    "        return x['full_credit']*5\n",
    "    elif this_year - x['construction_year'] < 5:\n",
    "        return x['full_credit']*4\n",
    "    elif this_year - x['construction_year'] < 10:\n",
    "        return x['full_credit']*5\n",
    "    else:\n",
    "        return x['full_credit']*6"
   ]
  },
  {
   "cell_type": "code",
   "execution_count": 2271,
   "metadata": {},
   "outputs": [],
   "source": [
    "df1['full_price'] = df1.apply(find_full_price, axis=1)"
   ]
  },
  {
   "cell_type": "code",
   "execution_count": 2272,
   "metadata": {},
   "outputs": [
    {
     "data": {
      "text/plain": [
       "np.int64(417303)"
      ]
     },
     "execution_count": 2272,
     "metadata": {},
     "output_type": "execute_result"
    }
   ],
   "source": [
    "df1['full_price'].isna().sum()"
   ]
  },
  {
   "cell_type": "code",
   "execution_count": 2273,
   "metadata": {},
   "outputs": [],
   "source": [
    "df2 = df1.dropna(subset=['full_price']).reset_index().drop(['index', 'rent_mode', 'rent_type', 'price_mode', 'rent_value', 'credit_value',\n",
    "       'price_value', 'credit_mode', 'transformable_price', 'transformable_credit', 'full_credit'], axis=1)"
   ]
  },
  {
   "cell_type": "code",
   "execution_count": 2274,
   "metadata": {},
   "outputs": [],
   "source": [
    "df2.full_price = df2.full_price/1000000"
   ]
  },
  {
   "cell_type": "code",
   "execution_count": 2275,
   "metadata": {},
   "outputs": [
    {
     "data": {
      "text/plain": [
       "np.int64(15637)"
      ]
     },
     "execution_count": 2275,
     "metadata": {},
     "output_type": "execute_result"
    }
   ],
   "source": [
    "(df2.sort_values(by='full_price')['full_price']<100).sum()"
   ]
  },
  {
   "cell_type": "code",
   "execution_count": 2276,
   "metadata": {},
   "outputs": [
    {
     "data": {
      "text/plain": [
       "{'whiskers': [<matplotlib.lines.Line2D at 0xb29228490>,\n",
       "  <matplotlib.lines.Line2D at 0xbd0b60190>],\n",
       " 'caps': [<matplotlib.lines.Line2D at 0xb29229850>,\n",
       "  <matplotlib.lines.Line2D at 0xb2922a310>],\n",
       " 'boxes': [<matplotlib.lines.Line2D at 0xbd0b615d0>],\n",
       " 'medians': [<matplotlib.lines.Line2D at 0xb2922ac10>],\n",
       " 'fliers': [<matplotlib.lines.Line2D at 0xb2922b650>],\n",
       " 'means': []}"
      ]
     },
     "execution_count": 2276,
     "metadata": {},
     "output_type": "execute_result"
    },
    {
     "data": {
      "image/png": "[encoded data removed]",
      "text/plain": [
       "<Figure size 640x480 with 1 Axes>"
      ]
     },
     "metadata": {},
     "output_type": "display_data"
    }
   ],
   "source": [
    "plt.boxplot(df2.full_price)"
   ]
  },
  {
   "cell_type": "code",
   "execution_count": 2277,
   "metadata": {},
   "outputs": [],
   "source": [
    "df2 = df2.drop(df2[(df2.full_price<50)|(df2.full_price>5e9)].index)"
   ]
  },
  {
   "cell_type": "code",
   "execution_count": 2278,
   "metadata": {},
   "outputs": [
    {
     "name": "stdout",
     "output_type": "stream",
     "text": [
      "<class 'pandas.core.frame.DataFrame'>\n",
      "Index: 531417 entries, 0 to 545973\n",
      "Data columns (total 28 columns):\n",
      " #   Column                   Non-Null Count   Dtype  \n",
      "---  ------                   --------------   -----  \n",
      " 0   cat3_slug                531417 non-null  object \n",
      " 1   city_slug                531417 non-null  object \n",
      " 2   neighborhood_slug        229518 non-null  object \n",
      " 3   created_at_month         531417 non-null  object \n",
      " 4   land_size                108757 non-null  float64\n",
      " 5   building_size            530195 non-null  float64\n",
      " 6   deed_type                241719 non-null  object \n",
      " 7   floor                    298414 non-null  object \n",
      " 8   rooms_count              431136 non-null  float64\n",
      " 9   total_floors_count       182095 non-null  object \n",
      " 10  unit_per_floor           179938 non-null  object \n",
      " 11  has_balcony              297902 non-null  object \n",
      " 12  has_elevator             298414 non-null  object \n",
      " 13  has_warehouse            407175 non-null  object \n",
      " 14  has_parking              407175 non-null  object \n",
      " 15  construction_year        431078 non-null  float64\n",
      " 16  is_rebuilt               296402 non-null  object \n",
      " 17  has_warm_water_provider  218189 non-null  object \n",
      " 18  has_heating_system       213370 non-null  object \n",
      " 19  has_cooling_system       202101 non-null  object \n",
      " 20  has_restroom             234989 non-null  object \n",
      " 21  building_direction       196489 non-null  object \n",
      " 22  floor_material           235041 non-null  object \n",
      " 23  location_latitude        347920 non-null  float64\n",
      " 24  location_longitude       347920 non-null  float64\n",
      " 25  location_radius          198480 non-null  float64\n",
      " 26  category                 531417 non-null  object \n",
      " 27  full_price               531417 non-null  float64\n",
      "dtypes: float64(8), object(20)\n",
      "memory usage: 117.6+ MB\n"
     ]
    }
   ],
   "source": [
    "df2.info()"
   ]
  },
  {
   "cell_type": "code",
   "execution_count": 2279,
   "metadata": {},
   "outputs": [
    {
     "data": {
      "text/plain": [
       "{'whiskers': [<matplotlib.lines.Line2D at 0xbd0b6e510>,\n",
       "  <matplotlib.lines.Line2D at 0xbd0b6f050>],\n",
       " 'caps': [<matplotlib.lines.Line2D at 0xbd0b6fb50>,\n",
       "  <matplotlib.lines.Line2D at 0xc37d49c90>],\n",
       " 'boxes': [<matplotlib.lines.Line2D at 0xbd0b6db50>],\n",
       " 'medians': [<matplotlib.lines.Line2D at 0xc37d48910>],\n",
       " 'fliers': [<matplotlib.lines.Line2D at 0xc37d49310>],\n",
       " 'means': []}"
      ]
     },
     "execution_count": 2279,
     "metadata": {},
     "output_type": "execute_result"
    },
    {
     "data": {
      "image/png": "[encoded data removed]",
      "text/plain": [
       "<Figure size 640x480 with 1 Axes>"
      ]
     },
     "metadata": {},
     "output_type": "display_data"
    }
   ],
   "source": [
    "plt.boxplot(df2.full_price)"
   ]
  },
  {
   "cell_type": "code",
   "execution_count": 2280,
   "metadata": {},
   "outputs": [
    {
     "data": {
      "text/plain": [
       "<Axes: >"
      ]
     },
     "execution_count": 2280,
     "metadata": {},
     "output_type": "execute_result"
    },
    {
     "data": {
      "image/png": "[encoded data removed]",
      "text/plain": [
       "<Figure size 640x480 with 1 Axes>"
      ]
     },
     "metadata": {},
     "output_type": "display_data"
    }
   ],
   "source": [
    "df2.full_price.hist()"
   ]
  },
  {
   "cell_type": "code",
   "execution_count": 2281,
   "metadata": {},
   "outputs": [],
   "source": [
    "import numpy as np\n",
    "def replace_outliers(df, c_name):\n",
    "    c = df[c_name]\n",
    "    df[c_name] = df[c_name].astype(float)\n",
    "    q1 = c.quantile(0.25)\n",
    "    q3 = c.quantile(0.75)\n",
    "    iqr = q3 - q1\n",
    "    upper = q3 + 1.5*iqr\n",
    "    lower = q1 - 1.5*iqr\n",
    "    \n",
    "    c = np.where(c>upper, upper, c)\n",
    "    c = np.where(c<lower, lower, c)\n",
    "    df.loc[:, c_name] = c\n",
    "    return df"
   ]
  },
  {
   "cell_type": "code",
   "execution_count": 2282,
   "metadata": {},
   "outputs": [],
   "source": [
    "df2 = replace_outliers(df2, 'full_price')"
   ]
  },
  {
   "cell_type": "code",
   "execution_count": 2283,
   "metadata": {},
   "outputs": [
    {
     "data": {
      "text/plain": [
       "{'whiskers': [<matplotlib.lines.Line2D at 0xc376bfc50>,\n",
       "  <matplotlib.lines.Line2D at 0xbd779c350>],\n",
       " 'caps': [<matplotlib.lines.Line2D at 0xbd779ce50>,\n",
       "  <matplotlib.lines.Line2D at 0xbd779d850>],\n",
       " 'boxes': [<matplotlib.lines.Line2D at 0xc376bf310>],\n",
       " 'medians': [<matplotlib.lines.Line2D at 0xbd779e310>],\n",
       " 'fliers': [<matplotlib.lines.Line2D at 0xbd779ea10>],\n",
       " 'means': []}"
      ]
     },
     "execution_count": 2283,
     "metadata": {},
     "output_type": "execute_result"
    },
    {
     "data": {
      "image/png": "[encoded data removed]",
      "text/plain": [
       "<Figure size 640x480 with 1 Axes>"
      ]
     },
     "metadata": {},
     "output_type": "display_data"
    }
   ],
   "source": [
    "plt.boxplot(df2.full_price)"
   ]
  },
  {
   "cell_type": "code",
   "execution_count": 2284,
   "metadata": {},
   "outputs": [
    {
     "data": {
      "text/plain": [
       "<Axes: >"
      ]
     },
     "execution_count": 2284,
     "metadata": {},
     "output_type": "execute_result"
    },
    {
     "data": {
      "image/png": "[encoded data removed]",
      "text/plain": [
       "<Figure size 640x480 with 1 Axes>"
      ]
     },
     "metadata": {},
     "output_type": "display_data"
    }
   ],
   "source": [
    "df2.full_price.hist()"
   ]
  },
  {
   "cell_type": "code",
   "execution_count": 2285,
   "metadata": {},
   "outputs": [
    {
     "data": {
      "text/html": [
       "<div>\n",
       "<style scoped>\n",
       "    .dataframe tbody tr th:only-of-type {\n",
       "        vertical-align: middle;\n",
       "    }\n",
       "\n",
       "    .dataframe tbody tr th {\n",
       "        vertical-align: top;\n",
       "    }\n",
       "\n",
       "    .dataframe thead th {\n",
       "        text-align: right;\n",
       "    }\n",
       "</style>\n",
       "<table border=\"1\" class=\"dataframe\">\n",
       "  <thead>\n",
       "    <tr style=\"text-align: right;\">\n",
       "      <th></th>\n",
       "      <th>cat3_slug</th>\n",
       "      <th>city_slug</th>\n",
       "      <th>neighborhood_slug</th>\n",
       "      <th>created_at_month</th>\n",
       "      <th>land_size</th>\n",
       "      <th>building_size</th>\n",
       "      <th>deed_type</th>\n",
       "      <th>floor</th>\n",
       "      <th>rooms_count</th>\n",
       "      <th>total_floors_count</th>\n",
       "      <th>...</th>\n",
       "      <th>has_heating_system</th>\n",
       "      <th>has_cooling_system</th>\n",
       "      <th>has_restroom</th>\n",
       "      <th>building_direction</th>\n",
       "      <th>floor_material</th>\n",
       "      <th>location_latitude</th>\n",
       "      <th>location_longitude</th>\n",
       "      <th>location_radius</th>\n",
       "      <th>category</th>\n",
       "      <th>full_price</th>\n",
       "    </tr>\n",
       "  </thead>\n",
       "  <tbody>\n",
       "    <tr>\n",
       "      <th>228978</th>\n",
       "      <td>plot-old</td>\n",
       "      <td>yazd</td>\n",
       "      <td>NaN</td>\n",
       "      <td>2024-07-01 00:00:00</td>\n",
       "      <td>NaN</td>\n",
       "      <td>500.0</td>\n",
       "      <td>NaN</td>\n",
       "      <td>NaN</td>\n",
       "      <td>NaN</td>\n",
       "      <td>NaN</td>\n",
       "      <td>...</td>\n",
       "      <td>NaN</td>\n",
       "      <td>NaN</td>\n",
       "      <td>NaN</td>\n",
       "      <td>NaN</td>\n",
       "      <td>NaN</td>\n",
       "      <td>35.688332</td>\n",
       "      <td>50.979565</td>\n",
       "      <td>NaN</td>\n",
       "      <td>شهر کوچک</td>\n",
       "      <td>50.0</td>\n",
       "    </tr>\n",
       "    <tr>\n",
       "      <th>179523</th>\n",
       "      <td>apartment-sell</td>\n",
       "      <td>mashhad</td>\n",
       "      <td>bolvartoos</td>\n",
       "      <td>2024-10-01 00:00:00</td>\n",
       "      <td>NaN</td>\n",
       "      <td>50.0</td>\n",
       "      <td>NaN</td>\n",
       "      <td>0</td>\n",
       "      <td>1.0</td>\n",
       "      <td>NaN</td>\n",
       "      <td>...</td>\n",
       "      <td>NaN</td>\n",
       "      <td>NaN</td>\n",
       "      <td>NaN</td>\n",
       "      <td>NaN</td>\n",
       "      <td>NaN</td>\n",
       "      <td>NaN</td>\n",
       "      <td>NaN</td>\n",
       "      <td>NaN</td>\n",
       "      <td>کلان‌شهر</td>\n",
       "      <td>50.0</td>\n",
       "    </tr>\n",
       "    <tr>\n",
       "      <th>102470</th>\n",
       "      <td>plot-old</td>\n",
       "      <td>karaj</td>\n",
       "      <td>shahinvilla</td>\n",
       "      <td>2024-10-01 00:00:00</td>\n",
       "      <td>NaN</td>\n",
       "      <td>500.0</td>\n",
       "      <td>NaN</td>\n",
       "      <td>NaN</td>\n",
       "      <td>NaN</td>\n",
       "      <td>NaN</td>\n",
       "      <td>...</td>\n",
       "      <td>NaN</td>\n",
       "      <td>NaN</td>\n",
       "      <td>NaN</td>\n",
       "      <td>NaN</td>\n",
       "      <td>NaN</td>\n",
       "      <td>35.847485</td>\n",
       "      <td>50.950539</td>\n",
       "      <td>NaN</td>\n",
       "      <td>کلان‌شهر</td>\n",
       "      <td>50.0</td>\n",
       "    </tr>\n",
       "    <tr>\n",
       "      <th>400040</th>\n",
       "      <td>plot-old</td>\n",
       "      <td>mahmudabad</td>\n",
       "      <td>NaN</td>\n",
       "      <td>2024-07-01 00:00:00</td>\n",
       "      <td>NaN</td>\n",
       "      <td>228.0</td>\n",
       "      <td>NaN</td>\n",
       "      <td>NaN</td>\n",
       "      <td>NaN</td>\n",
       "      <td>NaN</td>\n",
       "      <td>...</td>\n",
       "      <td>NaN</td>\n",
       "      <td>NaN</td>\n",
       "      <td>NaN</td>\n",
       "      <td>NaN</td>\n",
       "      <td>NaN</td>\n",
       "      <td>36.561268</td>\n",
       "      <td>52.288471</td>\n",
       "      <td>500.0</td>\n",
       "      <td>شهر کوچک</td>\n",
       "      <td>50.0</td>\n",
       "    </tr>\n",
       "    <tr>\n",
       "      <th>91029</th>\n",
       "      <td>house-villa-sell</td>\n",
       "      <td>yazd</td>\n",
       "      <td>NaN</td>\n",
       "      <td>2024-12-01 00:00:00</td>\n",
       "      <td>160.0</td>\n",
       "      <td>300.0</td>\n",
       "      <td>NaN</td>\n",
       "      <td>NaN</td>\n",
       "      <td>4.0</td>\n",
       "      <td>NaN</td>\n",
       "      <td>...</td>\n",
       "      <td>NaN</td>\n",
       "      <td>NaN</td>\n",
       "      <td>NaN</td>\n",
       "      <td>NaN</td>\n",
       "      <td>NaN</td>\n",
       "      <td>NaN</td>\n",
       "      <td>NaN</td>\n",
       "      <td>NaN</td>\n",
       "      <td>شهر کوچک</td>\n",
       "      <td>50.0</td>\n",
       "    </tr>\n",
       "    <tr>\n",
       "      <th>...</th>\n",
       "      <td>...</td>\n",
       "      <td>...</td>\n",
       "      <td>...</td>\n",
       "      <td>...</td>\n",
       "      <td>...</td>\n",
       "      <td>...</td>\n",
       "      <td>...</td>\n",
       "      <td>...</td>\n",
       "      <td>...</td>\n",
       "      <td>...</td>\n",
       "      <td>...</td>\n",
       "      <td>...</td>\n",
       "      <td>...</td>\n",
       "      <td>...</td>\n",
       "      <td>...</td>\n",
       "      <td>...</td>\n",
       "      <td>...</td>\n",
       "      <td>...</td>\n",
       "      <td>...</td>\n",
       "      <td>...</td>\n",
       "      <td>...</td>\n",
       "    </tr>\n",
       "    <tr>\n",
       "      <th>182106</th>\n",
       "      <td>plot-old</td>\n",
       "      <td>tehran</td>\n",
       "      <td>mirdamad</td>\n",
       "      <td>2024-06-01 00:00:00</td>\n",
       "      <td>NaN</td>\n",
       "      <td>500.0</td>\n",
       "      <td>NaN</td>\n",
       "      <td>NaN</td>\n",
       "      <td>NaN</td>\n",
       "      <td>NaN</td>\n",
       "      <td>...</td>\n",
       "      <td>NaN</td>\n",
       "      <td>NaN</td>\n",
       "      <td>NaN</td>\n",
       "      <td>NaN</td>\n",
       "      <td>NaN</td>\n",
       "      <td>35.762489</td>\n",
       "      <td>51.429859</td>\n",
       "      <td>500.0</td>\n",
       "      <td>کلان‌شهر</td>\n",
       "      <td>12985.0</td>\n",
       "    </tr>\n",
       "    <tr>\n",
       "      <th>182111</th>\n",
       "      <td>apartment-sell</td>\n",
       "      <td>mashhad</td>\n",
       "      <td>azadshahr</td>\n",
       "      <td>2024-12-01 00:00:00</td>\n",
       "      <td>NaN</td>\n",
       "      <td>175.0</td>\n",
       "      <td>single_page</td>\n",
       "      <td>5</td>\n",
       "      <td>3.0</td>\n",
       "      <td>6</td>\n",
       "      <td>...</td>\n",
       "      <td>duct_split</td>\n",
       "      <td>duct_split</td>\n",
       "      <td>squat_seat</td>\n",
       "      <td>south</td>\n",
       "      <td>stone</td>\n",
       "      <td>36.322556</td>\n",
       "      <td>59.527782</td>\n",
       "      <td>NaN</td>\n",
       "      <td>کلان‌شهر</td>\n",
       "      <td>12985.0</td>\n",
       "    </tr>\n",
       "    <tr>\n",
       "      <th>383141</th>\n",
       "      <td>apartment-sell</td>\n",
       "      <td>tehran</td>\n",
       "      <td>zafaraniyeh</td>\n",
       "      <td>2024-10-01 00:00:00</td>\n",
       "      <td>NaN</td>\n",
       "      <td>210.0</td>\n",
       "      <td>NaN</td>\n",
       "      <td>4</td>\n",
       "      <td>3.0</td>\n",
       "      <td>NaN</td>\n",
       "      <td>...</td>\n",
       "      <td>NaN</td>\n",
       "      <td>NaN</td>\n",
       "      <td>NaN</td>\n",
       "      <td>NaN</td>\n",
       "      <td>NaN</td>\n",
       "      <td>35.808865</td>\n",
       "      <td>51.415756</td>\n",
       "      <td>NaN</td>\n",
       "      <td>کلان‌شهر</td>\n",
       "      <td>12985.0</td>\n",
       "    </tr>\n",
       "    <tr>\n",
       "      <th>492085</th>\n",
       "      <td>house-villa-sell</td>\n",
       "      <td>khorramshahr</td>\n",
       "      <td>NaN</td>\n",
       "      <td>2024-12-01 00:00:00</td>\n",
       "      <td>200.0</td>\n",
       "      <td>170.0</td>\n",
       "      <td>single_page</td>\n",
       "      <td>NaN</td>\n",
       "      <td>3.0</td>\n",
       "      <td>NaN</td>\n",
       "      <td>...</td>\n",
       "      <td>NaN</td>\n",
       "      <td>NaN</td>\n",
       "      <td>squat_seat</td>\n",
       "      <td>north</td>\n",
       "      <td>ceramic</td>\n",
       "      <td>NaN</td>\n",
       "      <td>NaN</td>\n",
       "      <td>NaN</td>\n",
       "      <td>شهر کوچک</td>\n",
       "      <td>12985.0</td>\n",
       "    </tr>\n",
       "    <tr>\n",
       "      <th>288154</th>\n",
       "      <td>house-villa-sell</td>\n",
       "      <td>yazd</td>\n",
       "      <td>NaN</td>\n",
       "      <td>2024-06-01 00:00:00</td>\n",
       "      <td>200.0</td>\n",
       "      <td>560.0</td>\n",
       "      <td>NaN</td>\n",
       "      <td>NaN</td>\n",
       "      <td>2.0</td>\n",
       "      <td>NaN</td>\n",
       "      <td>...</td>\n",
       "      <td>NaN</td>\n",
       "      <td>NaN</td>\n",
       "      <td>NaN</td>\n",
       "      <td>NaN</td>\n",
       "      <td>NaN</td>\n",
       "      <td>31.884420</td>\n",
       "      <td>54.342766</td>\n",
       "      <td>NaN</td>\n",
       "      <td>شهر کوچک</td>\n",
       "      <td>12985.0</td>\n",
       "    </tr>\n",
       "  </tbody>\n",
       "</table>\n",
       "<p>531417 rows × 28 columns</p>\n",
       "</div>"
      ],
      "text/plain": [
       "               cat3_slug     city_slug neighborhood_slug     created_at_month  \\\n",
       "228978          plot-old          yazd               NaN  2024-07-01 00:00:00   \n",
       "179523    apartment-sell       mashhad        bolvartoos  2024-10-01 00:00:00   \n",
       "102470          plot-old         karaj       shahinvilla  2024-10-01 00:00:00   \n",
       "400040          plot-old    mahmudabad               NaN  2024-07-01 00:00:00   \n",
       "91029   house-villa-sell          yazd               NaN  2024-12-01 00:00:00   \n",
       "...                  ...           ...               ...                  ...   \n",
       "182106          plot-old        tehran          mirdamad  2024-06-01 00:00:00   \n",
       "182111    apartment-sell       mashhad         azadshahr  2024-12-01 00:00:00   \n",
       "383141    apartment-sell        tehran       zafaraniyeh  2024-10-01 00:00:00   \n",
       "492085  house-villa-sell  khorramshahr               NaN  2024-12-01 00:00:00   \n",
       "288154  house-villa-sell          yazd               NaN  2024-06-01 00:00:00   \n",
       "\n",
       "        land_size  building_size    deed_type floor  rooms_count  \\\n",
       "228978        NaN          500.0          NaN   NaN          NaN   \n",
       "179523        NaN           50.0          NaN     0          1.0   \n",
       "102470        NaN          500.0          NaN   NaN          NaN   \n",
       "400040        NaN          228.0          NaN   NaN          NaN   \n",
       "91029       160.0          300.0          NaN   NaN          4.0   \n",
       "...           ...            ...          ...   ...          ...   \n",
       "182106        NaN          500.0          NaN   NaN          NaN   \n",
       "182111        NaN          175.0  single_page     5          3.0   \n",
       "383141        NaN          210.0          NaN     4          3.0   \n",
       "492085      200.0          170.0  single_page   NaN          3.0   \n",
       "288154      200.0          560.0          NaN   NaN          2.0   \n",
       "\n",
       "       total_floors_count  ... has_heating_system has_cooling_system  \\\n",
       "228978                NaN  ...                NaN                NaN   \n",
       "179523                NaN  ...                NaN                NaN   \n",
       "102470                NaN  ...                NaN                NaN   \n",
       "400040                NaN  ...                NaN                NaN   \n",
       "91029                 NaN  ...                NaN                NaN   \n",
       "...                   ...  ...                ...                ...   \n",
       "182106                NaN  ...                NaN                NaN   \n",
       "182111                  6  ...         duct_split         duct_split   \n",
       "383141                NaN  ...                NaN                NaN   \n",
       "492085                NaN  ...                NaN                NaN   \n",
       "288154                NaN  ...                NaN                NaN   \n",
       "\n",
       "       has_restroom building_direction floor_material  location_latitude  \\\n",
       "228978          NaN                NaN            NaN          35.688332   \n",
       "179523          NaN                NaN            NaN                NaN   \n",
       "102470          NaN                NaN            NaN          35.847485   \n",
       "400040          NaN                NaN            NaN          36.561268   \n",
       "91029           NaN                NaN            NaN                NaN   \n",
       "...             ...                ...            ...                ...   \n",
       "182106          NaN                NaN            NaN          35.762489   \n",
       "182111   squat_seat              south          stone          36.322556   \n",
       "383141          NaN                NaN            NaN          35.808865   \n",
       "492085   squat_seat              north        ceramic                NaN   \n",
       "288154          NaN                NaN            NaN          31.884420   \n",
       "\n",
       "       location_longitude location_radius  category full_price  \n",
       "228978          50.979565             NaN  شهر کوچک       50.0  \n",
       "179523                NaN             NaN  کلان‌شهر       50.0  \n",
       "102470          50.950539             NaN  کلان‌شهر       50.0  \n",
       "400040          52.288471           500.0  شهر کوچک       50.0  \n",
       "91029                 NaN             NaN  شهر کوچک       50.0  \n",
       "...                   ...             ...       ...        ...  \n",
       "182106          51.429859           500.0  کلان‌شهر    12985.0  \n",
       "182111          59.527782             NaN  کلان‌شهر    12985.0  \n",
       "383141          51.415756             NaN  کلان‌شهر    12985.0  \n",
       "492085                NaN             NaN  شهر کوچک    12985.0  \n",
       "288154          54.342766             NaN  شهر کوچک    12985.0  \n",
       "\n",
       "[531417 rows x 28 columns]"
      ]
     },
     "execution_count": 2285,
     "metadata": {},
     "output_type": "execute_result"
    }
   ],
   "source": [
    "df2.sort_values(by='full_price')"
   ]
  },
  {
   "cell_type": "code",
   "execution_count": 2286,
   "metadata": {},
   "outputs": [
    {
     "name": "stdout",
     "output_type": "stream",
     "text": [
      "<class 'pandas.core.frame.DataFrame'>\n",
      "Index: 531417 entries, 0 to 545973\n",
      "Data columns (total 28 columns):\n",
      " #   Column                   Non-Null Count   Dtype  \n",
      "---  ------                   --------------   -----  \n",
      " 0   cat3_slug                531417 non-null  object \n",
      " 1   city_slug                531417 non-null  object \n",
      " 2   neighborhood_slug        229518 non-null  object \n",
      " 3   created_at_month         531417 non-null  object \n",
      " 4   land_size                108757 non-null  float64\n",
      " 5   building_size            530195 non-null  float64\n",
      " 6   deed_type                241719 non-null  object \n",
      " 7   floor                    298414 non-null  object \n",
      " 8   rooms_count              431136 non-null  float64\n",
      " 9   total_floors_count       182095 non-null  object \n",
      " 10  unit_per_floor           179938 non-null  object \n",
      " 11  has_balcony              297902 non-null  object \n",
      " 12  has_elevator             298414 non-null  object \n",
      " 13  has_warehouse            407175 non-null  object \n",
      " 14  has_parking              407175 non-null  object \n",
      " 15  construction_year        431078 non-null  float64\n",
      " 16  is_rebuilt               296402 non-null  object \n",
      " 17  has_warm_water_provider  218189 non-null  object \n",
      " 18  has_heating_system       213370 non-null  object \n",
      " 19  has_cooling_system       202101 non-null  object \n",
      " 20  has_restroom             234989 non-null  object \n",
      " 21  building_direction       196489 non-null  object \n",
      " 22  floor_material           235041 non-null  object \n",
      " 23  location_latitude        347920 non-null  float64\n",
      " 24  location_longitude       347920 non-null  float64\n",
      " 25  location_radius          198480 non-null  float64\n",
      " 26  category                 531417 non-null  object \n",
      " 27  full_price               531417 non-null  float64\n",
      "dtypes: float64(8), object(20)\n",
      "memory usage: 117.6+ MB\n"
     ]
    }
   ],
   "source": [
    "df2.info()"
   ]
  },
  {
   "cell_type": "code",
   "execution_count": 2287,
   "metadata": {},
   "outputs": [],
   "source": [
    "df2['created_at_month'] = pd.to_datetime(df2['created_at_month'])"
   ]
  },
  {
   "cell_type": "code",
   "execution_count": 2288,
   "metadata": {},
   "outputs": [
    {
     "data": {
      "text/plain": [
       "created_at_month\n",
       "2024    529362\n",
       "2023      1111\n",
       "2025       916\n",
       "2022        26\n",
       "2021         2\n",
       "Name: count, dtype: int64"
      ]
     },
     "execution_count": 2288,
     "metadata": {},
     "output_type": "execute_result"
    }
   ],
   "source": [
    "df2['created_at_month'].apply(lambda x: x.year).value_counts()"
   ]
  },
  {
   "cell_type": "code",
   "execution_count": 2289,
   "metadata": {},
   "outputs": [],
   "source": [
    "df2['year'] = df2['created_at_month'].apply(lambda x: x.year)\n",
    "df2 = df2[df2.year==2024]\n",
    "df2 = df2.drop(['created_at_month', 'year'], axis=1)"
   ]
  },
  {
   "cell_type": "code",
   "execution_count": 2290,
   "metadata": {},
   "outputs": [
    {
     "name": "stdout",
     "output_type": "stream",
     "text": [
      "<class 'pandas.core.frame.DataFrame'>\n",
      "Index: 529362 entries, 0 to 545973\n",
      "Data columns (total 27 columns):\n",
      " #   Column                   Non-Null Count   Dtype  \n",
      "---  ------                   --------------   -----  \n",
      " 0   cat3_slug                529362 non-null  object \n",
      " 1   city_slug                529362 non-null  object \n",
      " 2   neighborhood_slug        228864 non-null  object \n",
      " 3   land_size                108189 non-null  float64\n",
      " 4   building_size            528141 non-null  float64\n",
      " 5   deed_type                240621 non-null  object \n",
      " 6   floor                    297309 non-null  object \n",
      " 7   rooms_count              429404 non-null  float64\n",
      " 8   total_floors_count       181409 non-null  object \n",
      " 9   unit_per_floor           179256 non-null  object \n",
      " 10  has_balcony              296627 non-null  object \n",
      " 11  has_elevator             297309 non-null  object \n",
      " 12  has_warehouse            405502 non-null  object \n",
      " 13  has_parking              405502 non-null  object \n",
      " 14  construction_year        429346 non-null  float64\n",
      " 15  is_rebuilt               295360 non-null  object \n",
      " 16  has_warm_water_provider  217311 non-null  object \n",
      " 17  has_heating_system       212487 non-null  object \n",
      " 18  has_cooling_system       201267 non-null  object \n",
      " 19  has_restroom             234077 non-null  object \n",
      " 20  building_direction       195708 non-null  object \n",
      " 21  floor_material           234129 non-null  object \n",
      " 22  location_latitude        346897 non-null  float64\n",
      " 23  location_longitude       346897 non-null  float64\n",
      " 24  location_radius          197350 non-null  float64\n",
      " 25  category                 529362 non-null  object \n",
      " 26  full_price               529362 non-null  float64\n",
      "dtypes: float64(8), object(19)\n",
      "memory usage: 113.1+ MB\n"
     ]
    }
   ],
   "source": [
    "df2.info()"
   ]
  },
  {
   "cell_type": "code",
   "execution_count": 2291,
   "metadata": {},
   "outputs": [
    {
     "data": {
      "text/plain": [
       "city_slug\n",
       "tehran        97122\n",
       "mashhad       35133\n",
       "karaj         27929\n",
       "isfahan       20159\n",
       "shiraz        18206\n",
       "              ...  \n",
       "kiasar           56\n",
       "hendijan         51\n",
       "shal             48\n",
       "lavandevil       38\n",
       "hormuz           21\n",
       "Name: count, Length: 240, dtype: int64"
      ]
     },
     "execution_count": 2291,
     "metadata": {},
     "output_type": "execute_result"
    }
   ],
   "source": [
    "df2.city_slug.value_counts()"
   ]
  },
  {
   "cell_type": "code",
   "execution_count": 2292,
   "metadata": {},
   "outputs": [
    {
     "data": {
      "text/plain": [
       "city_slug       \n",
       "ahvaz          0              kianpars\n",
       "bandar-anzali  0          chaharfarize\n",
       "isfahan        0    baharestan-esfahan\n",
       "karaj          0       andishehnewcity\n",
       "lahijan        0      golestan-lahijan\n",
       "mashhad        0          elahiyehblvd\n",
       "qom            0         pardisan-ghom\n",
       "rasht          0               golsaar\n",
       "shiraz         0              mianrood\n",
       "talesh         0              hashtpar\n",
       "tehran         0                poonak\n",
       "Name: neighborhood_slug, dtype: object"
      ]
     },
     "execution_count": 2292,
     "metadata": {},
     "output_type": "execute_result"
    }
   ],
   "source": [
    "df2.groupby(['city_slug'])['neighborhood_slug'].apply(pd.Series.mode)"
   ]
  },
  {
   "cell_type": "code",
   "execution_count": 2293,
   "metadata": {},
   "outputs": [
    {
     "data": {
      "text/plain": [
       "neighborhood_slug\n",
       "elahiyehblvd       4585\n",
       "poonak             2836\n",
       "bolvartoos         2722\n",
       "ghasemabad         2613\n",
       "jeyhoun            2220\n",
       "                   ... \n",
       "bahonar-rasht         1\n",
       "amir-shahid           1\n",
       "shahrak-sanaati       1\n",
       "volox                 1\n",
       "jamaran-rasht         1\n",
       "Name: count, Length: 1175, dtype: int64"
      ]
     },
     "execution_count": 2293,
     "metadata": {},
     "output_type": "execute_result"
    }
   ],
   "source": [
    "df2['neighborhood_slug'].value_counts()"
   ]
  },
  {
   "cell_type": "code",
   "execution_count": 2294,
   "metadata": {},
   "outputs": [],
   "source": [
    "df2['neighborhood_slug'] = df2['neighborhood_slug'].fillna('Unknown')"
   ]
  },
  {
   "cell_type": "markdown",
   "metadata": {},
   "source": [
    "### building_size"
   ]
  },
  {
   "cell_type": "code",
   "execution_count": 2295,
   "metadata": {},
   "outputs": [],
   "source": [
    "df2['building_size'] = df2.groupby(['city_slug', 'neighborhood_slug'])['building_size'].transform(lambda x: x.fillna(x.median()))"
   ]
  },
  {
   "cell_type": "markdown",
   "metadata": {},
   "source": [
    "### land_size"
   ]
  },
  {
   "cell_type": "code",
   "execution_count": 2296,
   "metadata": {},
   "outputs": [
    {
     "name": "stdout",
     "output_type": "stream",
     "text": [
      "<class 'pandas.core.frame.DataFrame'>\n",
      "Index: 529362 entries, 0 to 545973\n",
      "Data columns (total 27 columns):\n",
      " #   Column                   Non-Null Count   Dtype  \n",
      "---  ------                   --------------   -----  \n",
      " 0   cat3_slug                529362 non-null  object \n",
      " 1   city_slug                529362 non-null  object \n",
      " 2   neighborhood_slug        529362 non-null  object \n",
      " 3   land_size                108189 non-null  float64\n",
      " 4   building_size            529362 non-null  float64\n",
      " 5   deed_type                240621 non-null  object \n",
      " 6   floor                    297309 non-null  object \n",
      " 7   rooms_count              429404 non-null  float64\n",
      " 8   total_floors_count       181409 non-null  object \n",
      " 9   unit_per_floor           179256 non-null  object \n",
      " 10  has_balcony              296627 non-null  object \n",
      " 11  has_elevator             297309 non-null  object \n",
      " 12  has_warehouse            405502 non-null  object \n",
      " 13  has_parking              405502 non-null  object \n",
      " 14  construction_year        429346 non-null  float64\n",
      " 15  is_rebuilt               295360 non-null  object \n",
      " 16  has_warm_water_provider  217311 non-null  object \n",
      " 17  has_heating_system       212487 non-null  object \n",
      " 18  has_cooling_system       201267 non-null  object \n",
      " 19  has_restroom             234077 non-null  object \n",
      " 20  building_direction       195708 non-null  object \n",
      " 21  floor_material           234129 non-null  object \n",
      " 22  location_latitude        346897 non-null  float64\n",
      " 23  location_longitude       346897 non-null  float64\n",
      " 24  location_radius          197350 non-null  float64\n",
      " 25  category                 529362 non-null  object \n",
      " 26  full_price               529362 non-null  float64\n",
      "dtypes: float64(8), object(19)\n",
      "memory usage: 113.1+ MB\n"
     ]
    }
   ],
   "source": [
    "df2.info()"
   ]
  },
  {
   "cell_type": "code",
   "execution_count": 2297,
   "metadata": {},
   "outputs": [],
   "source": [
    "land_size_medians = df2.groupby('building_size')['land_size'].median().ffill()\n",
    "df2['land_size'] = df2['land_size'].fillna(df2['building_size'].map(land_size_medians))"
   ]
  },
  {
   "cell_type": "markdown",
   "metadata": {},
   "source": [
    "### total_floor_count"
   ]
  },
  {
   "cell_type": "code",
   "execution_count": 2298,
   "metadata": {},
   "outputs": [
    {
     "data": {
      "text/plain": [
       "total_floors_count\n",
       "4           54972\n",
       "5           50573\n",
       "3           29588\n",
       "6           18745\n",
       "2            8308\n",
       "7            5374\n",
       "8            2754\n",
       "14           2310\n",
       "10           1598\n",
       "9            1159\n",
       "12            999\n",
       "11            903\n",
       "13            799\n",
       "15            640\n",
       "16            476\n",
       "20            351\n",
       "18            285\n",
       "21            210\n",
       "25            210\n",
       "19            174\n",
       "17            155\n",
       "30            148\n",
       "30+           141\n",
       "24            105\n",
       "22             82\n",
       "29             72\n",
       "unselect       65\n",
       "26             41\n",
       "4.0            34\n",
       "5.0            30\n",
       "23             24\n",
       "3.0            22\n",
       "27             18\n",
       "28             14\n",
       "6.0            10\n",
       "2.0             6\n",
       "10.0            2\n",
       "13.0            2\n",
       "7.0             2\n",
       "12.0            1\n",
       "8.0             1\n",
       "14.0            1\n",
       "20.0            1\n",
       "11.0            1\n",
       "21.0            1\n",
       "19.0            1\n",
       "25.0            1\n",
       "Name: count, dtype: int64"
      ]
     },
     "execution_count": 2298,
     "metadata": {},
     "output_type": "execute_result"
    }
   ],
   "source": [
    "df2.total_floors_count.value_counts()"
   ]
  },
  {
   "cell_type": "code",
   "execution_count": 2299,
   "metadata": {},
   "outputs": [],
   "source": [
    "df2.loc[df2['total_floors_count']=='unselect','total_floors_count'] = None\n",
    "df2.loc[df2['total_floors_count']=='30+','total_floors_count'] = '30'"
   ]
  },
  {
   "cell_type": "code",
   "execution_count": 2300,
   "metadata": {},
   "outputs": [],
   "source": [
    "df2['total_floors_count'] = df2['total_floors_count'].astype('float')\n",
    "floors_medians = df2.groupby(['city_slug', 'neighborhood_slug'])['total_floors_count'].median()\n",
    "\n",
    "df2['group_key'] = list(zip(df2['city_slug'], df2['neighborhood_slug']))\n",
    "df2['total_floors_count'] = df2['total_floors_count'].fillna(df2['group_key'].map(floors_medians))"
   ]
  },
  {
   "cell_type": "code",
   "execution_count": 2301,
   "metadata": {},
   "outputs": [],
   "source": [
    "df2['total_floors_count'] = df2['total_floors_count'].fillna(df2['total_floors_count'].median())"
   ]
  },
  {
   "cell_type": "markdown",
   "metadata": {},
   "source": [
    "### total_floor_count"
   ]
  },
  {
   "cell_type": "code",
   "execution_count": 2302,
   "metadata": {},
   "outputs": [
    {
     "data": {
      "text/plain": [
       "floor\n",
       "2       70835\n",
       "3       63156\n",
       "1       62076\n",
       "4       42650\n",
       "5       22471\n",
       "0       14244\n",
       "6        8425\n",
       "7        3374\n",
       "8        1871\n",
       "10       1409\n",
       "9        1300\n",
       "11        923\n",
       "-1        885\n",
       "12        786\n",
       "13        521\n",
       "14        507\n",
       "30+       410\n",
       "15        269\n",
       "16        177\n",
       "17        159\n",
       "18        119\n",
       "20        112\n",
       "19         84\n",
       "21         64\n",
       "25         63\n",
       "22         47\n",
       "1.0        45\n",
       "23         44\n",
       "30         43\n",
       "2.0        43\n",
       "3.0        36\n",
       "24         30\n",
       "4.0        25\n",
       "28         23\n",
       "27         17\n",
       "5.0        15\n",
       "26         14\n",
       "29         12\n",
       "0.0         9\n",
       "7.0         5\n",
       "6.0         4\n",
       "20.0        1\n",
       "8.0         1\n",
       "22.0        1\n",
       "14.0        1\n",
       "9.0         1\n",
       "11.0        1\n",
       "10.0        1\n",
       "Name: count, dtype: int64"
      ]
     },
     "execution_count": 2302,
     "metadata": {},
     "output_type": "execute_result"
    }
   ],
   "source": [
    "df2.floor.value_counts()"
   ]
  },
  {
   "cell_type": "code",
   "execution_count": 2303,
   "metadata": {},
   "outputs": [],
   "source": [
    "df2.loc[df2['floor']=='30+','floor'] = '30'\n",
    "df2['floor'] = df2['floor'].astype('float')"
   ]
  },
  {
   "cell_type": "code",
   "execution_count": 2304,
   "metadata": {},
   "outputs": [
    {
     "data": {
      "text/plain": [
       "np.int64(232053)"
      ]
     },
     "execution_count": 2304,
     "metadata": {},
     "output_type": "execute_result"
    }
   ],
   "source": [
    "df2.floor.isna().sum()"
   ]
  },
  {
   "cell_type": "code",
   "execution_count": 2305,
   "metadata": {},
   "outputs": [],
   "source": [
    "df2['floor'] = df2['floor'].fillna(\n",
    "    df2['total_floors_count'].map(\n",
    "        df2.groupby('total_floors_count')['floor'].median()\n",
    "    )\n",
    ")\n"
   ]
  },
  {
   "cell_type": "markdown",
   "metadata": {},
   "source": [
    "### unit_per_floor"
   ]
  },
  {
   "cell_type": "code",
   "execution_count": 2306,
   "metadata": {},
   "outputs": [
    {
     "data": {
      "text/plain": [
       "unit_per_floor\n",
       "2              73054\n",
       "1              52173\n",
       "4              23871\n",
       "3              19893\n",
       "5               3006\n",
       "6               2975\n",
       "8               2214\n",
       "more_than_8     1371\n",
       "7                557\n",
       "unselect         142\n",
       "Name: count, dtype: int64"
      ]
     },
     "execution_count": 2306,
     "metadata": {},
     "output_type": "execute_result"
    }
   ],
   "source": [
    "df2['unit_per_floor'].value_counts()"
   ]
  },
  {
   "cell_type": "code",
   "execution_count": 2307,
   "metadata": {},
   "outputs": [],
   "source": [
    "df2.loc[df2['unit_per_floor']=='more_than_8','unit_per_floor'] = '9'\n",
    "df2.loc[df2['unit_per_floor']=='unselect','unit_per_floor'] = None\n",
    "df2['unit_per_floor'] = df2['unit_per_floor'].astype('float')"
   ]
  },
  {
   "cell_type": "code",
   "execution_count": 2308,
   "metadata": {},
   "outputs": [],
   "source": [
    "df2['unit_per_floor'] = df2['unit_per_floor'].fillna(\n",
    "    df2['total_floors_count'].map(\n",
    "        df2.groupby('total_floors_count')['unit_per_floor'].median()\n",
    "    )\n",
    ")"
   ]
  },
  {
   "cell_type": "code",
   "execution_count": 2309,
   "metadata": {},
   "outputs": [],
   "source": [
    "df2 = df2.dropna(subset=['unit_per_floor'])"
   ]
  },
  {
   "cell_type": "markdown",
   "metadata": {},
   "source": [
    "### Rooms count"
   ]
  },
  {
   "cell_type": "code",
   "execution_count": 2310,
   "metadata": {},
   "outputs": [
    {
     "data": {
      "text/plain": [
       "np.int64(99958)"
      ]
     },
     "execution_count": 2310,
     "metadata": {},
     "output_type": "execute_result"
    }
   ],
   "source": [
    "df2.rooms_count.isna().sum()"
   ]
  },
  {
   "cell_type": "code",
   "execution_count": 2311,
   "metadata": {},
   "outputs": [],
   "source": [
    "rooms_medians = df2.groupby('building_size')['rooms_count'].median().ffill()\n",
    "\n",
    "df2['rooms_count'] = df2['rooms_count'].fillna(\n",
    "    df2['building_size'].map(rooms_medians)\n",
    ")"
   ]
  },
  {
   "cell_type": "markdown",
   "metadata": {},
   "source": [
    "### location ('location_latitude', 'location_longitude', 'location_radius')"
   ]
  },
  {
   "cell_type": "markdown",
   "metadata": {},
   "source": [
    "#### location_latitude"
   ]
  },
  {
   "cell_type": "code",
   "execution_count": 2312,
   "metadata": {},
   "outputs": [
    {
     "data": {
      "text/plain": [
       "np.int64(182465)"
      ]
     },
     "execution_count": 2312,
     "metadata": {},
     "output_type": "execute_result"
    }
   ],
   "source": [
    "df2.location_latitude.isna().sum()"
   ]
  },
  {
   "cell_type": "code",
   "execution_count": 2313,
   "metadata": {},
   "outputs": [],
   "source": [
    "df2['group_key'] = list(zip(df2['city_slug'], df2['neighborhood_slug']))\n",
    "lat_medians = df2.groupby(['group_key'])['location_latitude'].median().ffill()\n",
    "\n",
    "df2['location_latitude'] = df2['location_latitude'].fillna(\n",
    "    df2['group_key'].map(lat_medians)\n",
    ")"
   ]
  },
  {
   "cell_type": "code",
   "execution_count": 2314,
   "metadata": {},
   "outputs": [],
   "source": [
    "df2.drop(columns='group_key', inplace=True)"
   ]
  },
  {
   "cell_type": "markdown",
   "metadata": {},
   "source": [
    "#### location_longitude"
   ]
  },
  {
   "cell_type": "code",
   "execution_count": 2315,
   "metadata": {},
   "outputs": [
    {
     "data": {
      "text/plain": [
       "np.int64(182465)"
      ]
     },
     "execution_count": 2315,
     "metadata": {},
     "output_type": "execute_result"
    }
   ],
   "source": [
    "df2.location_longitude.isna().sum()"
   ]
  },
  {
   "cell_type": "code",
   "execution_count": 2316,
   "metadata": {},
   "outputs": [],
   "source": [
    "df2['group_key'] = list(zip(df2['city_slug'], df2['neighborhood_slug']))\n",
    "lat_medians = df2.groupby(['group_key'])['location_longitude'].median().ffill()\n",
    "\n",
    "df2['location_longitude'] = df2['location_longitude'].fillna(\n",
    "    df2['group_key'].map(lat_medians)\n",
    ")"
   ]
  },
  {
   "cell_type": "code",
   "execution_count": 2317,
   "metadata": {},
   "outputs": [],
   "source": [
    "df2.drop(columns='group_key', inplace=True)"
   ]
  },
  {
   "cell_type": "markdown",
   "metadata": {},
   "source": [
    "#### location_radius"
   ]
  },
  {
   "cell_type": "code",
   "execution_count": 2318,
   "metadata": {},
   "outputs": [
    {
     "data": {
      "text/plain": [
       "np.int64(332007)"
      ]
     },
     "execution_count": 2318,
     "metadata": {},
     "output_type": "execute_result"
    }
   ],
   "source": [
    "df2.location_radius.isna().sum()"
   ]
  },
  {
   "cell_type": "code",
   "execution_count": 2319,
   "metadata": {},
   "outputs": [],
   "source": [
    "df2['group_key'] = list(zip(df2['city_slug'], df2['neighborhood_slug']))\n",
    "lat_medians = df2.groupby(['group_key'])['location_radius'].median().ffill()\n",
    "\n",
    "df2['location_radius'] = df2['location_radius'].fillna(\n",
    "    df2['group_key'].map(lat_medians)\n",
    ")\n",
    "df2.drop(columns='group_key', inplace=True)"
   ]
  },
  {
   "cell_type": "code",
   "execution_count": 2320,
   "metadata": {},
   "outputs": [
    {
     "data": {
      "text/plain": [
       "np.int64(0)"
      ]
     },
     "execution_count": 2320,
     "metadata": {},
     "output_type": "execute_result"
    }
   ],
   "source": [
    "df2.location_radius.isna().sum()"
   ]
  },
  {
   "cell_type": "markdown",
   "metadata": {},
   "source": [
    "### floor_material"
   ]
  },
  {
   "cell_type": "code",
   "execution_count": 2321,
   "metadata": {},
   "outputs": [
    {
     "data": {
      "text/plain": [
       "floor_material\n",
       "ceramic             181782\n",
       "stone                21592\n",
       "wood_parquet          8623\n",
       "carpet                7587\n",
       "mosaic                6924\n",
       "laminate_parquet      5704\n",
       "floor_covering        1024\n",
       "unselect               892\n",
       "Name: count, dtype: int64"
      ]
     },
     "execution_count": 2321,
     "metadata": {},
     "output_type": "execute_result"
    }
   ],
   "source": [
    "df2['floor_material'].value_counts()"
   ]
  },
  {
   "cell_type": "code",
   "execution_count": 2322,
   "metadata": {},
   "outputs": [
    {
     "data": {
      "text/plain": [
       "city_slug            0\n",
       "neighborhood_slug    0\n",
       "level_2              0\n",
       "floor_material       0\n",
       "dtype: int64"
      ]
     },
     "execution_count": 2322,
     "metadata": {},
     "output_type": "execute_result"
    }
   ],
   "source": [
    "df2.groupby(['city_slug', 'neighborhood_slug'])['floor_material'].apply(pd.Series.mode).reset_index().isna().sum()"
   ]
  },
  {
   "cell_type": "code",
   "execution_count": 2323,
   "metadata": {},
   "outputs": [],
   "source": [
    "df2['group_key'] = list(zip(df2['city_slug'], df2['neighborhood_slug']))\n",
    "\n",
    "floor_mode = df2.groupby('group_key')['floor_material'].agg(\n",
    "    lambda x: pd.Series.mode(x)[0] if not pd.Series.mode(x).empty else np.nan\n",
    ")\n",
    "\n",
    "df2['floor_material'] = df2['floor_material'].fillna(\n",
    "    df2['group_key'].map(floor_mode)\n",
    ")\n",
    "\n",
    "df2.drop(columns='group_key', inplace=True)"
   ]
  },
  {
   "cell_type": "code",
   "execution_count": 2324,
   "metadata": {},
   "outputs": [
    {
     "data": {
      "text/plain": [
       "np.int64(64)"
      ]
     },
     "execution_count": 2324,
     "metadata": {},
     "output_type": "execute_result"
    }
   ],
   "source": [
    "df2['floor_material'].isna().sum()"
   ]
  },
  {
   "cell_type": "code",
   "execution_count": 2325,
   "metadata": {},
   "outputs": [],
   "source": [
    "df2 = df2.dropna(subset=['floor_material'])"
   ]
  },
  {
   "cell_type": "code",
   "execution_count": 2326,
   "metadata": {},
   "outputs": [
    {
     "data": {
      "text/plain": [
       "np.int64(0)"
      ]
     },
     "execution_count": 2326,
     "metadata": {},
     "output_type": "execute_result"
    }
   ],
   "source": [
    "df2['floor_material'].isna().sum()"
   ]
  },
  {
   "cell_type": "code",
   "execution_count": 2327,
   "metadata": {},
   "outputs": [
    {
     "name": "stdout",
     "output_type": "stream",
     "text": [
      "<class 'pandas.core.frame.DataFrame'>\n",
      "Index: 529293 entries, 0 to 545973\n",
      "Data columns (total 27 columns):\n",
      " #   Column                   Non-Null Count   Dtype  \n",
      "---  ------                   --------------   -----  \n",
      " 0   cat3_slug                529293 non-null  object \n",
      " 1   city_slug                529293 non-null  object \n",
      " 2   neighborhood_slug        529293 non-null  object \n",
      " 3   land_size                529293 non-null  float64\n",
      " 4   building_size            529293 non-null  float64\n",
      " 5   deed_type                240612 non-null  object \n",
      " 6   floor                    529293 non-null  float64\n",
      " 7   rooms_count              529293 non-null  float64\n",
      " 8   total_floors_count       529293 non-null  float64\n",
      " 9   unit_per_floor           529293 non-null  float64\n",
      " 10  has_balcony              296608 non-null  object \n",
      " 11  has_elevator             297290 non-null  object \n",
      " 12  has_warehouse            405466 non-null  object \n",
      " 13  has_parking              405466 non-null  object \n",
      " 14  construction_year        429302 non-null  float64\n",
      " 15  is_rebuilt               295331 non-null  object \n",
      " 16  has_warm_water_provider  217308 non-null  object \n",
      " 17  has_heating_system       212485 non-null  object \n",
      " 18  has_cooling_system       201265 non-null  object \n",
      " 19  has_restroom             234073 non-null  object \n",
      " 20  building_direction       195705 non-null  object \n",
      " 21  floor_material           529293 non-null  object \n",
      " 22  location_latitude        529293 non-null  float64\n",
      " 23  location_longitude       529293 non-null  float64\n",
      " 24  location_radius          529293 non-null  float64\n",
      " 25  category                 529293 non-null  object \n",
      " 26  full_price               529293 non-null  float64\n",
      "dtypes: float64(11), object(16)\n",
      "memory usage: 113.1+ MB\n"
     ]
    }
   ],
   "source": [
    "df2.info()"
   ]
  },
  {
   "cell_type": "markdown",
   "metadata": {},
   "source": [
    "### deed_type"
   ]
  },
  {
   "cell_type": "code",
   "execution_count": 2328,
   "metadata": {},
   "outputs": [
    {
     "data": {
      "text/plain": [
       "deed_type\n",
       "single_page          185558\n",
       "written_agreement     29721\n",
       "other                 19022\n",
       "multi_page             5802\n",
       "unselect                509\n",
       "Name: count, dtype: int64"
      ]
     },
     "execution_count": 2328,
     "metadata": {},
     "output_type": "execute_result"
    }
   ],
   "source": [
    "df2.deed_type.value_counts()"
   ]
  },
  {
   "cell_type": "code",
   "execution_count": 2329,
   "metadata": {},
   "outputs": [],
   "source": [
    "df2.loc[df2['deed_type']=='unselect','deed_type'] = None"
   ]
  },
  {
   "cell_type": "code",
   "execution_count": 2330,
   "metadata": {},
   "outputs": [],
   "source": [
    "from sklearn.preprocessing import LabelEncoder\n",
    "le = LabelEncoder()\n",
    "df2['deed_type'] = le.fit_transform(df2['deed_type'])"
   ]
  },
  {
   "cell_type": "code",
   "execution_count": 2331,
   "metadata": {},
   "outputs": [
    {
     "data": {
      "text/plain": [
       "deed_type\n",
       "5    288681\n",
       "2    185558\n",
       "3     29721\n",
       "1     19022\n",
       "0      5802\n",
       "4       509\n",
       "Name: count, dtype: int64"
      ]
     },
     "execution_count": 2331,
     "metadata": {},
     "output_type": "execute_result"
    }
   ],
   "source": [
    "df2.deed_type.value_counts()"
   ]
  },
  {
   "cell_type": "markdown",
   "metadata": {},
   "source": [
    "### building direction"
   ]
  },
  {
   "cell_type": "code",
   "execution_count": 2332,
   "metadata": {},
   "outputs": [
    {
     "data": {
      "text/plain": [
       "building_direction\n",
       "south       97296\n",
       "north       85316\n",
       "east         7064\n",
       "west         4115\n",
       "unselect     1914\n",
       "Name: count, dtype: int64"
      ]
     },
     "execution_count": 2332,
     "metadata": {},
     "output_type": "execute_result"
    }
   ],
   "source": [
    "df2['building_direction'].value_counts()"
   ]
  },
  {
   "cell_type": "code",
   "execution_count": 2333,
   "metadata": {},
   "outputs": [
    {
     "data": {
      "text/plain": [
       "city_slug             0\n",
       "neighborhood_slug     0\n",
       "level_2               0\n",
       "building_direction    0\n",
       "dtype: int64"
      ]
     },
     "execution_count": 2333,
     "metadata": {},
     "output_type": "execute_result"
    }
   ],
   "source": [
    "df2.groupby(['city_slug', 'neighborhood_slug'])['building_direction'].apply(pd.Series.mode).reset_index().isna().sum()"
   ]
  },
  {
   "cell_type": "code",
   "execution_count": 2334,
   "metadata": {},
   "outputs": [],
   "source": [
    "df2['group_key'] = list(zip(df2['city_slug'], df2['neighborhood_slug']))\n",
    "building_dir_mode = df2.groupby('group_key')['building_direction'].agg(\n",
    "    lambda x: pd.Series.mode(x)[0] if not pd.Series.mode(x).empty else np.nan\n",
    ")"
   ]
  },
  {
   "cell_type": "code",
   "execution_count": 2335,
   "metadata": {},
   "outputs": [],
   "source": [
    "df2['building_direction'] = df2['building_direction'].fillna(\n",
    "    df2['group_key'].map(building_dir_mode)\n",
    ")\n",
    "df2.drop(columns='group_key', inplace=True)"
   ]
  },
  {
   "cell_type": "code",
   "execution_count": 2336,
   "metadata": {},
   "outputs": [],
   "source": [
    "df2 = df2.dropna(subset=['building_direction'])"
   ]
  },
  {
   "cell_type": "markdown",
   "metadata": {},
   "source": [
    "### construction_year"
   ]
  },
  {
   "cell_type": "code",
   "execution_count": 2337,
   "metadata": {},
   "outputs": [
    {
     "data": {
      "text/plain": [
       "construction_year\n",
       "1403.0    79965\n",
       "1402.0    37525\n",
       "1400.0    24167\n",
       "1390.0    23339\n",
       "1395.0    22953\n",
       "1401.0    19420\n",
       "1397.0    17977\n",
       "1398.0    17685\n",
       "1396.0    17557\n",
       "1385.0    16207\n",
       "1393.0    15176\n",
       "1399.0    13934\n",
       "1394.0    13868\n",
       "1392.0    13027\n",
       "1388.0    12058\n",
       "1369.0    10754\n",
       "1380.0    10217\n",
       "1391.0     8536\n",
       "1389.0     8364\n",
       "1387.0     7589\n",
       "1386.0     7509\n",
       "1383.0     5897\n",
       "1384.0     5196\n",
       "1382.0     4117\n",
       "1375.0     3557\n",
       "1371.0     2707\n",
       "1381.0     2217\n",
       "1378.0     1721\n",
       "1379.0     1312\n",
       "1377.0     1145\n",
       "1372.0      994\n",
       "1373.0      988\n",
       "1376.0      887\n",
       "1374.0      683\n",
       "Name: count, dtype: int64"
      ]
     },
     "execution_count": 2337,
     "metadata": {},
     "output_type": "execute_result"
    }
   ],
   "source": [
    "df2['construction_year'].value_counts()"
   ]
  },
  {
   "cell_type": "code",
   "execution_count": 2338,
   "metadata": {},
   "outputs": [],
   "source": [
    "df2['group_key'] = list(zip(df2['city_slug'], df2['neighborhood_slug']))\n",
    "cunstruction_year_mode = df2.groupby('group_key')['construction_year'].agg(\n",
    "    lambda x: pd.Series.mode(x)[0] if not pd.Series.mode(x).empty else np.nan\n",
    ")\n",
    "df2['construction_year'] = df2['construction_year'].fillna(\n",
    "    df2['group_key'].map(cunstruction_year_mode)\n",
    ")\n",
    "df2.drop(columns='group_key', inplace=True)"
   ]
  },
  {
   "cell_type": "code",
   "execution_count": 2339,
   "metadata": {},
   "outputs": [],
   "source": [
    "def setOldCate(x):\n",
    "    if this_year - x < 5:\n",
    "        return 1\n",
    "    elif this_year - x < 10:\n",
    "        return 10\n",
    "    elif this_year - x < 20:\n",
    "        return 20\n",
    "    else:\n",
    "        return 30"
   ]
  },
  {
   "cell_type": "code",
   "execution_count": 2340,
   "metadata": {},
   "outputs": [],
   "source": [
    "df2['age_category'] = df2['construction_year'].apply(setOldCate)\n"
   ]
  },
  {
   "cell_type": "markdown",
   "metadata": {},
   "source": [
    "### has_restroom"
   ]
  },
  {
   "cell_type": "code",
   "execution_count": 2341,
   "metadata": {},
   "outputs": [
    {
     "data": {
      "text/plain": [
       "has_restroom\n",
       "squat_seat    138122\n",
       "squat          91719\n",
       "seat            3837\n",
       "unselect         362\n",
       "Name: count, dtype: int64"
      ]
     },
     "execution_count": 2341,
     "metadata": {},
     "output_type": "execute_result"
    }
   ],
   "source": [
    "df2['has_restroom'].value_counts()"
   ]
  },
  {
   "cell_type": "code",
   "execution_count": 2342,
   "metadata": {},
   "outputs": [],
   "source": [
    "df2.loc[df2['has_restroom']=='unselect','has_restroom'] = None"
   ]
  },
  {
   "cell_type": "code",
   "execution_count": 2343,
   "metadata": {},
   "outputs": [
    {
     "data": {
      "text/html": [
       "<div>\n",
       "<style scoped>\n",
       "    .dataframe tbody tr th:only-of-type {\n",
       "        vertical-align: middle;\n",
       "    }\n",
       "\n",
       "    .dataframe tbody tr th {\n",
       "        vertical-align: top;\n",
       "    }\n",
       "\n",
       "    .dataframe thead th {\n",
       "        text-align: right;\n",
       "    }\n",
       "</style>\n",
       "<table border=\"1\" class=\"dataframe\">\n",
       "  <thead>\n",
       "    <tr style=\"text-align: right;\">\n",
       "      <th></th>\n",
       "      <th>age_category</th>\n",
       "      <th>level_1</th>\n",
       "      <th>has_restroom</th>\n",
       "    </tr>\n",
       "  </thead>\n",
       "  <tbody>\n",
       "    <tr>\n",
       "      <th>0</th>\n",
       "      <td>1</td>\n",
       "      <td>0</td>\n",
       "      <td>squat_seat</td>\n",
       "    </tr>\n",
       "    <tr>\n",
       "      <th>1</th>\n",
       "      <td>10</td>\n",
       "      <td>0</td>\n",
       "      <td>squat_seat</td>\n",
       "    </tr>\n",
       "    <tr>\n",
       "      <th>2</th>\n",
       "      <td>20</td>\n",
       "      <td>0</td>\n",
       "      <td>squat</td>\n",
       "    </tr>\n",
       "    <tr>\n",
       "      <th>3</th>\n",
       "      <td>30</td>\n",
       "      <td>0</td>\n",
       "      <td>squat</td>\n",
       "    </tr>\n",
       "  </tbody>\n",
       "</table>\n",
       "</div>"
      ],
      "text/plain": [
       "   age_category  level_1 has_restroom\n",
       "0             1        0   squat_seat\n",
       "1            10        0   squat_seat\n",
       "2            20        0        squat\n",
       "3            30        0        squat"
      ]
     },
     "execution_count": 2343,
     "metadata": {},
     "output_type": "execute_result"
    }
   ],
   "source": [
    "df2.groupby(['age_category'])['has_restroom'].apply(pd.Series.mode).reset_index()"
   ]
  },
  {
   "cell_type": "code",
   "execution_count": 2344,
   "metadata": {},
   "outputs": [],
   "source": [
    "has_restroom_mode = df2.groupby('age_category')['has_restroom'].agg(\n",
    "    lambda x: pd.Series.mode(x)[0] if not pd.Series.mode(x).empty else np.nan\n",
    ")\n",
    "df2['has_restroom'] = df2['has_restroom'].fillna(\n",
    "    df2['age_category'].map(has_restroom_mode)\n",
    ")"
   ]
  },
  {
   "cell_type": "markdown",
   "metadata": {},
   "source": [
    "### is_rebuilt"
   ]
  },
  {
   "cell_type": "code",
   "execution_count": 2345,
   "metadata": {},
   "outputs": [
    {
     "data": {
      "text/plain": [
       "is_rebuilt\n",
       "False    194477\n",
       "True     100809\n",
       "Name: count, dtype: int64"
      ]
     },
     "execution_count": 2345,
     "metadata": {},
     "output_type": "execute_result"
    }
   ],
   "source": [
    "df2['is_rebuilt'].value_counts()"
   ]
  },
  {
   "cell_type": "code",
   "execution_count": 2346,
   "metadata": {},
   "outputs": [
    {
     "name": "stderr",
     "output_type": "stream",
     "text": [
      "/var/folders/f3/jwbldmtj6p5516pfkyqjz6_40000gn/T/ipykernel_7274/1043710675.py:4: FutureWarning: Downcasting object dtype arrays on .fillna, .ffill, .bfill is deprecated and will change in a future version. Call result.infer_objects(copy=False) instead. To opt-in to the future behavior, set `pd.set_option('future.no_silent_downcasting', True)`\n",
      "  df2['is_rebuilt'] = df2['is_rebuilt'].fillna(\n"
     ]
    }
   ],
   "source": [
    "is_rebuilt_mode = df2.groupby('age_category')['is_rebuilt'].agg(\n",
    "    lambda x: pd.Series.mode(x)[0] if not pd.Series.mode(x).empty else np.nan\n",
    ")\n",
    "df2['is_rebuilt'] = df2['is_rebuilt'].fillna(\n",
    "    df2['age_category'].map(is_rebuilt_mode)\n",
    ")"
   ]
  },
  {
   "cell_type": "markdown",
   "metadata": {},
   "source": [
    "### has_warm_water_provider"
   ]
  },
  {
   "cell_type": "code",
   "execution_count": 2347,
   "metadata": {},
   "outputs": [
    {
     "data": {
      "text/plain": [
       "has_warm_water_provider\n",
       "package         130366\n",
       "water_heater     69163\n",
       "powerhouse       16890\n",
       "unselect           858\n",
       "Name: count, dtype: int64"
      ]
     },
     "execution_count": 2347,
     "metadata": {},
     "output_type": "execute_result"
    }
   ],
   "source": [
    "df2['has_warm_water_provider'].value_counts()"
   ]
  },
  {
   "cell_type": "code",
   "execution_count": 2348,
   "metadata": {},
   "outputs": [],
   "source": [
    "df2.loc[df2['has_warm_water_provider']=='unselect','has_warm_water_provider'] = None"
   ]
  },
  {
   "cell_type": "code",
   "execution_count": 2349,
   "metadata": {},
   "outputs": [
    {
     "data": {
      "text/html": [
       "<div>\n",
       "<style scoped>\n",
       "    .dataframe tbody tr th:only-of-type {\n",
       "        vertical-align: middle;\n",
       "    }\n",
       "\n",
       "    .dataframe tbody tr th {\n",
       "        vertical-align: top;\n",
       "    }\n",
       "\n",
       "    .dataframe thead th {\n",
       "        text-align: right;\n",
       "    }\n",
       "</style>\n",
       "<table border=\"1\" class=\"dataframe\">\n",
       "  <thead>\n",
       "    <tr style=\"text-align: right;\">\n",
       "      <th></th>\n",
       "      <th>age_category</th>\n",
       "      <th>level_1</th>\n",
       "      <th>has_warm_water_provider</th>\n",
       "    </tr>\n",
       "  </thead>\n",
       "  <tbody>\n",
       "    <tr>\n",
       "      <th>0</th>\n",
       "      <td>1</td>\n",
       "      <td>0</td>\n",
       "      <td>package</td>\n",
       "    </tr>\n",
       "    <tr>\n",
       "      <th>1</th>\n",
       "      <td>10</td>\n",
       "      <td>0</td>\n",
       "      <td>package</td>\n",
       "    </tr>\n",
       "    <tr>\n",
       "      <th>2</th>\n",
       "      <td>20</td>\n",
       "      <td>0</td>\n",
       "      <td>water_heater</td>\n",
       "    </tr>\n",
       "    <tr>\n",
       "      <th>3</th>\n",
       "      <td>30</td>\n",
       "      <td>0</td>\n",
       "      <td>water_heater</td>\n",
       "    </tr>\n",
       "  </tbody>\n",
       "</table>\n",
       "</div>"
      ],
      "text/plain": [
       "   age_category  level_1 has_warm_water_provider\n",
       "0             1        0                 package\n",
       "1            10        0                 package\n",
       "2            20        0            water_heater\n",
       "3            30        0            water_heater"
      ]
     },
     "execution_count": 2349,
     "metadata": {},
     "output_type": "execute_result"
    }
   ],
   "source": [
    "df2.groupby(['age_category'])['has_warm_water_provider'].apply(pd.Series.mode).reset_index()"
   ]
  },
  {
   "cell_type": "code",
   "execution_count": 2350,
   "metadata": {},
   "outputs": [],
   "source": [
    "has_warm_water_provider_mode = df2.groupby('age_category')['has_warm_water_provider'].agg(\n",
    "    lambda x: pd.Series.mode(x)[0] if not pd.Series.mode(x).empty else np.nan\n",
    ")\n",
    "df2['has_warm_water_provider'] = df2['has_warm_water_provider'].fillna(\n",
    "    df2['age_category'].map(has_warm_water_provider_mode)\n",
    ")"
   ]
  },
  {
   "cell_type": "markdown",
   "metadata": {},
   "source": [
    "### has_heating_system"
   ]
  },
  {
   "cell_type": "code",
   "execution_count": 2351,
   "metadata": {},
   "outputs": [
    {
     "data": {
      "text/plain": [
       "has_heating_system\n",
       "shoofaj          124464\n",
       "heater            59577\n",
       "duct_split        13031\n",
       "floor_heating      5066\n",
       "split              3605\n",
       "fan_coil           2968\n",
       "fireplace          2209\n",
       "unselect           1535\n",
       "Name: count, dtype: int64"
      ]
     },
     "execution_count": 2351,
     "metadata": {},
     "output_type": "execute_result"
    }
   ],
   "source": [
    "df2['has_heating_system'].value_counts()"
   ]
  },
  {
   "cell_type": "code",
   "execution_count": 2352,
   "metadata": {},
   "outputs": [],
   "source": [
    "df2.loc[df2['has_heating_system']=='unselect','has_heating_system'] = None"
   ]
  },
  {
   "cell_type": "code",
   "execution_count": 2353,
   "metadata": {},
   "outputs": [
    {
     "data": {
      "text/html": [
       "<div>\n",
       "<style scoped>\n",
       "    .dataframe tbody tr th:only-of-type {\n",
       "        vertical-align: middle;\n",
       "    }\n",
       "\n",
       "    .dataframe tbody tr th {\n",
       "        vertical-align: top;\n",
       "    }\n",
       "\n",
       "    .dataframe thead th {\n",
       "        text-align: right;\n",
       "    }\n",
       "</style>\n",
       "<table border=\"1\" class=\"dataframe\">\n",
       "  <thead>\n",
       "    <tr style=\"text-align: right;\">\n",
       "      <th></th>\n",
       "      <th>age_category</th>\n",
       "      <th>level_1</th>\n",
       "      <th>has_heating_system</th>\n",
       "    </tr>\n",
       "  </thead>\n",
       "  <tbody>\n",
       "    <tr>\n",
       "      <th>0</th>\n",
       "      <td>1</td>\n",
       "      <td>0</td>\n",
       "      <td>shoofaj</td>\n",
       "    </tr>\n",
       "    <tr>\n",
       "      <th>1</th>\n",
       "      <td>10</td>\n",
       "      <td>0</td>\n",
       "      <td>shoofaj</td>\n",
       "    </tr>\n",
       "    <tr>\n",
       "      <th>2</th>\n",
       "      <td>20</td>\n",
       "      <td>0</td>\n",
       "      <td>shoofaj</td>\n",
       "    </tr>\n",
       "    <tr>\n",
       "      <th>3</th>\n",
       "      <td>30</td>\n",
       "      <td>0</td>\n",
       "      <td>heater</td>\n",
       "    </tr>\n",
       "  </tbody>\n",
       "</table>\n",
       "</div>"
      ],
      "text/plain": [
       "   age_category  level_1 has_heating_system\n",
       "0             1        0            shoofaj\n",
       "1            10        0            shoofaj\n",
       "2            20        0            shoofaj\n",
       "3            30        0             heater"
      ]
     },
     "execution_count": 2353,
     "metadata": {},
     "output_type": "execute_result"
    }
   ],
   "source": [
    "df2.groupby(['age_category'])['has_heating_system'].apply(pd.Series.mode).reset_index()"
   ]
  },
  {
   "cell_type": "code",
   "execution_count": 2354,
   "metadata": {},
   "outputs": [],
   "source": [
    "has_heating_system_mode = df2.groupby('age_category')['has_heating_system'].agg(\n",
    "    lambda x: pd.Series.mode(x)[0] if not pd.Series.mode(x).empty else np.nan\n",
    ")\n",
    "df2['has_heating_system'] = df2['has_heating_system'].fillna(\n",
    "    df2['age_category'].map(has_heating_system_mode)\n",
    ")"
   ]
  },
  {
   "cell_type": "markdown",
   "metadata": {},
   "source": [
    "### has_cooling_system"
   ]
  },
  {
   "cell_type": "code",
   "execution_count": 2355,
   "metadata": {},
   "outputs": [
    {
     "data": {
      "text/plain": [
       "has_cooling_system\n",
       "water_cooler       119093\n",
       "air_conditioner     33851\n",
       "split               24342\n",
       "duct_split          17921\n",
       "unselect             3106\n",
       "fan_coil             2930\n",
       "Name: count, dtype: int64"
      ]
     },
     "execution_count": 2355,
     "metadata": {},
     "output_type": "execute_result"
    }
   ],
   "source": [
    "df2['has_cooling_system'].value_counts()"
   ]
  },
  {
   "cell_type": "code",
   "execution_count": 2356,
   "metadata": {},
   "outputs": [],
   "source": [
    "df2.loc[df2['has_cooling_system']=='unselect','has_cooling_system'] = None"
   ]
  },
  {
   "cell_type": "code",
   "execution_count": 2357,
   "metadata": {},
   "outputs": [],
   "source": [
    "df2['group_key'] = list(zip(df2['city_slug'], df2['neighborhood_slug']))\n",
    "has_cooling_system_mode = df2.groupby('group_key')['has_cooling_system'].agg(\n",
    "    lambda x: pd.Series.mode(x)[0] if not pd.Series.mode(x).empty else np.nan\n",
    ")\n",
    "df2['has_cooling_system'] = df2['has_cooling_system'].fillna(\n",
    "    df2['group_key'].map(has_cooling_system_mode)\n",
    ")\n",
    "df2.drop(columns='group_key', inplace=True)"
   ]
  },
  {
   "cell_type": "code",
   "execution_count": 2358,
   "metadata": {},
   "outputs": [],
   "source": [
    "df2 = df2.dropna(subset=['has_cooling_system'])"
   ]
  },
  {
   "cell_type": "markdown",
   "metadata": {},
   "source": [
    "### has_balcony"
   ]
  },
  {
   "cell_type": "code",
   "execution_count": 2359,
   "metadata": {},
   "outputs": [
    {
     "data": {
      "text/plain": [
       "has_balcony\n",
       "true        239227\n",
       "false        42483\n",
       "True         12553\n",
       "False         2179\n",
       "unselect        94\n",
       "Name: count, dtype: int64"
      ]
     },
     "execution_count": 2359,
     "metadata": {},
     "output_type": "execute_result"
    }
   ],
   "source": [
    "df2['has_balcony'].value_counts()"
   ]
  },
  {
   "cell_type": "code",
   "execution_count": 2360,
   "metadata": {},
   "outputs": [],
   "source": [
    "df2.loc[df2['has_balcony']=='unselect','has_balcony'] = None"
   ]
  },
  {
   "cell_type": "code",
   "execution_count": 2361,
   "metadata": {},
   "outputs": [],
   "source": [
    "df2.loc[df2['has_balcony']=='true','has_balcony'] = 'True'"
   ]
  },
  {
   "cell_type": "code",
   "execution_count": 2362,
   "metadata": {},
   "outputs": [],
   "source": [
    "df2.loc[df2['has_balcony']=='false','has_balcony'] = 'False'"
   ]
  },
  {
   "cell_type": "code",
   "execution_count": 2363,
   "metadata": {},
   "outputs": [],
   "source": [
    "df2['has_balcony']=df2['has_balcony'].astype(bool)\n"
   ]
  },
  {
   "cell_type": "code",
   "execution_count": 2364,
   "metadata": {},
   "outputs": [
    {
     "data": {
      "text/html": [
       "<div>\n",
       "<style scoped>\n",
       "    .dataframe tbody tr th:only-of-type {\n",
       "        vertical-align: middle;\n",
       "    }\n",
       "\n",
       "    .dataframe tbody tr th {\n",
       "        vertical-align: top;\n",
       "    }\n",
       "\n",
       "    .dataframe thead th {\n",
       "        text-align: right;\n",
       "    }\n",
       "</style>\n",
       "<table border=\"1\" class=\"dataframe\">\n",
       "  <thead>\n",
       "    <tr style=\"text-align: right;\">\n",
       "      <th></th>\n",
       "      <th>cat3_slug</th>\n",
       "      <th>med</th>\n",
       "    </tr>\n",
       "  </thead>\n",
       "  <tbody>\n",
       "    <tr>\n",
       "      <th>0</th>\n",
       "      <td>apartment-rent</td>\n",
       "      <td>1.0</td>\n",
       "    </tr>\n",
       "    <tr>\n",
       "      <th>1</th>\n",
       "      <td>apartment-sell</td>\n",
       "      <td>1.0</td>\n",
       "    </tr>\n",
       "    <tr>\n",
       "      <th>2</th>\n",
       "      <td>house-villa-sell</td>\n",
       "      <td>1.0</td>\n",
       "    </tr>\n",
       "    <tr>\n",
       "      <th>3</th>\n",
       "      <td>industry-agriculture-business-rent</td>\n",
       "      <td>1.0</td>\n",
       "    </tr>\n",
       "    <tr>\n",
       "      <th>4</th>\n",
       "      <td>industry-agriculture-business-sell</td>\n",
       "      <td>1.0</td>\n",
       "    </tr>\n",
       "    <tr>\n",
       "      <th>5</th>\n",
       "      <td>office-rent</td>\n",
       "      <td>1.0</td>\n",
       "    </tr>\n",
       "    <tr>\n",
       "      <th>6</th>\n",
       "      <td>office-sell</td>\n",
       "      <td>1.0</td>\n",
       "    </tr>\n",
       "    <tr>\n",
       "      <th>7</th>\n",
       "      <td>partnership</td>\n",
       "      <td>1.0</td>\n",
       "    </tr>\n",
       "    <tr>\n",
       "      <th>8</th>\n",
       "      <td>plot-old</td>\n",
       "      <td>1.0</td>\n",
       "    </tr>\n",
       "    <tr>\n",
       "      <th>9</th>\n",
       "      <td>presell</td>\n",
       "      <td>1.0</td>\n",
       "    </tr>\n",
       "    <tr>\n",
       "      <th>10</th>\n",
       "      <td>shop-rent</td>\n",
       "      <td>1.0</td>\n",
       "    </tr>\n",
       "    <tr>\n",
       "      <th>11</th>\n",
       "      <td>shop-sell</td>\n",
       "      <td>1.0</td>\n",
       "    </tr>\n",
       "  </tbody>\n",
       "</table>\n",
       "</div>"
      ],
      "text/plain": [
       "                             cat3_slug  med\n",
       "0                       apartment-rent  1.0\n",
       "1                       apartment-sell  1.0\n",
       "2                     house-villa-sell  1.0\n",
       "3   industry-agriculture-business-rent  1.0\n",
       "4   industry-agriculture-business-sell  1.0\n",
       "5                          office-rent  1.0\n",
       "6                          office-sell  1.0\n",
       "7                          partnership  1.0\n",
       "8                             plot-old  1.0\n",
       "9                              presell  1.0\n",
       "10                           shop-rent  1.0\n",
       "11                           shop-sell  1.0"
      ]
     },
     "execution_count": 2364,
     "metadata": {},
     "output_type": "execute_result"
    }
   ],
   "source": [
    "group_temp = df2.groupby(['cat3_slug'])['has_balcony'].median().reset_index().rename(columns={'has_balcony': 'med'})\n",
    "group_temp"
   ]
  },
  {
   "cell_type": "code",
   "execution_count": 2365,
   "metadata": {},
   "outputs": [],
   "source": [
    "group_temp.loc[group_temp['cat3_slug']=='apartment-rent', 'med']=1"
   ]
  },
  {
   "cell_type": "code",
   "execution_count": 2366,
   "metadata": {},
   "outputs": [],
   "source": [
    "group_temp = group_temp.fillna(0)"
   ]
  },
  {
   "cell_type": "code",
   "execution_count": 2367,
   "metadata": {},
   "outputs": [],
   "source": [
    "temp = df2[['cat3_slug']].merge(group_temp, on=['cat3_slug'], how='left')\n",
    "df2['has_balcony'] = df2['has_balcony'].fillna(temp['med'])"
   ]
  },
  {
   "cell_type": "code",
   "execution_count": 2368,
   "metadata": {},
   "outputs": [
    {
     "data": {
      "text/plain": [
       "has_balcony\n",
       "True     529032\n",
       "False        94\n",
       "Name: count, dtype: int64"
      ]
     },
     "execution_count": 2368,
     "metadata": {},
     "output_type": "execute_result"
    }
   ],
   "source": [
    "df2.has_balcony.value_counts()"
   ]
  },
  {
   "cell_type": "markdown",
   "metadata": {},
   "source": [
    "### has_elevator"
   ]
  },
  {
   "cell_type": "code",
   "execution_count": 2369,
   "metadata": {},
   "outputs": [
    {
     "data": {
      "text/plain": [
       "has_elevator\n",
       "True     216854\n",
       "False     80388\n",
       "Name: count, dtype: int64"
      ]
     },
     "execution_count": 2369,
     "metadata": {},
     "output_type": "execute_result"
    }
   ],
   "source": [
    "df2['has_elevator'].value_counts()"
   ]
  },
  {
   "cell_type": "code",
   "execution_count": 2370,
   "metadata": {},
   "outputs": [],
   "source": [
    "df2['has_elevator'] = df2['has_elevator'].astype(bool)"
   ]
  },
  {
   "cell_type": "code",
   "execution_count": 2371,
   "metadata": {},
   "outputs": [],
   "source": [
    "df2['group_key'] = list(zip(df2['city_slug'], df2['neighborhood_slug']))\n",
    "mode = df2.groupby('group_key')['has_elevator'].agg(\n",
    "    lambda x: pd.Series.mode(x)[0] if not pd.Series.mode(x).empty else False\n",
    ")\n",
    "df2['has_elevator'] = df2['has_elevator'].fillna(\n",
    "    df2['group_key'].map(mode)\n",
    ")\n",
    "df2.drop(columns='group_key', inplace=True)"
   ]
  },
  {
   "cell_type": "markdown",
   "metadata": {},
   "source": [
    "### has_warehouse"
   ]
  },
  {
   "cell_type": "code",
   "execution_count": 2372,
   "metadata": {},
   "outputs": [
    {
     "data": {
      "text/plain": [
       "has_warehouse\n",
       "True     345620\n",
       "False     59761\n",
       "Name: count, dtype: int64"
      ]
     },
     "execution_count": 2372,
     "metadata": {},
     "output_type": "execute_result"
    }
   ],
   "source": [
    "df2['has_warehouse'].value_counts()"
   ]
  },
  {
   "cell_type": "code",
   "execution_count": 2373,
   "metadata": {},
   "outputs": [],
   "source": [
    "df2['has_warehouse'] = df2['has_warehouse'].astype(bool)"
   ]
  },
  {
   "cell_type": "code",
   "execution_count": 2374,
   "metadata": {},
   "outputs": [],
   "source": [
    "df2['group_key'] = list(zip(df2['city_slug'], df2['neighborhood_slug']))\n",
    "mode = df2.groupby('group_key')['has_warehouse'].agg(\n",
    "    lambda x: pd.Series.mode(x)[0] if not pd.Series.mode(x).empty else False\n",
    ")\n",
    "df2['has_warehouse'] = df2['has_warehouse'].fillna(\n",
    "    df2['group_key'].map(mode)\n",
    ")\n",
    "df2.drop(columns='group_key', inplace=True)"
   ]
  },
  {
   "cell_type": "markdown",
   "metadata": {},
   "source": [
    "### has_parking"
   ]
  },
  {
   "cell_type": "code",
   "execution_count": 2375,
   "metadata": {},
   "outputs": [
    {
     "data": {
      "text/plain": [
       "has_parking\n",
       "True     332011\n",
       "False     73370\n",
       "Name: count, dtype: int64"
      ]
     },
     "execution_count": 2375,
     "metadata": {},
     "output_type": "execute_result"
    }
   ],
   "source": [
    "df2['has_parking'].value_counts()"
   ]
  },
  {
   "cell_type": "code",
   "execution_count": 2376,
   "metadata": {},
   "outputs": [
    {
     "data": {
      "text/plain": [
       "np.int64(123745)"
      ]
     },
     "execution_count": 2376,
     "metadata": {},
     "output_type": "execute_result"
    }
   ],
   "source": [
    "df2['has_parking'].isna().sum()"
   ]
  },
  {
   "cell_type": "code",
   "execution_count": 2377,
   "metadata": {},
   "outputs": [],
   "source": [
    "df2['has_parking'] = df2['has_parking'].astype(bool)"
   ]
  },
  {
   "cell_type": "code",
   "execution_count": 2378,
   "metadata": {},
   "outputs": [],
   "source": [
    "df2['group_key'] = list(zip(df2['city_slug'], df2['neighborhood_slug']))\n",
    "mode = df2.groupby('group_key')['has_parking'].agg(\n",
    "    lambda x: pd.Series.mode(x)[0] if not pd.Series.mode(x).empty else False\n",
    ")\n",
    "df2['has_parking'] = df2['has_parking'].fillna(\n",
    "    df2['group_key'].map(mode)\n",
    ")\n",
    "df2.drop(columns='group_key', inplace=True)"
   ]
  },
  {
   "cell_type": "code",
   "execution_count": 2379,
   "metadata": {},
   "outputs": [
    {
     "name": "stdout",
     "output_type": "stream",
     "text": [
      "<class 'pandas.core.frame.DataFrame'>\n",
      "Index: 529126 entries, 0 to 545973\n",
      "Data columns (total 28 columns):\n",
      " #   Column                   Non-Null Count   Dtype  \n",
      "---  ------                   --------------   -----  \n",
      " 0   cat3_slug                529126 non-null  object \n",
      " 1   city_slug                529126 non-null  object \n",
      " 2   neighborhood_slug        529126 non-null  object \n",
      " 3   land_size                529126 non-null  float64\n",
      " 4   building_size            529126 non-null  float64\n",
      " 5   deed_type                529126 non-null  int64  \n",
      " 6   floor                    529126 non-null  float64\n",
      " 7   rooms_count              529126 non-null  float64\n",
      " 8   total_floors_count       529126 non-null  float64\n",
      " 9   unit_per_floor           529126 non-null  float64\n",
      " 10  has_balcony              529126 non-null  bool   \n",
      " 11  has_elevator             529126 non-null  bool   \n",
      " 12  has_warehouse            529126 non-null  bool   \n",
      " 13  has_parking              529126 non-null  bool   \n",
      " 14  construction_year        529126 non-null  float64\n",
      " 15  is_rebuilt               529126 non-null  bool   \n",
      " 16  has_warm_water_provider  529126 non-null  object \n",
      " 17  has_heating_system       529126 non-null  object \n",
      " 18  has_cooling_system       529126 non-null  object \n",
      " 19  has_restroom             529126 non-null  object \n",
      " 20  building_direction       529126 non-null  object \n",
      " 21  floor_material           529126 non-null  object \n",
      " 22  location_latitude        529126 non-null  float64\n",
      " 23  location_longitude       529126 non-null  float64\n",
      " 24  location_radius          529126 non-null  float64\n",
      " 25  category                 529126 non-null  object \n",
      " 26  full_price               529126 non-null  float64\n",
      " 27  age_category             529126 non-null  int64  \n",
      "dtypes: bool(5), float64(11), int64(2), object(10)\n",
      "memory usage: 99.4+ MB\n"
     ]
    }
   ],
   "source": [
    "df2.info()"
   ]
  }
 ],
 "metadata": {
  "colab": {
   "provenance": []
  },
  "kernelspec": {
   "display_name": "Python 3 (ipykernel)",
   "language": "python",
   "name": "python3"
  },
  "language_info": {
   "codemirror_mode": {
    "name": "ipython",
    "version": 3
   },
   "file_extension": ".py",
   "mimetype": "text/x-python",
   "name": "python",
   "nbconvert_exporter": "python",
   "pygments_lexer": "ipython3",
   "version": "3.11.13"
  }
 },
 "nbformat": 4,
 "nbformat_minor": 4
}
