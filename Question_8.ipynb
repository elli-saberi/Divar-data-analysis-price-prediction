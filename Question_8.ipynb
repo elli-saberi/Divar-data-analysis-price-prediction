{
  "cells": [
    {
      "cell_type": "markdown",
      "metadata": {
        "id": "view-in-github",
        "colab_type": "text"
      },
      "source": [
        "<a href=\"https://colab.research.google.com/github/majiddaeinejad/quera-ai-bootcamp-divar/blob/statistical_analysis/Question_8.ipynb\" target=\"_parent\"><img src=\"https://colab.research.google.com/assets/colab-badge.svg\" alt=\"Open In Colab\"/></a>"
      ]
    },
    {
      "cell_type": "markdown",
      "metadata": {
        "id": "romrugLp4Dct"
      },
      "source": [
        "**Setup** cell"
      ]
    },
    {
      "cell_type": "code",
      "execution_count": 62,
      "metadata": {
        "id": "LkkZg7uz4MLN"
      },
      "outputs": [],
      "source": [
        "!pip install arabic-reshaper python-bidi jdatetime utm --quiet\n",
        "\n",
        "import numpy as np\n",
        "import pandas as pd\n",
        "import seaborn as sns\n",
        "import matplotlib.pyplot as plt\n",
        "from matplotlib import rcParams\n",
        "import arabic_reshaper\n",
        "from bidi.algorithm import get_display\n",
        "import jdatetime\n",
        "\n",
        "import geopandas as gpd\n",
        "from shapely.geometry import Polygon\n",
        "import folium\n",
        "from branca.colormap import StepColormap\n",
        "\n",
        "\n",
        "rcParams['font.family'] = 'DejaVu Sans'\n",
        "\n",
        "def fa_label(text):\n",
        "    return get_display(arabic_reshaper.reshape(text))"
      ]
    },
    {
      "cell_type": "markdown",
      "metadata": {
        "id": "CD4foHWk4Qcs"
      },
      "source": [
        "Load data"
      ]
    },
    {
      "cell_type": "code",
      "execution_count": 63,
      "metadata": {
        "colab": {
          "base_uri": "https://localhost:8080/"
        },
        "id": "ilsR2gUM4R6V",
        "outputId": "eae3a700-3a34-4a8a-ac75-63aa518a7675"
      },
      "outputs": [
        {
          "output_type": "stream",
          "name": "stdout",
          "text": [
            "Mounted at /content/drive\n"
          ]
        },
        {
          "output_type": "stream",
          "name": "stderr",
          "text": [
            "/tmp/ipython-input-1578516001.py:9: DtypeWarning: Columns (11,27,29,53) have mixed types. Specify dtype option on import or set low_memory=False.\n",
            "  df = pd.read_csv(file_path , encoding='utf-8')\n"
          ]
        }
      ],
      "source": [
        "from google.colab import drive\n",
        "\n",
        "drive.mount('/content/drive', force_remount=True)\n",
        "\n",
        "\n",
        "file_path = '/content/drive/MyDrive/Colab Notebooks/Divar.csv'\n",
        "\n",
        "\n",
        "df = pd.read_csv(file_path , encoding='utf-8')"
      ]
    },
    {
      "cell_type": "markdown",
      "metadata": {
        "id": "KR94Wt16-1Dj"
      },
      "source": [
        "ماتریس هم‌بستگی را برای مبلغ قیمت، متراژ زمین، زیربنا، ظرفیت نفرات، تعداد اتاق‌ها و طول و عرض جغرافیایی رسم نمایید."
      ]
    },
    {
      "cell_type": "markdown",
      "metadata": {
        "id": "QYi8fJbRLOlA"
      },
      "source": [
        "Miss Values"
      ]
    },
    {
      "cell_type": "code",
      "execution_count": 64,
      "metadata": {
        "colab": {
          "base_uri": "https://localhost:8080/"
        },
        "id": "iEv2xW89LOve",
        "outputId": "e8a0f4c7-2daa-4a08-d103-2487b8690a40"
      },
      "outputs": [
        {
          "output_type": "stream",
          "name": "stdout",
          "text": [
            "                         nan_count  nan_percent\n",
            "price_value                 431654        43.17\n",
            "land_size                   813604        81.36\n",
            "building_size                19606         1.96\n",
            "regular_person_capacity     970130        97.01\n",
            "rooms_count                 154101        15.41\n",
            "location_latitude           344392        34.44\n",
            "location_longitude          344392        34.44\n"
          ]
        }
      ],
      "source": [
        "cols = [\n",
        "    \"price_value\",\n",
        "    \"land_size\",\n",
        "    \"building_size\",\n",
        "    \"regular_person_capacity\",\n",
        "    \"rooms_count\",\n",
        "    \"location_latitude\",\n",
        "    \"location_longitude\"\n",
        "]\n",
        "\n",
        "\n",
        "nan_count = df[cols].isna().sum()\n",
        "\n",
        "\n",
        "nan_percent = (nan_count / len(df) * 100).round(2)\n",
        "\n",
        "\n",
        "result = pd.DataFrame({\n",
        "    'nan_count': nan_count,\n",
        "    'nan_percent': nan_percent\n",
        "})\n",
        "\n",
        "print(result)"
      ]
    },
    {
      "cell_type": "code",
      "source": [
        "print(df[cols].describe())\n"
      ],
      "metadata": {
        "colab": {
          "base_uri": "https://localhost:8080/"
        },
        "id": "yio6uBvCvo5_",
        "outputId": "02790cc5-5088-4c33-8b8e-0e418b1adab5"
      },
      "execution_count": 65,
      "outputs": [
        {
          "output_type": "stream",
          "name": "stdout",
          "text": [
            "        price_value     land_size  building_size  regular_person_capacity  \\\n",
            "count  5.683460e+05  1.863960e+05   9.803940e+05             29870.000000   \n",
            "mean   1.736537e+10  4.165480e+03   4.440648e+03                 6.557650   \n",
            "std    5.878739e+11  1.218927e+05   1.367118e+05                 7.698655   \n",
            "min    0.000000e+00  1.000000e+00   1.000000e+00                 1.000000   \n",
            "25%    1.400000e+09  1.100000e+02   7.500000e+01                 3.000000   \n",
            "50%    2.840000e+09  1.950000e+02   1.030000e+02                 4.000000   \n",
            "75%    5.900000e+09  2.800000e+02   1.650000e+02                 7.000000   \n",
            "max    1.000000e+14  1.000000e+07   1.000000e+07                50.000000   \n",
            "\n",
            "       location_latitude  location_longitude  \n",
            "count      655608.000000       655608.000000  \n",
            "mean           34.982108           51.629743  \n",
            "std             2.379169            3.160920  \n",
            "min            23.626478           40.162369  \n",
            "25%            34.553551           50.677175  \n",
            "50%            35.723312           51.345791  \n",
            "75%            36.307013           51.805291  \n",
            "max            40.358055           74.511620  \n"
          ]
        }
      ]
    },
    {
      "cell_type": "markdown",
      "metadata": {
        "id": "m-SVMfrPIiFw"
      },
      "source": [
        "city_neighborhood"
      ]
    },
    {
      "cell_type": "code",
      "execution_count": 66,
      "metadata": {
        "colab": {
          "base_uri": "https://localhost:8080/"
        },
        "id": "d2y-x-9CIXAl",
        "outputId": "0993528a-6b22-453d-8778-9f47f0e41545"
      },
      "outputs": [
        {
          "output_type": "stream",
          "name": "stdout",
          "text": [
            "  city_slug neighborhood_slug city_neighborhood\n",
            "0     karaj         mehrshahr    karajmehrshahr\n",
            "1    tehran           gholhak     tehrangholhak\n",
            "2    tehran             tohid       tehrantohid\n",
            "3    tehran          elahiyeh    tehranelahiyeh\n",
            "4   mashhad          emamreza   mashhademamreza\n"
          ]
        }
      ],
      "source": [
        "df['neighborhood_slug'] = df['neighborhood_slug'].fillna('')\n",
        "\n",
        "df['city_neighborhood'] = df['city_slug'] + df['neighborhood_slug']\n",
        "\n",
        "print(df[['city_slug', 'neighborhood_slug', 'city_neighborhood']].head())\n",
        "\n"
      ]
    },
    {
      "cell_type": "markdown",
      "metadata": {
        "id": "c_uBcaOOXuDd"
      },
      "source": [
        "price_value"
      ]
    },
    {
      "cell_type": "code",
      "execution_count": 67,
      "metadata": {
        "colab": {
          "base_uri": "https://localhost:8080/"
        },
        "id": "PZT2FjdeXuMt",
        "outputId": "e23c729c-edf8-4594-a9d8-5322fcff0d11"
      },
      "outputs": [
        {
          "output_type": "execute_result",
          "data": {
            "text/plain": [
              "np.int64(1902)"
            ]
          },
          "metadata": {},
          "execution_count": 67
        }
      ],
      "source": [
        "zero = (df['price_value'] == 0).sum()\n",
        "zero"
      ]
    },
    {
      "cell_type": "code",
      "execution_count": 68,
      "metadata": {
        "colab": {
          "base_uri": "https://localhost:8080/"
        },
        "id": "k3yK5YFCXzdm",
        "outputId": "b1aec6ec-578c-45d7-ca3b-8899c2ed4ea5"
      },
      "outputs": [
        {
          "output_type": "stream",
          "name": "stdout",
          "text": [
            "0\n",
            "0\n"
          ]
        }
      ],
      "source": [
        "df = df[~df['price_value'].isna()]\n",
        "df = df[df['price_value'] != 0]\n",
        "\n",
        "print((df['price_value'].isna()).sum())\n",
        "print((df['price_value'] == 0).sum())\n",
        "\n",
        "\n"
      ]
    },
    {
      "cell_type": "markdown",
      "metadata": {
        "id": "HNwiHoywJSMJ"
      },
      "source": [
        "land_size"
      ]
    },
    {
      "cell_type": "code",
      "execution_count": 69,
      "metadata": {
        "id": "iiEfn3AtJRrw"
      },
      "outputs": [],
      "source": [
        "group_temp = (\n",
        "    df.groupby('building_size')['land_size']\n",
        "      .median()\n",
        "      .ffill()\n",
        "      .reset_index()\n",
        "      .rename(columns={'land_size': 'med'})\n",
        ")\n",
        "\n",
        "\n",
        "df_temp = df[['building_size']].merge(group_temp, on='building_size', how='left')"
      ]
    },
    {
      "cell_type": "code",
      "execution_count": 70,
      "metadata": {
        "id": "tTJt6y_xKaMB"
      },
      "outputs": [],
      "source": [
        "df['land_size'] = df['land_size'].fillna(df_temp['med'])\n",
        "df['land_size'] = df['land_size'].fillna(df['building_size'])"
      ]
    },
    {
      "cell_type": "code",
      "execution_count": 71,
      "metadata": {
        "colab": {
          "base_uri": "https://localhost:8080/"
        },
        "id": "DIxX-Fw-KakR",
        "outputId": "1387aee6-506a-4792-b161-3ad68698e445"
      },
      "outputs": [
        {
          "output_type": "stream",
          "name": "stdout",
          "text": [
            "585\n"
          ]
        }
      ],
      "source": [
        "print(df['land_size'].isna().sum())\n"
      ]
    },
    {
      "cell_type": "markdown",
      "metadata": {
        "id": "PMRer5ksCDry"
      },
      "source": [
        "building_size"
      ]
    },
    {
      "cell_type": "code",
      "execution_count": 72,
      "metadata": {
        "id": "nOmuXldlCb3t"
      },
      "outputs": [],
      "source": [
        "group_temp = df.groupby('city_neighborhood')['building_size'].median().reset_index()\n",
        "group_temp = group_temp.rename(columns={'building_size': 'med'})\n",
        "\n",
        "df_temp = df[['city_neighborhood']].merge(group_temp, on='city_neighborhood', how='left')"
      ]
    },
    {
      "cell_type": "code",
      "execution_count": 73,
      "metadata": {
        "id": "Mbs-hEHqKxAb"
      },
      "outputs": [],
      "source": [
        "df['building_size'] = df['building_size'].fillna(df_temp['med'])"
      ]
    },
    {
      "cell_type": "code",
      "execution_count": 74,
      "metadata": {
        "colab": {
          "base_uri": "https://localhost:8080/"
        },
        "id": "tc-4VYwWKxVe",
        "outputId": "0a216de2-1449-424a-a35f-802eb1f4dab1"
      },
      "outputs": [
        {
          "output_type": "stream",
          "name": "stdout",
          "text": [
            "582\n"
          ]
        }
      ],
      "source": [
        "print(df['building_size'].isna().sum())"
      ]
    },
    {
      "cell_type": "markdown",
      "metadata": {
        "id": "hQ6IqSYF_lZG"
      },
      "source": [
        " location_latitude , location_longitude"
      ]
    },
    {
      "cell_type": "code",
      "execution_count": 75,
      "metadata": {
        "colab": {
          "base_uri": "https://localhost:8080/"
        },
        "id": "pr154Jub_rwa",
        "outputId": "a01dab6d-b3dc-41d8-b5e8-9265afb9eb6c"
      },
      "outputs": [
        {
          "output_type": "stream",
          "name": "stdout",
          "text": [
            "location_latitude     195529\n",
            "location_longitude    195529\n",
            "dtype: int64\n"
          ]
        }
      ],
      "source": [
        "print(df[['location_latitude', 'location_longitude']].isna().sum())"
      ]
    },
    {
      "cell_type": "code",
      "execution_count": 76,
      "metadata": {
        "id": "bGXxFR0gAekq"
      },
      "outputs": [],
      "source": [
        "neigh_mean = df.groupby('neighborhood_slug')[['location_latitude', 'location_longitude']].transform('mean')\n",
        "df['location_latitude'] = df['location_latitude'].fillna(neigh_mean['location_latitude'])\n",
        "df['location_longitude'] = df['location_longitude'].fillna(neigh_mean['location_longitude'])\n",
        "\n",
        "\n",
        "city_mean = df.groupby('city_slug')[['location_latitude', 'location_longitude']].transform('mean')\n",
        "df['location_latitude'] = df['location_latitude'].fillna(city_mean['location_latitude'])\n",
        "df['location_longitude'] = df['location_longitude'].fillna(city_mean['location_longitude'])"
      ]
    },
    {
      "cell_type": "code",
      "execution_count": 77,
      "metadata": {
        "colab": {
          "base_uri": "https://localhost:8080/"
        },
        "id": "W-bV9W39A1CC",
        "outputId": "5df6be32-f0c3-4d7a-fb9a-6a86440bf928"
      },
      "outputs": [
        {
          "output_type": "stream",
          "name": "stdout",
          "text": [
            "location_latitude     0\n",
            "location_longitude    0\n",
            "dtype: int64\n"
          ]
        }
      ],
      "source": [
        "print(df[['location_latitude', 'location_longitude']].isna().sum())"
      ]
    },
    {
      "cell_type": "code",
      "execution_count": 78,
      "metadata": {
        "id": "PIol4i8GA5Gx"
      },
      "outputs": [],
      "source": [
        "df = df.dropna(subset=['location_latitude', 'location_longitude'])"
      ]
    },
    {
      "cell_type": "code",
      "execution_count": 79,
      "metadata": {
        "colab": {
          "base_uri": "https://localhost:8080/"
        },
        "id": "PTgNfsSOA_m5",
        "outputId": "526147f0-d19b-4aac-80fb-0add18f6b2a5"
      },
      "outputs": [
        {
          "output_type": "stream",
          "name": "stdout",
          "text": [
            "location_latitude     0\n",
            "location_longitude    0\n",
            "dtype: int64\n"
          ]
        }
      ],
      "source": [
        "print(df[['location_latitude', 'location_longitude']].isna().sum())"
      ]
    },
    {
      "cell_type": "markdown",
      "metadata": {
        "id": "pESxh0Q86OV0"
      },
      "source": [
        "room count"
      ]
    },
    {
      "cell_type": "code",
      "execution_count": 80,
      "metadata": {
        "colab": {
          "base_uri": "https://localhost:8080/",
          "height": 335
        },
        "id": "xX0nAdjz6Rlc",
        "outputId": "d8fef13a-dcdb-4cdc-c638-1cd529a93054"
      },
      "outputs": [
        {
          "output_type": "execute_result",
          "data": {
            "text/plain": [
              "rooms_count\n",
              "دو              235957\n",
              "NaN             111457\n",
              "یک               89218\n",
              "سه               83953\n",
              "بدون اتاق        23897\n",
              "چهار             14029\n",
              "پنج یا بیشتر      7933\n",
              "Name: count, dtype: int64"
            ],
            "text/html": [
              "<div>\n",
              "<style scoped>\n",
              "    .dataframe tbody tr th:only-of-type {\n",
              "        vertical-align: middle;\n",
              "    }\n",
              "\n",
              "    .dataframe tbody tr th {\n",
              "        vertical-align: top;\n",
              "    }\n",
              "\n",
              "    .dataframe thead th {\n",
              "        text-align: right;\n",
              "    }\n",
              "</style>\n",
              "<table border=\"1\" class=\"dataframe\">\n",
              "  <thead>\n",
              "    <tr style=\"text-align: right;\">\n",
              "      <th></th>\n",
              "      <th>count</th>\n",
              "    </tr>\n",
              "    <tr>\n",
              "      <th>rooms_count</th>\n",
              "      <th></th>\n",
              "    </tr>\n",
              "  </thead>\n",
              "  <tbody>\n",
              "    <tr>\n",
              "      <th>دو</th>\n",
              "      <td>235957</td>\n",
              "    </tr>\n",
              "    <tr>\n",
              "      <th>NaN</th>\n",
              "      <td>111457</td>\n",
              "    </tr>\n",
              "    <tr>\n",
              "      <th>یک</th>\n",
              "      <td>89218</td>\n",
              "    </tr>\n",
              "    <tr>\n",
              "      <th>سه</th>\n",
              "      <td>83953</td>\n",
              "    </tr>\n",
              "    <tr>\n",
              "      <th>بدون اتاق</th>\n",
              "      <td>23897</td>\n",
              "    </tr>\n",
              "    <tr>\n",
              "      <th>چهار</th>\n",
              "      <td>14029</td>\n",
              "    </tr>\n",
              "    <tr>\n",
              "      <th>پنج یا بیشتر</th>\n",
              "      <td>7933</td>\n",
              "    </tr>\n",
              "  </tbody>\n",
              "</table>\n",
              "</div><br><label><b>dtype:</b> int64</label>"
            ]
          },
          "metadata": {},
          "execution_count": 80
        }
      ],
      "source": [
        "df['rooms_count'].value_counts(dropna=False)\n"
      ]
    },
    {
      "cell_type": "code",
      "execution_count": 81,
      "metadata": {
        "colab": {
          "base_uri": "https://localhost:8080/"
        },
        "id": "IDisAyn56UGw",
        "outputId": "77b647ef-5931-4e7c-c067-bfca08db08c0"
      },
      "outputs": [
        {
          "output_type": "stream",
          "name": "stderr",
          "text": [
            "/tmp/ipython-input-1628126833.py:10: FutureWarning: Downcasting behavior in `replace` is deprecated and will be removed in a future version. To retain the old behavior, explicitly call `result.infer_objects(copy=False)`. To opt-in to the future behavior, set `pd.set_option('future.no_silent_downcasting', True)`\n",
            "  df['rooms_count'] = df['rooms_count'].replace(mapping)\n"
          ]
        }
      ],
      "source": [
        "mapping = {\n",
        "    \"یک\": 1,\n",
        "    \"دو\": 2,\n",
        "    \"سه\": 3,\n",
        "    \"چهار\": 4,\n",
        "    \"پنج یا بیشتر\": 5,\n",
        "    \"بدون اتاق\": 0\n",
        "}\n",
        "\n",
        "df['rooms_count'] = df['rooms_count'].replace(mapping)"
      ]
    },
    {
      "cell_type": "code",
      "execution_count": 82,
      "metadata": {
        "colab": {
          "base_uri": "https://localhost:8080/",
          "height": 335
        },
        "id": "26P2fAWB6ae1",
        "outputId": "5811e4ca-3248-47ff-9e96-56de700541db"
      },
      "outputs": [
        {
          "output_type": "execute_result",
          "data": {
            "text/plain": [
              "rooms_count\n",
              "2.0    235957\n",
              "NaN    111457\n",
              "1.0     89218\n",
              "3.0     83953\n",
              "0.0     23897\n",
              "4.0     14029\n",
              "5.0      7933\n",
              "Name: count, dtype: int64"
            ],
            "text/html": [
              "<div>\n",
              "<style scoped>\n",
              "    .dataframe tbody tr th:only-of-type {\n",
              "        vertical-align: middle;\n",
              "    }\n",
              "\n",
              "    .dataframe tbody tr th {\n",
              "        vertical-align: top;\n",
              "    }\n",
              "\n",
              "    .dataframe thead th {\n",
              "        text-align: right;\n",
              "    }\n",
              "</style>\n",
              "<table border=\"1\" class=\"dataframe\">\n",
              "  <thead>\n",
              "    <tr style=\"text-align: right;\">\n",
              "      <th></th>\n",
              "      <th>count</th>\n",
              "    </tr>\n",
              "    <tr>\n",
              "      <th>rooms_count</th>\n",
              "      <th></th>\n",
              "    </tr>\n",
              "  </thead>\n",
              "  <tbody>\n",
              "    <tr>\n",
              "      <th>2.0</th>\n",
              "      <td>235957</td>\n",
              "    </tr>\n",
              "    <tr>\n",
              "      <th>NaN</th>\n",
              "      <td>111457</td>\n",
              "    </tr>\n",
              "    <tr>\n",
              "      <th>1.0</th>\n",
              "      <td>89218</td>\n",
              "    </tr>\n",
              "    <tr>\n",
              "      <th>3.0</th>\n",
              "      <td>83953</td>\n",
              "    </tr>\n",
              "    <tr>\n",
              "      <th>0.0</th>\n",
              "      <td>23897</td>\n",
              "    </tr>\n",
              "    <tr>\n",
              "      <th>4.0</th>\n",
              "      <td>14029</td>\n",
              "    </tr>\n",
              "    <tr>\n",
              "      <th>5.0</th>\n",
              "      <td>7933</td>\n",
              "    </tr>\n",
              "  </tbody>\n",
              "</table>\n",
              "</div><br><label><b>dtype:</b> int64</label>"
            ]
          },
          "metadata": {},
          "execution_count": 82
        }
      ],
      "source": [
        "df['rooms_count'].value_counts(dropna=False)\n"
      ]
    },
    {
      "cell_type": "code",
      "execution_count": 83,
      "metadata": {
        "id": "GQggUZxZRSVK"
      },
      "outputs": [],
      "source": [
        "group_temp = (\n",
        "    df.groupby('building_size')['rooms_count']\n",
        "      .median()\n",
        "      .reset_index()\n",
        "      .rename(columns={'rooms_count': 'med'})\n",
        ")\n",
        "\n",
        "df['rooms_count'] = df['rooms_count'].fillna(\n",
        "    df[['building_size']].merge(group_temp, on='building_size')['med']\n",
        ")\n",
        "\n",
        "df['rooms_count'] = df['rooms_count'].fillna(df['rooms_count'].median())\n",
        "\n",
        "\n",
        "df['rooms_count'] = df['rooms_count'].round().astype(int)\n",
        "\n",
        "\n"
      ]
    },
    {
      "cell_type": "code",
      "execution_count": 84,
      "metadata": {
        "colab": {
          "base_uri": "https://localhost:8080/"
        },
        "id": "h4Ip27DZSTjR",
        "outputId": "438d3d92-4570-4155-d777-804c92abc612"
      },
      "outputs": [
        {
          "output_type": "stream",
          "name": "stdout",
          "text": [
            "0\n"
          ]
        }
      ],
      "source": [
        "print(df['rooms_count'].isna().sum())\n"
      ]
    },
    {
      "cell_type": "code",
      "execution_count": 85,
      "metadata": {
        "colab": {
          "base_uri": "https://localhost:8080/"
        },
        "id": "brC9gU9sTTnS",
        "outputId": "79649ecf-9d4b-4859-8e5f-a838d24f7105"
      },
      "outputs": [
        {
          "output_type": "stream",
          "name": "stdout",
          "text": [
            "                         nan_count  nan_percent\n",
            "price_value                      0          0.0\n",
            "land_size                      585          0.1\n",
            "building_size                  582          0.1\n",
            "regular_person_capacity     566444        100.0\n",
            "rooms_count                      0          0.0\n",
            "location_latitude                0          0.0\n",
            "location_longitude               0          0.0\n"
          ]
        }
      ],
      "source": [
        "nan_count = df[cols].isna().sum()\n",
        "\n",
        "\n",
        "nan_percent = (nan_count / len(df) * 100).round(2)\n",
        "\n",
        "\n",
        "result = pd.DataFrame({\n",
        "    'nan_count': nan_count,\n",
        "    'nan_percent': nan_percent\n",
        "})\n",
        "\n",
        "print(result)"
      ]
    },
    {
      "cell_type": "code",
      "execution_count": 86,
      "metadata": {
        "colab": {
          "base_uri": "https://localhost:8080/",
          "height": 774
        },
        "id": "YZQ1_-6z7FBM",
        "outputId": "afa7e54b-69cf-4c8d-8956-56b36998be7f"
      },
      "outputs": [
        {
          "output_type": "stream",
          "name": "stderr",
          "text": [
            "/usr/local/lib/python3.12/dist-packages/seaborn/matrix.py:202: RuntimeWarning: All-NaN slice encountered\n",
            "  vmin = np.nanmin(calc_data)\n",
            "/usr/local/lib/python3.12/dist-packages/seaborn/matrix.py:207: RuntimeWarning: All-NaN slice encountered\n",
            "  vmax = np.nanmax(calc_data)\n"
          ]
        },
        {
          "output_type": "display_data",
          "data": {
            "text/plain": [
              "<Figure size 800x600 with 2 Axes>"
            ],
            "image/png": "[encoded data removed]"
          },
          "metadata": {}
        }
      ],
      "source": [
        "df_clean = df[cols].dropna()\n",
        "\n",
        "corr_matrix = df_clean.corr()\n",
        "\n",
        "plt.figure(figsize=(8,6))\n",
        "sns.heatmap(corr_matrix, annot=True, fmt=\".2f\", cmap='coolwarm')\n",
        "plt.title(\"Correlation Matrix\")\n",
        "plt.show()"
      ]
    },
    {
      "cell_type": "code",
      "execution_count": 87,
      "metadata": {
        "colab": {
          "base_uri": "https://localhost:8080/",
          "height": 549
        },
        "id": "FlVAa14r7q_9",
        "outputId": "9af95cd3-29b1-4285-ce04-2baa87e0569e"
      },
      "outputs": [
        {
          "output_type": "display_data",
          "data": {
            "text/plain": [
              "<Figure size 640x480 with 2 Axes>"
            ],
            "image/png": "[encoded data removed]"
          },
          "metadata": {}
        }
      ],
      "source": [
        "df = df.drop(columns=['regular_person_capacity'])\n",
        "\n",
        "cols2 = [\n",
        "    'price_value',\n",
        "    'land_size',\n",
        "    'building_size',\n",
        "    'rooms_count',\n",
        "    'location_latitude',\n",
        "    'location_longitude'\n",
        "]\n",
        "\n",
        "df_clean = df[cols2].dropna()\n",
        "\n",
        "sns.heatmap(df_clean.corr(), annot=True, fmt=\".2f\", cmap='coolwarm')\n",
        "plt.show()\n",
        "\n",
        "\n"
      ]
    }
  ],
  "metadata": {
    "colab": {
      "provenance": [],
      "authorship_tag": "ABX9TyP6CRXSxFLdwbB8dc8kkyUZ",
      "include_colab_link": true
    },
    "kernelspec": {
      "display_name": "Python 3",
      "name": "python3"
    },
    "language_info": {
      "name": "python"
    }
  },
  "nbformat": 4,
  "nbformat_minor": 0
}