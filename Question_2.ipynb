{
  "nbformat": 4,
  "nbformat_minor": 0,
  "metadata": {
    "colab": {
      "provenance": [],
      "authorship_tag": "ABX9TyMXA1Pf76MDN8+6loz7KZzh",
      "include_colab_link": true
    },
    "kernelspec": {
      "name": "python3",
      "display_name": "Python 3"
    },
    "language_info": {
      "name": "python"
    }
  },
  "cells": [
    {
      "cell_type": "markdown",
      "metadata": {
        "id": "view-in-github",
        "colab_type": "text"
      },
      "source": [
        "<a href=\"https://colab.research.google.com/github/majiddaeinejad/quera-ai-bootcamp-divar/blob/statistical_analysis/Question_2.ipynb\" target=\"_parent\"><img src=\"https://colab.research.google.com/assets/colab-badge.svg\" alt=\"Open In Colab\"/></a>"
      ]
    },
    {
      "cell_type": "markdown",
      "source": [
        "Setup cell"
      ],
      "metadata": {
        "id": "23NvQxliP7hE"
      }
    },
    {
      "cell_type": "code",
      "source": [
        "!pip install arabic-reshaper python-bidi jdatetime utm --quiet\n",
        "\n",
        "import numpy as np\n",
        "import pandas as pd\n",
        "import seaborn as sns\n",
        "import matplotlib.pyplot as plt\n",
        "from matplotlib import rcParams\n",
        "import arabic_reshaper\n",
        "from bidi.algorithm import get_display\n",
        "import jdatetime\n",
        "\n",
        "import geopandas as gpd\n",
        "from shapely.geometry import Polygon\n",
        "import folium\n",
        "from branca.colormap import StepColormap\n",
        "\n",
        "\n",
        "rcParams['font.family'] = 'DejaVu Sans'\n",
        "\n",
        "def fa_label(text):\n",
        "    return get_display(arabic_reshaper.reshape(text))"
      ],
      "metadata": {
        "colab": {
          "base_uri": "https://localhost:8080/"
        },
        "id": "1g4e9wdGQLwB",
        "outputId": "a712bb26-83e3-4c13-d089-fc8a0a38a1dd"
      },
      "execution_count": 1,
      "outputs": [
        {
          "output_type": "stream",
          "name": "stdout",
          "text": [
            "\u001b[?25l   \u001b[90m━━━━━━━━━━━━━━━━━━━━━━━━━━━━━━━━━━━━━━━━\u001b[0m \u001b[32m0.0/292.1 kB\u001b[0m \u001b[31m?\u001b[0m eta \u001b[36m-:--:--\u001b[0m\r\u001b[2K   \u001b[91m━━━━━━━━━━━━━━━━━━━━━━━━━━━━━━━━━━━━━━━\u001b[0m\u001b[90m╺\u001b[0m \u001b[32m286.7/292.1 kB\u001b[0m \u001b[31m10.5 MB/s\u001b[0m eta \u001b[36m0:00:01\u001b[0m\r\u001b[2K   \u001b[90m━━━━━━━━━━━━━━━━━━━━━━━━━━━━━━━━━━━━━━━━\u001b[0m \u001b[32m292.1/292.1 kB\u001b[0m \u001b[31m7.3 MB/s\u001b[0m eta \u001b[36m0:00:00\u001b[0m\n",
            "\u001b[?25h"
          ]
        }
      ]
    },
    {
      "cell_type": "markdown",
      "source": [
        "Load data"
      ],
      "metadata": {
        "id": "4NoXCycEQYKP"
      }
    },
    {
      "cell_type": "code",
      "source": [
        "from google.colab import drive\n",
        "\n",
        "drive.mount('/content/drive', force_remount=True)\n",
        "\n",
        "\n",
        "file_path = '/content/drive/MyDrive/Colab Notebooks/Divar.csv'\n",
        "\n",
        "\n",
        "df = pd.read_csv(file_path , encoding='utf-8')"
      ],
      "metadata": {
        "colab": {
          "base_uri": "https://localhost:8080/"
        },
        "id": "waK4oQ07Qfut",
        "outputId": "d1aaab31-3a70-43ba-af5c-e446d44d1415"
      },
      "execution_count": 2,
      "outputs": [
        {
          "output_type": "stream",
          "name": "stdout",
          "text": [
            "Mounted at /content/drive\n"
          ]
        },
        {
          "output_type": "stream",
          "name": "stderr",
          "text": [
            "/tmp/ipython-input-1578516001.py:9: DtypeWarning: Columns (11,27,29,53) have mixed types. Specify dtype option on import or set low_memory=False.\n",
            "  df = pd.read_csv(file_path , encoding='utf-8')\n"
          ]
        }
      ]
    },
    {
      "cell_type": "markdown",
      "source": [
        "هیستوگرام سال ساخت را رسم کنید\n",
        "\n"
      ],
      "metadata": {
        "id": "DqZsEOGcQxx6"
      }
    },
    {
      "cell_type": "code",
      "source": [
        "col_type = df['construction_year'].dtype.name\n",
        "col_type"
      ],
      "metadata": {
        "colab": {
          "base_uri": "https://localhost:8080/",
          "height": 35
        },
        "id": "3ImumOCtsxC0",
        "outputId": "e6409cd2-7c93-4cfc-a01f-0c4027f3b0eb"
      },
      "execution_count": 3,
      "outputs": [
        {
          "output_type": "execute_result",
          "data": {
            "text/plain": [
              "'object'"
            ],
            "application/vnd.google.colaboratory.intrinsic+json": {
              "type": "string"
            }
          },
          "metadata": {},
          "execution_count": 3
        }
      ]
    },
    {
      "cell_type": "code",
      "source": [
        "nan_count = df['construction_year'].isna().sum()\n",
        "nan_percent = (nan_count / len(df)) * 100\n",
        "nan_percent"
      ],
      "metadata": {
        "colab": {
          "base_uri": "https://localhost:8080/"
        },
        "id": "HZ1Qqvsasa7f",
        "outputId": "a2f18c1d-ff29-4513-dd0d-cb1edde5d9c2"
      },
      "execution_count": 4,
      "outputs": [
        {
          "output_type": "execute_result",
          "data": {
            "text/plain": [
              "np.float64(18.4172)"
            ]
          },
          "metadata": {},
          "execution_count": 4
        }
      ]
    },
    {
      "cell_type": "code",
      "source": [
        "print(df['construction_year'].unique())\n"
      ],
      "metadata": {
        "colab": {
          "base_uri": "https://localhost:8080/"
        },
        "id": "GYqFHSm7Q41P",
        "outputId": "7b3807ce-e3b1-4ff5-bece-40bdb78f634e"
      },
      "execution_count": 5,
      "outputs": [
        {
          "output_type": "stream",
          "name": "stdout",
          "text": [
            "[nan '۱۳۸۴' '۱۴۰۱' '۱۴۰۰' '۱۴۰۳' '۱۳۸۹' '۱۳۹۵' '۱۳۹۳' '۱۳۹۶' '۱۳۸۷' '۱۳۸۵'\n",
            " '۱۳۹۰' '۱۳۹۸' '۱۴۰۲' '۱۳۸۸' 'قبل از ۱۳۷۰' '۱۳۹۲' '۱۳۸۳' '۱۳۹۴' '۱۳۹۱'\n",
            " '۱۳۸۰' '۱۳۷۸' '۱۳۷۵' '۱۳۹۷' '۱۳۹۹' '۱۳۸۲' '۱۳۸۶' '۱۳۷۹' '۱۳۷۲' '۱۳۷۴'\n",
            " '۱۳۷۶' '۱۳۷۷' '۱۳۷۱' '۱۳۸۱' '۱۳۷۳']\n"
          ]
        }
      ]
    },
    {
      "cell_type": "code",
      "source": [
        "df['construction_year'].value_counts()\n"
      ],
      "metadata": {
        "colab": {
          "base_uri": "https://localhost:8080/",
          "height": 1000
        },
        "id": "0EGc7MTFQ-b0",
        "outputId": "51f903bb-f50a-4cca-faba-f69fe0334ec2"
      },
      "execution_count": 6,
      "outputs": [
        {
          "output_type": "execute_result",
          "data": {
            "text/plain": [
              "construction_year\n",
              "۱۴۰۳           116260\n",
              "۱۳۹۰            59139\n",
              "۱۴۰۲            58424\n",
              "۱۴۰۰            53674\n",
              "۱۳۹۵            53029\n",
              "۱۳۹۸            38207\n",
              "۱۳۹۷            36326\n",
              "۱۳۹۶            35487\n",
              "۱۴۰۱            35328\n",
              "۱۳۸۵            34065\n",
              "۱۳۹۹            29594\n",
              "۱۳۹۳            29094\n",
              "۱۳۹۲            26130\n",
              "۱۳۹۴            26110\n",
              "۱۳۸۸            24268\n",
              "۱۳۸۰            23480\n",
              "قبل از ۱۳۷۰     20637\n",
              "۱۳۸۹            16755\n",
              "۱۳۹۱            16316\n",
              "۱۳۸۷            14136\n",
              "۱۳۸۶            13468\n",
              "۱۳۸۳             9894\n",
              "۱۳۸۴             8494\n",
              "۱۳۷۵             7247\n",
              "۱۳۸۲             6965\n",
              "۱۳۷۱             5531\n",
              "۱۳۸۱             3590\n",
              "۱۳۷۸             3025\n",
              "۱۳۷۹             2415\n",
              "۱۳۷۷             2117\n",
              "۱۳۷۲             1914\n",
              "۱۳۷۳             1827\n",
              "۱۳۷۶             1593\n",
              "۱۳۷۴             1289\n",
              "Name: count, dtype: int64"
            ],
            "text/html": [
              "<div>\n",
              "<style scoped>\n",
              "    .dataframe tbody tr th:only-of-type {\n",
              "        vertical-align: middle;\n",
              "    }\n",
              "\n",
              "    .dataframe tbody tr th {\n",
              "        vertical-align: top;\n",
              "    }\n",
              "\n",
              "    .dataframe thead th {\n",
              "        text-align: right;\n",
              "    }\n",
              "</style>\n",
              "<table border=\"1\" class=\"dataframe\">\n",
              "  <thead>\n",
              "    <tr style=\"text-align: right;\">\n",
              "      <th></th>\n",
              "      <th>count</th>\n",
              "    </tr>\n",
              "    <tr>\n",
              "      <th>construction_year</th>\n",
              "      <th></th>\n",
              "    </tr>\n",
              "  </thead>\n",
              "  <tbody>\n",
              "    <tr>\n",
              "      <th>۱۴۰۳</th>\n",
              "      <td>116260</td>\n",
              "    </tr>\n",
              "    <tr>\n",
              "      <th>۱۳۹۰</th>\n",
              "      <td>59139</td>\n",
              "    </tr>\n",
              "    <tr>\n",
              "      <th>۱۴۰۲</th>\n",
              "      <td>58424</td>\n",
              "    </tr>\n",
              "    <tr>\n",
              "      <th>۱۴۰۰</th>\n",
              "      <td>53674</td>\n",
              "    </tr>\n",
              "    <tr>\n",
              "      <th>۱۳۹۵</th>\n",
              "      <td>53029</td>\n",
              "    </tr>\n",
              "    <tr>\n",
              "      <th>۱۳۹۸</th>\n",
              "      <td>38207</td>\n",
              "    </tr>\n",
              "    <tr>\n",
              "      <th>۱۳۹۷</th>\n",
              "      <td>36326</td>\n",
              "    </tr>\n",
              "    <tr>\n",
              "      <th>۱۳۹۶</th>\n",
              "      <td>35487</td>\n",
              "    </tr>\n",
              "    <tr>\n",
              "      <th>۱۴۰۱</th>\n",
              "      <td>35328</td>\n",
              "    </tr>\n",
              "    <tr>\n",
              "      <th>۱۳۸۵</th>\n",
              "      <td>34065</td>\n",
              "    </tr>\n",
              "    <tr>\n",
              "      <th>۱۳۹۹</th>\n",
              "      <td>29594</td>\n",
              "    </tr>\n",
              "    <tr>\n",
              "      <th>۱۳۹۳</th>\n",
              "      <td>29094</td>\n",
              "    </tr>\n",
              "    <tr>\n",
              "      <th>۱۳۹۲</th>\n",
              "      <td>26130</td>\n",
              "    </tr>\n",
              "    <tr>\n",
              "      <th>۱۳۹۴</th>\n",
              "      <td>26110</td>\n",
              "    </tr>\n",
              "    <tr>\n",
              "      <th>۱۳۸۸</th>\n",
              "      <td>24268</td>\n",
              "    </tr>\n",
              "    <tr>\n",
              "      <th>۱۳۸۰</th>\n",
              "      <td>23480</td>\n",
              "    </tr>\n",
              "    <tr>\n",
              "      <th>قبل از ۱۳۷۰</th>\n",
              "      <td>20637</td>\n",
              "    </tr>\n",
              "    <tr>\n",
              "      <th>۱۳۸۹</th>\n",
              "      <td>16755</td>\n",
              "    </tr>\n",
              "    <tr>\n",
              "      <th>۱۳۹۱</th>\n",
              "      <td>16316</td>\n",
              "    </tr>\n",
              "    <tr>\n",
              "      <th>۱۳۸۷</th>\n",
              "      <td>14136</td>\n",
              "    </tr>\n",
              "    <tr>\n",
              "      <th>۱۳۸۶</th>\n",
              "      <td>13468</td>\n",
              "    </tr>\n",
              "    <tr>\n",
              "      <th>۱۳۸۳</th>\n",
              "      <td>9894</td>\n",
              "    </tr>\n",
              "    <tr>\n",
              "      <th>۱۳۸۴</th>\n",
              "      <td>8494</td>\n",
              "    </tr>\n",
              "    <tr>\n",
              "      <th>۱۳۷۵</th>\n",
              "      <td>7247</td>\n",
              "    </tr>\n",
              "    <tr>\n",
              "      <th>۱۳۸۲</th>\n",
              "      <td>6965</td>\n",
              "    </tr>\n",
              "    <tr>\n",
              "      <th>۱۳۷۱</th>\n",
              "      <td>5531</td>\n",
              "    </tr>\n",
              "    <tr>\n",
              "      <th>۱۳۸۱</th>\n",
              "      <td>3590</td>\n",
              "    </tr>\n",
              "    <tr>\n",
              "      <th>۱۳۷۸</th>\n",
              "      <td>3025</td>\n",
              "    </tr>\n",
              "    <tr>\n",
              "      <th>۱۳۷۹</th>\n",
              "      <td>2415</td>\n",
              "    </tr>\n",
              "    <tr>\n",
              "      <th>۱۳۷۷</th>\n",
              "      <td>2117</td>\n",
              "    </tr>\n",
              "    <tr>\n",
              "      <th>۱۳۷۲</th>\n",
              "      <td>1914</td>\n",
              "    </tr>\n",
              "    <tr>\n",
              "      <th>۱۳۷۳</th>\n",
              "      <td>1827</td>\n",
              "    </tr>\n",
              "    <tr>\n",
              "      <th>۱۳۷۶</th>\n",
              "      <td>1593</td>\n",
              "    </tr>\n",
              "    <tr>\n",
              "      <th>۱۳۷۴</th>\n",
              "      <td>1289</td>\n",
              "    </tr>\n",
              "  </tbody>\n",
              "</table>\n",
              "</div><br><label><b>dtype:</b> int64</label>"
            ]
          },
          "metadata": {},
          "execution_count": 6
        }
      ]
    },
    {
      "cell_type": "markdown",
      "source": [
        "Drop nan values"
      ],
      "metadata": {
        "id": "porFGdd0tWuk"
      }
    },
    {
      "cell_type": "code",
      "source": [
        "df_clean = df.dropna(subset=['construction_year']).copy()"
      ],
      "metadata": {
        "id": "008uVhRftRqV"
      },
      "execution_count": 7,
      "outputs": []
    },
    {
      "cell_type": "code",
      "source": [
        "year_counts = df_clean['construction_year'].value_counts().sort_index()\n",
        "\n",
        "labels = [fa_label(label) for label in year_counts.index]\n",
        "\n",
        "plt.figure(figsize=(14, 6))\n",
        "plt.bar(labels, year_counts.values, color='skyblue', edgecolor='black')\n",
        "plt.title(fa_label('هیستوگرام سال ساخت'))\n",
        "plt.xlabel(fa_label('سال ساخت'))\n",
        "plt.ylabel(fa_label('تعداد'))\n",
        "plt.xticks(rotation=45)\n",
        "plt.grid(axis='y')\n",
        "plt.tight_layout()\n",
        "plt.show()\n",
        "\n"
      ],
      "metadata": {
        "colab": {
          "base_uri": "https://localhost:8080/",
          "height": 607
        },
        "id": "ikYdKm5YRE7Q",
        "outputId": "75378162-f9b8-46ca-e97d-6ece62a5b064"
      },
      "execution_count": 8,
      "outputs": [
        {
          "output_type": "display_data",
          "data": {
            "text/plain": [
              "<Figure size 1400x600 with 1 Axes>"
            ],
            "image/png": "[encoded data removed]"
          },
          "metadata": {}
        }
      ]
    }
  ]
}